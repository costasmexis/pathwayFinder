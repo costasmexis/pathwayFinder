{
 "cells": [
  {
   "cell_type": "code",
   "execution_count": 7,
   "id": "9227266f",
   "metadata": {},
   "outputs": [
    {
     "name": "stdout",
     "output_type": "stream",
     "text": [
      "CC(C)CC(=O)OCCC(=CCC=C(C)C)C\n"
     ]
    }
   ],
   "source": [
    "import pubchempy as pcp\n",
    "\n",
    "# get the Compound object using the CID\n",
    "compound = pcp.Compound.from_cid(7982)\n",
    "\n",
    "# get the SMILES string of the compound\n",
    "smiles = compound.isomeric_smiles\n",
    "\n",
    "print(smiles)"
   ]
  },
  {
   "cell_type": "code",
   "execution_count": 8,
   "id": "87c75952",
   "metadata": {},
   "outputs": [
    {
     "name": "stderr",
     "output_type": "stream",
     "text": [
      "/home/comex/Desktop/python-envs/main-bio/lib/python3.9/site-packages/pubchempy.py:563: SyntaxWarning: \"is not\" with a literal. Did you mean \"!=\"?\n",
      "  if self.charge is not 0:\n",
      "/home/comex/Desktop/python-envs/main-bio/lib/python3.9/site-packages/pubchempy.py:563: SyntaxWarning: \"is not\" with a literal. Did you mean \"!=\"?\n",
      "  if self.charge is not 0:\n",
      "/home/comex/Desktop/python-envs/main-bio/lib/python3.9/site-packages/pubchempy.py:563: SyntaxWarning: \"is not\" with a literal. Did you mean \"!=\"?\n",
      "  if self.charge is not 0:\n",
      "/home/comex/Desktop/python-envs/main-bio/lib/python3.9/site-packages/pubchempy.py:563: SyntaxWarning: \"is not\" with a literal. Did you mean \"!=\"?\n",
      "  if self.charge is not 0:\n",
      "/home/comex/Desktop/python-envs/main-bio/lib/python3.9/site-packages/pubchempy.py:563: SyntaxWarning: \"is not\" with a literal. Did you mean \"!=\"?\n",
      "  if self.charge is not 0:\n",
      "/home/comex/Desktop/python-envs/main-bio/lib/python3.9/site-packages/pubchempy.py:563: SyntaxWarning: \"is not\" with a literal. Did you mean \"!=\"?\n",
      "  if self.charge is not 0:\n",
      "/home/comex/Desktop/python-envs/main-bio/lib/python3.9/site-packages/pubchempy.py:563: SyntaxWarning: \"is not\" with a literal. Did you mean \"!=\"?\n",
      "  if self.charge is not 0:\n",
      "/home/comex/Desktop/python-envs/main-bio/lib/python3.9/site-packages/pubchempy.py:563: SyntaxWarning: \"is not\" with a literal. Did you mean \"!=\"?\n",
      "  if self.charge is not 0:\n",
      "/home/comex/Desktop/python-envs/main-bio/lib/python3.9/site-packages/pubchempy.py:563: SyntaxWarning: \"is not\" with a literal. Did you mean \"!=\"?\n",
      "  if self.charge is not 0:\n",
      "/home/comex/Desktop/python-envs/main-bio/lib/python3.9/site-packages/pubchempy.py:563: SyntaxWarning: \"is not\" with a literal. Did you mean \"!=\"?\n",
      "  if self.charge is not 0:\n",
      "/home/comex/Desktop/python-envs/main-bio/lib/python3.9/site-packages/pubchempy.py:563: SyntaxWarning: \"is not\" with a literal. Did you mean \"!=\"?\n",
      "  if self.charge is not 0:\n",
      "/home/comex/Desktop/python-envs/main-bio/lib/python3.9/site-packages/pubchempy.py:563: SyntaxWarning: \"is not\" with a literal. Did you mean \"!=\"?\n",
      "  if self.charge is not 0:\n",
      "/home/comex/Desktop/python-envs/main-bio/lib/python3.9/site-packages/pubchempy.py:563: SyntaxWarning: \"is not\" with a literal. Did you mean \"!=\"?\n",
      "  if self.charge is not 0:\n"
     ]
    },
    {
     "ename": "BadRequestError",
     "evalue": "'PUGREST.BadRequest'",
     "output_type": "error",
     "traceback": [
      "\u001b[0;31m---------------------------------------------------------------------------\u001b[0m",
      "\u001b[0;31mHTTPError\u001b[0m                                 Traceback (most recent call last)",
      "File \u001b[0;32m~/Desktop/python-envs/main-bio/lib/python3.9/site-packages/pubchempy.py:271\u001b[0m, in \u001b[0;36mrequest\u001b[0;34m(identifier, namespace, domain, operation, output, searchtype, **kwargs)\u001b[0m\n\u001b[1;32m    270\u001b[0m log\u001b[38;5;241m.\u001b[39mdebug(\u001b[38;5;124m'\u001b[39m\u001b[38;5;124mRequest data: \u001b[39m\u001b[38;5;132;01m%s\u001b[39;00m\u001b[38;5;124m'\u001b[39m, postdata)\n\u001b[0;32m--> 271\u001b[0m response \u001b[38;5;241m=\u001b[39m \u001b[43murlopen\u001b[49m\u001b[43m(\u001b[49m\u001b[43mapiurl\u001b[49m\u001b[43m,\u001b[49m\u001b[43m \u001b[49m\u001b[43mpostdata\u001b[49m\u001b[43m)\u001b[49m\n\u001b[1;32m    272\u001b[0m \u001b[38;5;28;01mreturn\u001b[39;00m response\n",
      "File \u001b[0;32m~/.pyenv/versions/3.9.10/lib/python3.9/urllib/request.py:214\u001b[0m, in \u001b[0;36murlopen\u001b[0;34m(url, data, timeout, cafile, capath, cadefault, context)\u001b[0m\n\u001b[1;32m    213\u001b[0m     opener \u001b[38;5;241m=\u001b[39m _opener\n\u001b[0;32m--> 214\u001b[0m \u001b[38;5;28;01mreturn\u001b[39;00m \u001b[43mopener\u001b[49m\u001b[38;5;241;43m.\u001b[39;49m\u001b[43mopen\u001b[49m\u001b[43m(\u001b[49m\u001b[43murl\u001b[49m\u001b[43m,\u001b[49m\u001b[43m \u001b[49m\u001b[43mdata\u001b[49m\u001b[43m,\u001b[49m\u001b[43m \u001b[49m\u001b[43mtimeout\u001b[49m\u001b[43m)\u001b[49m\n",
      "File \u001b[0;32m~/.pyenv/versions/3.9.10/lib/python3.9/urllib/request.py:523\u001b[0m, in \u001b[0;36mOpenerDirector.open\u001b[0;34m(self, fullurl, data, timeout)\u001b[0m\n\u001b[1;32m    522\u001b[0m     meth \u001b[38;5;241m=\u001b[39m \u001b[38;5;28mgetattr\u001b[39m(processor, meth_name)\n\u001b[0;32m--> 523\u001b[0m     response \u001b[38;5;241m=\u001b[39m \u001b[43mmeth\u001b[49m\u001b[43m(\u001b[49m\u001b[43mreq\u001b[49m\u001b[43m,\u001b[49m\u001b[43m \u001b[49m\u001b[43mresponse\u001b[49m\u001b[43m)\u001b[49m\n\u001b[1;32m    525\u001b[0m \u001b[38;5;28;01mreturn\u001b[39;00m response\n",
      "File \u001b[0;32m~/.pyenv/versions/3.9.10/lib/python3.9/urllib/request.py:632\u001b[0m, in \u001b[0;36mHTTPErrorProcessor.http_response\u001b[0;34m(self, request, response)\u001b[0m\n\u001b[1;32m    631\u001b[0m \u001b[38;5;28;01mif\u001b[39;00m \u001b[38;5;129;01mnot\u001b[39;00m (\u001b[38;5;241m200\u001b[39m \u001b[38;5;241m<\u001b[39m\u001b[38;5;241m=\u001b[39m code \u001b[38;5;241m<\u001b[39m \u001b[38;5;241m300\u001b[39m):\n\u001b[0;32m--> 632\u001b[0m     response \u001b[38;5;241m=\u001b[39m \u001b[38;5;28;43mself\u001b[39;49m\u001b[38;5;241;43m.\u001b[39;49m\u001b[43mparent\u001b[49m\u001b[38;5;241;43m.\u001b[39;49m\u001b[43merror\u001b[49m\u001b[43m(\u001b[49m\n\u001b[1;32m    633\u001b[0m \u001b[43m        \u001b[49m\u001b[38;5;124;43m'\u001b[39;49m\u001b[38;5;124;43mhttp\u001b[39;49m\u001b[38;5;124;43m'\u001b[39;49m\u001b[43m,\u001b[49m\u001b[43m \u001b[49m\u001b[43mrequest\u001b[49m\u001b[43m,\u001b[49m\u001b[43m \u001b[49m\u001b[43mresponse\u001b[49m\u001b[43m,\u001b[49m\u001b[43m \u001b[49m\u001b[43mcode\u001b[49m\u001b[43m,\u001b[49m\u001b[43m \u001b[49m\u001b[43mmsg\u001b[49m\u001b[43m,\u001b[49m\u001b[43m \u001b[49m\u001b[43mhdrs\u001b[49m\u001b[43m)\u001b[49m\n\u001b[1;32m    635\u001b[0m \u001b[38;5;28;01mreturn\u001b[39;00m response\n",
      "File \u001b[0;32m~/.pyenv/versions/3.9.10/lib/python3.9/urllib/request.py:561\u001b[0m, in \u001b[0;36mOpenerDirector.error\u001b[0;34m(self, proto, *args)\u001b[0m\n\u001b[1;32m    560\u001b[0m args \u001b[38;5;241m=\u001b[39m (\u001b[38;5;28mdict\u001b[39m, \u001b[38;5;124m'\u001b[39m\u001b[38;5;124mdefault\u001b[39m\u001b[38;5;124m'\u001b[39m, \u001b[38;5;124m'\u001b[39m\u001b[38;5;124mhttp_error_default\u001b[39m\u001b[38;5;124m'\u001b[39m) \u001b[38;5;241m+\u001b[39m orig_args\n\u001b[0;32m--> 561\u001b[0m \u001b[38;5;28;01mreturn\u001b[39;00m \u001b[38;5;28;43mself\u001b[39;49m\u001b[38;5;241;43m.\u001b[39;49m\u001b[43m_call_chain\u001b[49m\u001b[43m(\u001b[49m\u001b[38;5;241;43m*\u001b[39;49m\u001b[43margs\u001b[49m\u001b[43m)\u001b[49m\n",
      "File \u001b[0;32m~/.pyenv/versions/3.9.10/lib/python3.9/urllib/request.py:494\u001b[0m, in \u001b[0;36mOpenerDirector._call_chain\u001b[0;34m(self, chain, kind, meth_name, *args)\u001b[0m\n\u001b[1;32m    493\u001b[0m func \u001b[38;5;241m=\u001b[39m \u001b[38;5;28mgetattr\u001b[39m(handler, meth_name)\n\u001b[0;32m--> 494\u001b[0m result \u001b[38;5;241m=\u001b[39m \u001b[43mfunc\u001b[49m\u001b[43m(\u001b[49m\u001b[38;5;241;43m*\u001b[39;49m\u001b[43margs\u001b[49m\u001b[43m)\u001b[49m\n\u001b[1;32m    495\u001b[0m \u001b[38;5;28;01mif\u001b[39;00m result \u001b[38;5;129;01mis\u001b[39;00m \u001b[38;5;129;01mnot\u001b[39;00m \u001b[38;5;28;01mNone\u001b[39;00m:\n",
      "File \u001b[0;32m~/.pyenv/versions/3.9.10/lib/python3.9/urllib/request.py:641\u001b[0m, in \u001b[0;36mHTTPDefaultErrorHandler.http_error_default\u001b[0;34m(self, req, fp, code, msg, hdrs)\u001b[0m\n\u001b[1;32m    640\u001b[0m \u001b[38;5;28;01mdef\u001b[39;00m \u001b[38;5;21mhttp_error_default\u001b[39m(\u001b[38;5;28mself\u001b[39m, req, fp, code, msg, hdrs):\n\u001b[0;32m--> 641\u001b[0m     \u001b[38;5;28;01mraise\u001b[39;00m HTTPError(req\u001b[38;5;241m.\u001b[39mfull_url, code, msg, hdrs, fp)\n",
      "\u001b[0;31mHTTPError\u001b[0m: HTTP Error 400: PUGREST.BadRequest",
      "\nDuring handling of the above exception, another exception occurred:\n",
      "\u001b[0;31mBadRequestError\u001b[0m                           Traceback (most recent call last)",
      "Cell \u001b[0;32mIn[8], line 7\u001b[0m\n\u001b[1;32m      4\u001b[0m kegg_id \u001b[38;5;241m=\u001b[39m \u001b[38;5;124m'\u001b[39m\u001b[38;5;124mC00001\u001b[39m\u001b[38;5;124m'\u001b[39m\n\u001b[1;32m      6\u001b[0m \u001b[38;5;66;03m# search for the compound using the KEGG ID\u001b[39;00m\n\u001b[0;32m----> 7\u001b[0m results \u001b[38;5;241m=\u001b[39m \u001b[43mpcp\u001b[49m\u001b[38;5;241;43m.\u001b[39;49m\u001b[43mget_cids\u001b[49m\u001b[43m(\u001b[49m\u001b[43mkegg_id\u001b[49m\u001b[43m,\u001b[49m\u001b[43m \u001b[49m\u001b[38;5;124;43m'\u001b[39;49m\u001b[38;5;124;43mkegg\u001b[39;49m\u001b[38;5;124;43m'\u001b[39;49m\u001b[43m)\u001b[49m\n\u001b[1;32m      9\u001b[0m \u001b[38;5;66;03m# get the first result (assuming there is only one)\u001b[39;00m\n\u001b[1;32m     10\u001b[0m cid \u001b[38;5;241m=\u001b[39m results[\u001b[38;5;241m0\u001b[39m]\n",
      "File \u001b[0;32m~/Desktop/python-envs/main-bio/lib/python3.9/site-packages/pubchempy.py:424\u001b[0m, in \u001b[0;36mget_cids\u001b[0;34m(identifier, namespace, domain, searchtype, **kwargs)\u001b[0m\n\u001b[1;32m    423\u001b[0m \u001b[38;5;28;01mdef\u001b[39;00m \u001b[38;5;21mget_cids\u001b[39m(identifier, namespace\u001b[38;5;241m=\u001b[39m\u001b[38;5;124m'\u001b[39m\u001b[38;5;124mname\u001b[39m\u001b[38;5;124m'\u001b[39m, domain\u001b[38;5;241m=\u001b[39m\u001b[38;5;124m'\u001b[39m\u001b[38;5;124mcompound\u001b[39m\u001b[38;5;124m'\u001b[39m, searchtype\u001b[38;5;241m=\u001b[39m\u001b[38;5;28;01mNone\u001b[39;00m, \u001b[38;5;241m*\u001b[39m\u001b[38;5;241m*\u001b[39mkwargs):\n\u001b[0;32m--> 424\u001b[0m     results \u001b[38;5;241m=\u001b[39m \u001b[43mget_json\u001b[49m\u001b[43m(\u001b[49m\u001b[43midentifier\u001b[49m\u001b[43m,\u001b[49m\u001b[43m \u001b[49m\u001b[43mnamespace\u001b[49m\u001b[43m,\u001b[49m\u001b[43m \u001b[49m\u001b[43mdomain\u001b[49m\u001b[43m,\u001b[49m\u001b[43m \u001b[49m\u001b[38;5;124;43m'\u001b[39;49m\u001b[38;5;124;43mcids\u001b[39;49m\u001b[38;5;124;43m'\u001b[39;49m\u001b[43m,\u001b[49m\u001b[43m \u001b[49m\u001b[43msearchtype\u001b[49m\u001b[38;5;241;43m=\u001b[39;49m\u001b[43msearchtype\u001b[49m\u001b[43m,\u001b[49m\u001b[43m \u001b[49m\u001b[38;5;241;43m*\u001b[39;49m\u001b[38;5;241;43m*\u001b[39;49m\u001b[43mkwargs\u001b[49m\u001b[43m)\u001b[49m\n\u001b[1;32m    425\u001b[0m     \u001b[38;5;28;01mif\u001b[39;00m \u001b[38;5;129;01mnot\u001b[39;00m results:\n\u001b[1;32m    426\u001b[0m         \u001b[38;5;28;01mreturn\u001b[39;00m []\n",
      "File \u001b[0;32m~/Desktop/python-envs/main-bio/lib/python3.9/site-packages/pubchempy.py:299\u001b[0m, in \u001b[0;36mget_json\u001b[0;34m(identifier, namespace, domain, operation, searchtype, **kwargs)\u001b[0m\n\u001b[1;32m    297\u001b[0m \u001b[38;5;124;03m\"\"\"Request wrapper that automatically parses JSON response and supresses NotFoundError.\"\"\"\u001b[39;00m\n\u001b[1;32m    298\u001b[0m \u001b[38;5;28;01mtry\u001b[39;00m:\n\u001b[0;32m--> 299\u001b[0m     \u001b[38;5;28;01mreturn\u001b[39;00m json\u001b[38;5;241m.\u001b[39mloads(\u001b[43mget\u001b[49m\u001b[43m(\u001b[49m\u001b[43midentifier\u001b[49m\u001b[43m,\u001b[49m\u001b[43m \u001b[49m\u001b[43mnamespace\u001b[49m\u001b[43m,\u001b[49m\u001b[43m \u001b[49m\u001b[43mdomain\u001b[49m\u001b[43m,\u001b[49m\u001b[43m \u001b[49m\u001b[43moperation\u001b[49m\u001b[43m,\u001b[49m\u001b[43m \u001b[49m\u001b[38;5;124;43m'\u001b[39;49m\u001b[38;5;124;43mJSON\u001b[39;49m\u001b[38;5;124;43m'\u001b[39;49m\u001b[43m,\u001b[49m\u001b[43m \u001b[49m\u001b[43msearchtype\u001b[49m\u001b[43m,\u001b[49m\u001b[43m \u001b[49m\u001b[38;5;241;43m*\u001b[39;49m\u001b[38;5;241;43m*\u001b[39;49m\u001b[43mkwargs\u001b[49m\u001b[43m)\u001b[49m\u001b[38;5;241m.\u001b[39mdecode())\n\u001b[1;32m    300\u001b[0m \u001b[38;5;28;01mexcept\u001b[39;00m NotFoundError \u001b[38;5;28;01mas\u001b[39;00m e:\n\u001b[1;32m    301\u001b[0m     log\u001b[38;5;241m.\u001b[39minfo(e)\n",
      "File \u001b[0;32m~/Desktop/python-envs/main-bio/lib/python3.9/site-packages/pubchempy.py:292\u001b[0m, in \u001b[0;36mget\u001b[0;34m(identifier, namespace, domain, operation, output, searchtype, **kwargs)\u001b[0m\n\u001b[1;32m    290\u001b[0m             response \u001b[38;5;241m=\u001b[39m request(identifier, namespace, domain, operation, output, searchtype, \u001b[38;5;241m*\u001b[39m\u001b[38;5;241m*\u001b[39mkwargs)\u001b[38;5;241m.\u001b[39mread()\n\u001b[1;32m    291\u001b[0m \u001b[38;5;28;01melse\u001b[39;00m:\n\u001b[0;32m--> 292\u001b[0m     response \u001b[38;5;241m=\u001b[39m \u001b[43mrequest\u001b[49m\u001b[43m(\u001b[49m\u001b[43midentifier\u001b[49m\u001b[43m,\u001b[49m\u001b[43m \u001b[49m\u001b[43mnamespace\u001b[49m\u001b[43m,\u001b[49m\u001b[43m \u001b[49m\u001b[43mdomain\u001b[49m\u001b[43m,\u001b[49m\u001b[43m \u001b[49m\u001b[43moperation\u001b[49m\u001b[43m,\u001b[49m\u001b[43m \u001b[49m\u001b[43moutput\u001b[49m\u001b[43m,\u001b[49m\u001b[43m \u001b[49m\u001b[43msearchtype\u001b[49m\u001b[43m,\u001b[49m\u001b[43m \u001b[49m\u001b[38;5;241;43m*\u001b[39;49m\u001b[38;5;241;43m*\u001b[39;49m\u001b[43mkwargs\u001b[49m\u001b[43m)\u001b[49m\u001b[38;5;241m.\u001b[39mread()\n\u001b[1;32m    293\u001b[0m \u001b[38;5;28;01mreturn\u001b[39;00m response\n",
      "File \u001b[0;32m~/Desktop/python-envs/main-bio/lib/python3.9/site-packages/pubchempy.py:274\u001b[0m, in \u001b[0;36mrequest\u001b[0;34m(identifier, namespace, domain, operation, output, searchtype, **kwargs)\u001b[0m\n\u001b[1;32m    272\u001b[0m     \u001b[38;5;28;01mreturn\u001b[39;00m response\n\u001b[1;32m    273\u001b[0m \u001b[38;5;28;01mexcept\u001b[39;00m HTTPError \u001b[38;5;28;01mas\u001b[39;00m e:\n\u001b[0;32m--> 274\u001b[0m     \u001b[38;5;28;01mraise\u001b[39;00m \u001b[43mPubChemHTTPError\u001b[49m\u001b[43m(\u001b[49m\u001b[43me\u001b[49m\u001b[43m)\u001b[49m\n",
      "File \u001b[0;32m~/Desktop/python-envs/main-bio/lib/python3.9/site-packages/pubchempy.py:1297\u001b[0m, in \u001b[0;36mPubChemHTTPError.__init__\u001b[0;34m(self, e)\u001b[0m\n\u001b[1;32m   1295\u001b[0m     \u001b[38;5;28;01mpass\u001b[39;00m\n\u001b[1;32m   1296\u001b[0m \u001b[38;5;28;01mif\u001b[39;00m \u001b[38;5;28mself\u001b[39m\u001b[38;5;241m.\u001b[39mcode \u001b[38;5;241m==\u001b[39m \u001b[38;5;241m400\u001b[39m:\n\u001b[0;32m-> 1297\u001b[0m     \u001b[38;5;28;01mraise\u001b[39;00m BadRequestError(\u001b[38;5;28mself\u001b[39m\u001b[38;5;241m.\u001b[39mmsg)\n\u001b[1;32m   1298\u001b[0m \u001b[38;5;28;01melif\u001b[39;00m \u001b[38;5;28mself\u001b[39m\u001b[38;5;241m.\u001b[39mcode \u001b[38;5;241m==\u001b[39m \u001b[38;5;241m404\u001b[39m:\n\u001b[1;32m   1299\u001b[0m     \u001b[38;5;28;01mraise\u001b[39;00m NotFoundError(\u001b[38;5;28mself\u001b[39m\u001b[38;5;241m.\u001b[39mmsg)\n",
      "\u001b[0;31mBadRequestError\u001b[0m: 'PUGREST.BadRequest'"
     ]
    }
   ],
   "source": [
    "import pubchempy as pcp\n",
    "\n",
    "# define the KEGG compound ID\n",
    "kegg_id = 'C00001'\n",
    "\n",
    "# search for the compound using the KEGG ID\n",
    "results = pcp.get_cids(kegg_id, 'kegg')\n",
    "\n",
    "# get the first result (assuming there is only one)\n",
    "cid = results[0]\n",
    "\n",
    "print(cid)\n"
   ]
  },
  {
   "cell_type": "code",
   "execution_count": 4,
   "id": "f985e32e",
   "metadata": {},
   "outputs": [
    {
     "name": "stdout",
     "output_type": "stream",
     "text": [
      "Unable to connect API or retrieve data.\n",
      "\n"
     ]
    }
   ],
   "source": [
    "import requests\n",
    "import pandas as pd\n",
    "import io\n",
    "\n",
    "url = 'https://pubchem.ncbi.nlm.nih.gov/rest/pug/compound/''\n",
    "    \n",
    "response = requests.get(url+'sdf')\n",
    "\n",
    "if response.status_code == 200:\n",
    "    print(\"Succesful connection with API.\")\n",
    "elif response.status_code == 404:\n",
    "    print(\"Unable to reach URL.\")\n",
    "else:\n",
    "    print(\"Unable to connect API or retrieve data.\")   \n",
    "\n",
    "print(response.text)"
   ]
  },
  {
   "cell_type": "code",
   "execution_count": 4,
   "id": "e5d37e8a",
   "metadata": {},
   "outputs": [
    {
     "name": "stdout",
     "output_type": "stream",
     "text": [
      "Unable to connect API or retrieve data.\n",
      "\n"
     ]
    }
   ],
   "source": [
    "import requests\n",
    "import pandas as pd\n",
    "import io\n",
    "\n",
    "url = 'https://rest.kegg.jp/get/C00001/'\n",
    "\n",
    "response = requests.get(url+'sdf')\n",
    "\n",
    "if response.status_code == 200:\n",
    "    print(\"Succesful connection with API.\")\n",
    "elif response.status_code == 404:\n",
    "    print(\"Unable to reach URL.\")\n",
    "else:\n",
    "    print(\"Unable to connect API or retrieve data.\")   \n",
    "\n",
    "print(response.text)"
   ]
  },
  {
   "cell_type": "code",
   "execution_count": null,
   "id": "8c0ba4e3",
   "metadata": {},
   "outputs": [],
   "source": [
    "https://rest.kegg.jp/get/<dbentries>[/<option>]\n",
    "\n",
    "<dbentries> = KEGG database entries of the following <database>\n",
    "<database> = pathway | brite | module | ko | <org> | vg | vp | ag | genome | compound |\n",
    "             glycan | reaction | rclass | enzyme | network | variant | disease |\n",
    "             drug | dgroup | disease_ja | drug_ja | dgroup_ja | compound_ja\n",
    "\n",
    "<option> = aaseq | ntseq | mol | kcf | image | conf | kgml | json"
   ]
  },
  {
   "cell_type": "code",
   "execution_count": 14,
   "id": "ce973be9",
   "metadata": {},
   "outputs": [
    {
     "name": "stdout",
     "output_type": "stream",
     "text": [
      "Name\tChebiID\tPubChemID\n",
      "Phosphate\t7793 14791 18367 26020 26078 29137 29139 35780 39739 39745 43470 43474 45024\t3311\n"
     ]
    }
   ],
   "source": [
    " import requests\n",
    "\n",
    "QUERY_URL = 'http://sabiork.h-its.org/sabioRestWebServices/searchCompoundDetails'\n",
    "\n",
    "\n",
    "# input: SabioCompoundID\n",
    "# valid output fields: \"fields[]\":[\"Name\",\"ChebiID\",\"PubChemID\",\"InChI\",\"SabioCompoundID\",\"KeggCompoundID\",\"Smiles\"]\n",
    "\n",
    "# example\n",
    "query = {\"SabioCompoundID\":\"36\", \"fields[]\":[\"Name\",\"ChebiID\",\"PubChemID\"]}\n",
    "\n",
    "request = requests.post(QUERY_URL, params = query)\n",
    "request.raise_for_status()\n",
    "\n",
    "\n",
    "# results\n",
    "\n",
    "print(request.text)\n",
    "\n",
    "# note that you can also retrieve the data for ALL compounds by performing a wildcard search\n",
    "# eg: query = {\"SabioCompoundID\":\"*\", \"fields[]\":[\"SabioCompoundID\",\"Name\",\"PubChemID\"]} "
   ]
  },
  {
   "cell_type": "code",
   "execution_count": 13,
   "id": "d7265a13",
   "metadata": {},
   "outputs": [
    {
     "data": {
      "text/plain": [
       "'<SabioReactions />'"
      ]
     },
     "execution_count": 13,
     "metadata": {},
     "output_type": "execute_result"
    }
   ],
   "source": [
    "response.text"
   ]
  },
  {
   "cell_type": "code",
   "execution_count": 28,
   "id": "4262f22a",
   "metadata": {},
   "outputs": [
    {
     "name": "stdout",
     "output_type": "stream",
     "text": [
      "Succesful connection with API.\n"
     ]
    },
    {
     "data": {
      "text/html": [
       "<div>\n",
       "<style scoped>\n",
       "    .dataframe tbody tr th:only-of-type {\n",
       "        vertical-align: middle;\n",
       "    }\n",
       "\n",
       "    .dataframe tbody tr th {\n",
       "        vertical-align: top;\n",
       "    }\n",
       "\n",
       "    .dataframe thead th {\n",
       "        text-align: right;\n",
       "    }\n",
       "</style>\n",
       "<table border=\"1\" class=\"dataframe\">\n",
       "  <thead>\n",
       "    <tr style=\"text-align: right;\">\n",
       "      <th></th>\n",
       "      <th>id</th>\n",
       "      <th>compound_id</th>\n",
       "    </tr>\n",
       "  </thead>\n",
       "  <tbody>\n",
       "    <tr>\n",
       "      <th>0</th>\n",
       "      <td>C00001</td>\n",
       "      <td>H2O</td>\n",
       "    </tr>\n",
       "    <tr>\n",
       "      <th>1</th>\n",
       "      <td>C00002</td>\n",
       "      <td>ATP</td>\n",
       "    </tr>\n",
       "    <tr>\n",
       "      <th>2</th>\n",
       "      <td>C00003</td>\n",
       "      <td>NAD+</td>\n",
       "    </tr>\n",
       "    <tr>\n",
       "      <th>3</th>\n",
       "      <td>C00004</td>\n",
       "      <td>NADH</td>\n",
       "    </tr>\n",
       "    <tr>\n",
       "      <th>4</th>\n",
       "      <td>C00005</td>\n",
       "      <td>NADPH</td>\n",
       "    </tr>\n",
       "  </tbody>\n",
       "</table>\n",
       "</div>"
      ],
      "text/plain": [
       "       id compound_id\n",
       "0  C00001         H2O\n",
       "1  C00002         ATP\n",
       "2  C00003        NAD+\n",
       "3  C00004        NADH\n",
       "4  C00005       NADPH"
      ]
     },
     "execution_count": 28,
     "metadata": {},
     "output_type": "execute_result"
    }
   ],
   "source": [
    "import requests\n",
    "import pandas as pd\n",
    "import io\n",
    "\n",
    "url = 'https://rest.kegg.jp/'\n",
    "\n",
    "response = requests.get(url+'list/compound')\n",
    "\n",
    "if response.status_code == 200:\n",
    "    print(\"Succesful connection with API.\")\n",
    "elif response.status_code == 404:\n",
    "    print(\"Unable to reach URL.\")\n",
    "else:\n",
    "    print(\"Unable to connect API or retrieve data.\")   \n",
    "    \n",
    "df = pd.read_csv(io.StringIO(response.text), sep='\\t', header=None, names=['id', 'compound_id'], index_col=None)\n",
    "df.head()"
   ]
  },
  {
   "cell_type": "code",
   "execution_count": 43,
   "id": "48002906",
   "metadata": {},
   "outputs": [
    {
     "name": "stdout",
     "output_type": "stream",
     "text": [
      "Succesful connection with API.\n"
     ]
    }
   ],
   "source": [
    "response = requests.get(url+'find/compound/formula')\n",
    "\n",
    "if response.status_code == 200:\n",
    "    print(\"Succesful connection with API.\")\n",
    "elif response.status_code == 404:\n",
    "    print(\"Unable to reach URL.\")\n",
    "else:\n",
    "    print(\"Unable to connect API or retrieve data.\")   "
   ]
  },
  {
   "cell_type": "code",
   "execution_count": 47,
   "id": "fb4ad51d",
   "metadata": {},
   "outputs": [
    {
     "data": {
      "text/plain": [
       "<Response [200]>"
      ]
     },
     "execution_count": 47,
     "metadata": {},
     "output_type": "execute_result"
    }
   ],
   "source": [
    "response"
   ]
  },
  {
   "cell_type": "code",
   "execution_count": null,
   "id": "daccd72b",
   "metadata": {},
   "outputs": [],
   "source": []
  },
  {
   "cell_type": "code",
   "execution_count": null,
   "id": "10071ebe",
   "metadata": {},
   "outputs": [],
   "source": []
  },
  {
   "cell_type": "code",
   "execution_count": null,
   "id": "3f872ac4",
   "metadata": {},
   "outputs": [],
   "source": []
  },
  {
   "cell_type": "code",
   "execution_count": null,
   "id": "df946f01",
   "metadata": {},
   "outputs": [],
   "source": []
  },
  {
   "cell_type": "code",
   "execution_count": null,
   "id": "7fe9734c",
   "metadata": {},
   "outputs": [],
   "source": []
  },
  {
   "cell_type": "code",
   "execution_count": 9,
   "id": "8a45b172",
   "metadata": {},
   "outputs": [],
   "source": [
    "import pandas as pd\n",
    "import numpy as np\n",
    "import networkx as nx\n",
    "import io\n",
    "from tqdm import tqdm\n",
    "\n",
    "from Bio.KEGG import REST\n",
    "\n",
    "def to_df(x):\n",
    "    return pd.read_csv(io.StringIO(x), sep='\\t', header=None)\n",
    "\n",
    "df = pd.read_csv('data/Main_RPAIRS_KEGG.tsv', sep='\\t')\n",
    "df['source'] = df['Reactant_pair'].apply(lambda x: x.split('_')[0])\n",
    "df['target'] = df['Reactant_pair'].apply(lambda x: x.split('_')[1])\n",
    "\n",
    "compounds_list = pd.DataFrame()\n",
    "compounds_list['id'] = pd.concat([df['source'], df['target']]).reset_index(drop=True)\n",
    "compounds_list.drop_duplicates(inplace=True)\n"
   ]
  },
  {
   "cell_type": "code",
   "execution_count": 12,
   "id": "2818b69c",
   "metadata": {},
   "outputs": [],
   "source": [
    "request = REST.kegg_get('cpd:'+compounds_list.iloc[1]['id']).read()"
   ]
  },
  {
   "cell_type": "code",
   "execution_count": 36,
   "id": "c3eba6c2",
   "metadata": {},
   "outputs": [
    {
     "name": "stdout",
     "output_type": "stream",
     "text": [
      "3305\n"
     ]
    }
   ],
   "source": [
    "for line in request.split('\\n'):\n",
    "    if 'PubChem' in line:\n",
    "        cid = line.split()[1]\n",
    "        print(cid)"
   ]
  },
  {
   "cell_type": "code",
   "execution_count": 37,
   "id": "fb388b68",
   "metadata": {},
   "outputs": [
    {
     "name": "stdout",
     "output_type": "stream",
     "text": [
      "CC(O)(P(=O)(O)O)P(=O)(O)O\n"
     ]
    }
   ],
   "source": [
    "import pubchempy as pcp\n",
    "\n",
    "# get the Compound object using the CID\n",
    "compound = pcp.Compound.from_cid(cid)\n",
    "\n",
    "# get the SMILES string of the compound\n",
    "smiles = compound.isomeric_smiles\n",
    "\n",
    "print(smiles)"
   ]
  },
  {
   "cell_type": "code",
   "execution_count": null,
   "id": "1a30f2b4",
   "metadata": {},
   "outputs": [],
   "source": []
  }
 ],
 "metadata": {
  "kernelspec": {
   "display_name": "Python 3 (ipykernel)",
   "language": "python",
   "name": "python3"
  },
  "language_info": {
   "codemirror_mode": {
    "name": "ipython",
    "version": 3
   },
   "file_extension": ".py",
   "mimetype": "text/x-python",
   "name": "python",
   "nbconvert_exporter": "python",
   "pygments_lexer": "ipython3",
   "version": "3.9.10"
  }
 },
 "nbformat": 4,
 "nbformat_minor": 5
}
