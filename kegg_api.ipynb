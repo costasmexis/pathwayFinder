{
 "cells": [
  {
   "cell_type": "code",
   "execution_count": 1,
   "id": "cbb2eb9b",
   "metadata": {},
   "outputs": [],
   "source": [
    "import networkx as nx\n",
    "\n",
    "from IPython.display import Image\n",
    "%matplotlib inline\n",
    "import kcfconvoy as kcf"
   ]
  },
  {
   "cell_type": "code",
   "execution_count": null,
   "id": "61af9d20",
   "metadata": {},
   "outputs": [
    {
     "name": "stdout",
     "output_type": "stream",
     "text": [
      "Downloading  C00082\n"
     ]
    }
   ],
   "source": [
    "kcfvec_2 = kcf.KCFvec()\n",
    "kcfvec_2.input_from_kegg('C00082')"
   ]
  },
  {
   "cell_type": "code",
   "execution_count": null,
   "id": "ab74fda5",
   "metadata": {},
   "outputs": [],
   "source": [
    "kcfvec_2.cpd_name"
   ]
  },
  {
   "cell_type": "code",
   "execution_count": null,
   "id": "bc3aa6ca",
   "metadata": {},
   "outputs": [],
   "source": []
  }
 ],
 "metadata": {
  "kernelspec": {
   "display_name": "Python 3 (ipykernel)",
   "language": "python",
   "name": "python3"
  },
  "language_info": {
   "codemirror_mode": {
    "name": "ipython",
    "version": 3
   },
   "file_extension": ".py",
   "mimetype": "text/x-python",
   "name": "python",
   "nbconvert_exporter": "python",
   "pygments_lexer": "ipython3",
   "version": "3.9.10"
  }
 },
 "nbformat": 4,
 "nbformat_minor": 5
}
