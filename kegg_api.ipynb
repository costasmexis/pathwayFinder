{
 "cells": [
  {
   "cell_type": "code",
   "execution_count": 38,
   "id": "1e9f93ea",
   "metadata": {},
   "outputs": [],
   "source": [
    "import pandas as pd\n",
    "import numpy as np\n",
    "import networkx as nx\n",
    "import io\n",
    "from tqdm import tqdm\n",
    "\n",
    "from Bio.KEGG import REST\n",
    "\n",
    "def to_df(x):\n",
    "    return pd.read_csv(io.StringIO(x), sep='\\t', header=None)\n",
    "\n",
    "df = pd.read_csv('data/Main_RPAIRS_KEGG.tsv', sep='\\t')\n",
    "df['source'] = df['Reactant_pair'].apply(lambda x: x.split('_')[0])\n",
    "df['target'] = df['Reactant_pair'].apply(lambda x: x.split('_')[1])\n",
    "\n",
    "compounds_list = pd.DataFrame()\n",
    "compounds_list['id'] = pd.concat([df['source'], df['target']]).reset_index(drop=True)\n",
    "compounds_list.drop_duplicates(inplace=True)\n"
   ]
  },
  {
   "cell_type": "code",
   "execution_count": 39,
   "id": "efa0529e",
   "metadata": {},
   "outputs": [],
   "source": [
    "request = REST.kegg_get('cpd:'+compounds_list.iloc[1]['id']).read()"
   ]
  },
  {
   "cell_type": "code",
   "execution_count": 40,
   "id": "e155275f",
   "metadata": {},
   "outputs": [
    {
     "name": "stdout",
     "output_type": "stream",
     "text": [
      "3305\n"
     ]
    }
   ],
   "source": [
    "for line in request.split('\\n'):\n",
    "    if 'PubChem' in line:\n",
    "        cid = line.split()[1]\n",
    "        print(cid)"
   ]
  },
  {
   "cell_type": "code",
   "execution_count": 37,
   "id": "19493897",
   "metadata": {},
   "outputs": [
    {
     "name": "stdout",
     "output_type": "stream",
     "text": [
      "CC(O)(P(=O)(O)O)P(=O)(O)O\n"
     ]
    }
   ],
   "source": [
    "import pubchempy as pcp\n",
    "\n",
    "# get the Compound object using the CID\n",
    "compound = pcp.Compound.from_cid(cid)\n",
    "\n",
    "# get the SMILES string of the compound\n",
    "smiles = compound.isomeric_smiles\n",
    "\n",
    "print(smiles)"
   ]
  },
  {
   "cell_type": "code",
   "execution_count": null,
   "id": "6c40875a",
   "metadata": {},
   "outputs": [],
   "source": []
  }
 ],
 "metadata": {
  "kernelspec": {
   "display_name": "Python 3 (ipykernel)",
   "language": "python",
   "name": "python3"
  },
  "language_info": {
   "codemirror_mode": {
    "name": "ipython",
    "version": 3
   },
   "file_extension": ".py",
   "mimetype": "text/x-python",
   "name": "python",
   "nbconvert_exporter": "python",
   "pygments_lexer": "ipython3",
   "version": "3.9.10"
  }
 },
 "nbformat": 4,
 "nbformat_minor": 5
}
