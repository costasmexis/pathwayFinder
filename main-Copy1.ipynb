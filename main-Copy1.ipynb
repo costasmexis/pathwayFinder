{
 "cells": [
  {
   "cell_type": "code",
   "execution_count": 1,
   "id": "6510730b",
   "metadata": {},
   "outputs": [],
   "source": [
    "import pandas as pd\n",
    "import numpy as np\n",
    "import matplotlib.pyplot as plt\n",
    "import os.path\n",
    "from os import path\n",
    "\n",
    "from gensim.models import Word2Vec\n",
    "from sklearn.manifold import TSNE\n",
    "from IPython.display import SVG\n",
    "import re"
   ]
  },
  {
   "cell_type": "code",
   "execution_count": 2,
   "id": "6a2c17ea",
   "metadata": {},
   "outputs": [
    {
     "data": {
      "text/plain": [
       "(10747, 3)"
      ]
     },
     "execution_count": 2,
     "metadata": {},
     "output_type": "execute_result"
    }
   ],
   "source": [
    "pairs = pd.read_csv('data/Main_RPAIRS_KEGG.tsv', sep='\\t')\n",
    "\n",
    "pairs['source'] = pairs['Reactant_pair'].apply(lambda x: x.split('_')[0])\n",
    "pairs['target'] = pairs['Reactant_pair'].apply(lambda x: x.split('_')[1])\n",
    "\n",
    "# Drop columns that won't be used\n",
    "pairs.drop(['KEGG_reactions', 'CAR', 'RPAIR_main'], axis=1, inplace=True)\n",
    "pairs.shape"
   ]
  },
  {
   "cell_type": "code",
   "execution_count": 3,
   "id": "bcaa045d",
   "metadata": {},
   "outputs": [
    {
     "data": {
      "text/html": [
       "<div>\n",
       "<style scoped>\n",
       "    .dataframe tbody tr th:only-of-type {\n",
       "        vertical-align: middle;\n",
       "    }\n",
       "\n",
       "    .dataframe tbody tr th {\n",
       "        vertical-align: top;\n",
       "    }\n",
       "\n",
       "    .dataframe thead th {\n",
       "        text-align: right;\n",
       "    }\n",
       "</style>\n",
       "<table border=\"1\" class=\"dataframe\">\n",
       "  <thead>\n",
       "    <tr style=\"text-align: right;\">\n",
       "      <th></th>\n",
       "      <th>id</th>\n",
       "      <th>mol_weight</th>\n",
       "      <th>formula</th>\n",
       "    </tr>\n",
       "  </thead>\n",
       "  <tbody>\n",
       "    <tr>\n",
       "      <th>0</th>\n",
       "      <td>C00002</td>\n",
       "      <td>507.1810</td>\n",
       "      <td>C10H16N5O13P3</td>\n",
       "    </tr>\n",
       "    <tr>\n",
       "      <th>1</th>\n",
       "      <td>C00003</td>\n",
       "      <td>664.4330</td>\n",
       "      <td>C21H28N7O14P2</td>\n",
       "    </tr>\n",
       "    <tr>\n",
       "      <th>2</th>\n",
       "      <td>C00005</td>\n",
       "      <td>745.4209</td>\n",
       "      <td>C21H30N7O17P3</td>\n",
       "    </tr>\n",
       "    <tr>\n",
       "      <th>3</th>\n",
       "      <td>C00007</td>\n",
       "      <td>31.9988</td>\n",
       "      <td>O2</td>\n",
       "    </tr>\n",
       "    <tr>\n",
       "      <th>4</th>\n",
       "      <td>C00011</td>\n",
       "      <td>44.0095</td>\n",
       "      <td>CO2</td>\n",
       "    </tr>\n",
       "  </tbody>\n",
       "</table>\n",
       "</div>"
      ],
      "text/plain": [
       "       id  mol_weight        formula\n",
       "0  C00002    507.1810  C10H16N5O13P3\n",
       "1  C00003    664.4330  C21H28N7O14P2\n",
       "2  C00005    745.4209  C21H30N7O17P3\n",
       "3  C00007     31.9988             O2\n",
       "4  C00011     44.0095            CO2"
      ]
     },
     "metadata": {},
     "output_type": "display_data"
    },
    {
     "name": "stdout",
     "output_type": "stream",
     "text": [
      "(5620, 3)\n"
     ]
    }
   ],
   "source": [
    "df = pd.read_csv('data/compounds_list_KEGG.csv')\n",
    "display(df.head())\n",
    "\n",
    "print(df.shape)"
   ]
  },
  {
   "cell_type": "markdown",
   "id": "86295c4b",
   "metadata": {},
   "source": [
    "How many nans"
   ]
  },
  {
   "cell_type": "code",
   "execution_count": 4,
   "id": "e3763160",
   "metadata": {},
   "outputs": [
    {
     "data": {
      "text/plain": [
       "id              0\n",
       "mol_weight    680\n",
       "formula         2\n",
       "dtype: int64"
      ]
     },
     "execution_count": 4,
     "metadata": {},
     "output_type": "execute_result"
    }
   ],
   "source": [
    "df.isna().sum()"
   ]
  },
  {
   "cell_type": "code",
   "execution_count": 5,
   "id": "468374c9",
   "metadata": {},
   "outputs": [
    {
     "data": {
      "text/html": [
       "<div>\n",
       "<style scoped>\n",
       "    .dataframe tbody tr th:only-of-type {\n",
       "        vertical-align: middle;\n",
       "    }\n",
       "\n",
       "    .dataframe tbody tr th {\n",
       "        vertical-align: top;\n",
       "    }\n",
       "\n",
       "    .dataframe thead th {\n",
       "        text-align: right;\n",
       "    }\n",
       "</style>\n",
       "<table border=\"1\" class=\"dataframe\">\n",
       "  <thead>\n",
       "    <tr style=\"text-align: right;\">\n",
       "      <th></th>\n",
       "      <th>id</th>\n",
       "      <th>mol_weight</th>\n",
       "      <th>formula</th>\n",
       "    </tr>\n",
       "  </thead>\n",
       "  <tbody>\n",
       "    <tr>\n",
       "      <th>665</th>\n",
       "      <td>C15778</td>\n",
       "      <td>NaN</td>\n",
       "      <td>NaN</td>\n",
       "    </tr>\n",
       "    <tr>\n",
       "      <th>2845</th>\n",
       "      <td>C20798</td>\n",
       "      <td>NaN</td>\n",
       "      <td>NaN</td>\n",
       "    </tr>\n",
       "  </tbody>\n",
       "</table>\n",
       "</div>"
      ],
      "text/plain": [
       "          id  mol_weight formula\n",
       "665   C15778         NaN     NaN\n",
       "2845  C20798         NaN     NaN"
      ]
     },
     "metadata": {},
     "output_type": "display_data"
    }
   ],
   "source": [
    "# These are probably mistakes\n",
    "display(df[df['formula'].isna()])"
   ]
  },
  {
   "cell_type": "markdown",
   "id": "5ae979b8",
   "metadata": {},
   "source": [
    "### Fix manually these mistakes"
   ]
  },
  {
   "cell_type": "markdown",
   "id": "f8186637",
   "metadata": {},
   "source": [
    "**Correct *C15778***"
   ]
  },
  {
   "cell_type": "code",
   "execution_count": 6,
   "id": "6bf76ba8",
   "metadata": {},
   "outputs": [
    {
     "data": {
      "text/html": [
       "<div>\n",
       "<style scoped>\n",
       "    .dataframe tbody tr th:only-of-type {\n",
       "        vertical-align: middle;\n",
       "    }\n",
       "\n",
       "    .dataframe tbody tr th {\n",
       "        vertical-align: top;\n",
       "    }\n",
       "\n",
       "    .dataframe thead th {\n",
       "        text-align: right;\n",
       "    }\n",
       "</style>\n",
       "<table border=\"1\" class=\"dataframe\">\n",
       "  <thead>\n",
       "    <tr style=\"text-align: right;\">\n",
       "      <th></th>\n",
       "      <th>Reactant_pair</th>\n",
       "      <th>source</th>\n",
       "      <th>target</th>\n",
       "    </tr>\n",
       "  </thead>\n",
       "  <tbody>\n",
       "    <tr>\n",
       "      <th>787</th>\n",
       "      <td>C15778_C15781</td>\n",
       "      <td>C15778</td>\n",
       "      <td>C15781</td>\n",
       "    </tr>\n",
       "  </tbody>\n",
       "</table>\n",
       "</div>"
      ],
      "text/plain": [
       "     Reactant_pair  source  target\n",
       "787  C15778_C15781  C15778  C15781"
      ]
     },
     "metadata": {},
     "output_type": "display_data"
    },
    {
     "data": {
      "text/html": [
       "<div>\n",
       "<style scoped>\n",
       "    .dataframe tbody tr th:only-of-type {\n",
       "        vertical-align: middle;\n",
       "    }\n",
       "\n",
       "    .dataframe tbody tr th {\n",
       "        vertical-align: top;\n",
       "    }\n",
       "\n",
       "    .dataframe thead th {\n",
       "        text-align: right;\n",
       "    }\n",
       "</style>\n",
       "<table border=\"1\" class=\"dataframe\">\n",
       "  <thead>\n",
       "    <tr style=\"text-align: right;\">\n",
       "      <th></th>\n",
       "      <th>Reactant_pair</th>\n",
       "      <th>source</th>\n",
       "      <th>target</th>\n",
       "    </tr>\n",
       "  </thead>\n",
       "  <tbody>\n",
       "  </tbody>\n",
       "</table>\n",
       "</div>"
      ],
      "text/plain": [
       "Empty DataFrame\n",
       "Columns: [Reactant_pair, source, target]\n",
       "Index: []"
      ]
     },
     "metadata": {},
     "output_type": "display_data"
    }
   ],
   "source": [
    "display(pairs[pairs['source'] == 'C15778'])\n",
    "\n",
    "display(pairs[pairs['target'] == 'C15778'])"
   ]
  },
  {
   "cell_type": "markdown",
   "id": "ac5baee5",
   "metadata": {},
   "source": [
    "According to **KEGG** for the Reaction *R07492*, *C15778* should be *C15780*"
   ]
  },
  {
   "cell_type": "code",
   "execution_count": 7,
   "id": "44c421e5",
   "metadata": {},
   "outputs": [],
   "source": [
    "pairs.loc[pairs.index[787], 'Reactant_pair'] = 'C15780_C15781'\n",
    "\n",
    "df.loc[df.index[665], 'id'] = 'C15780'\n",
    "df.loc[df.index[665], 'mol_weight'] = 396.6484\n",
    "df.loc[df.index[665], 'formula'] = 'C28H44O'"
   ]
  },
  {
   "cell_type": "markdown",
   "id": "e45d7e1a",
   "metadata": {},
   "source": [
    "**Correct *C20798***"
   ]
  },
  {
   "cell_type": "code",
   "execution_count": 8,
   "id": "4e1fb502",
   "metadata": {},
   "outputs": [
    {
     "data": {
      "text/html": [
       "<div>\n",
       "<style scoped>\n",
       "    .dataframe tbody tr th:only-of-type {\n",
       "        vertical-align: middle;\n",
       "    }\n",
       "\n",
       "    .dataframe tbody tr th {\n",
       "        vertical-align: top;\n",
       "    }\n",
       "\n",
       "    .dataframe thead th {\n",
       "        text-align: right;\n",
       "    }\n",
       "</style>\n",
       "<table border=\"1\" class=\"dataframe\">\n",
       "  <thead>\n",
       "    <tr style=\"text-align: right;\">\n",
       "      <th></th>\n",
       "      <th>Reactant_pair</th>\n",
       "      <th>source</th>\n",
       "      <th>target</th>\n",
       "    </tr>\n",
       "  </thead>\n",
       "  <tbody>\n",
       "    <tr>\n",
       "      <th>5112</th>\n",
       "      <td>C20798_C21180</td>\n",
       "      <td>C20798</td>\n",
       "      <td>C21180</td>\n",
       "    </tr>\n",
       "    <tr>\n",
       "      <th>5767</th>\n",
       "      <td>C20798_C20831</td>\n",
       "      <td>C20798</td>\n",
       "      <td>C20831</td>\n",
       "    </tr>\n",
       "  </tbody>\n",
       "</table>\n",
       "</div>"
      ],
      "text/plain": [
       "      Reactant_pair  source  target\n",
       "5112  C20798_C21180  C20798  C21180\n",
       "5767  C20798_C20831  C20798  C20831"
      ]
     },
     "metadata": {},
     "output_type": "display_data"
    },
    {
     "data": {
      "text/html": [
       "<div>\n",
       "<style scoped>\n",
       "    .dataframe tbody tr th:only-of-type {\n",
       "        vertical-align: middle;\n",
       "    }\n",
       "\n",
       "    .dataframe tbody tr th {\n",
       "        vertical-align: top;\n",
       "    }\n",
       "\n",
       "    .dataframe thead th {\n",
       "        text-align: right;\n",
       "    }\n",
       "</style>\n",
       "<table border=\"1\" class=\"dataframe\">\n",
       "  <thead>\n",
       "    <tr style=\"text-align: right;\">\n",
       "      <th></th>\n",
       "      <th>Reactant_pair</th>\n",
       "      <th>source</th>\n",
       "      <th>target</th>\n",
       "    </tr>\n",
       "  </thead>\n",
       "  <tbody>\n",
       "    <tr>\n",
       "      <th>890</th>\n",
       "      <td>C19675_C20798</td>\n",
       "      <td>C19675</td>\n",
       "      <td>C20798</td>\n",
       "    </tr>\n",
       "    <tr>\n",
       "      <th>2787</th>\n",
       "      <td>C11499_C20798</td>\n",
       "      <td>C11499</td>\n",
       "      <td>C20798</td>\n",
       "    </tr>\n",
       "  </tbody>\n",
       "</table>\n",
       "</div>"
      ],
      "text/plain": [
       "      Reactant_pair  source  target\n",
       "890   C19675_C20798  C19675  C20798\n",
       "2787  C11499_C20798  C11499  C20798"
      ]
     },
     "metadata": {},
     "output_type": "display_data"
    }
   ],
   "source": [
    "display(pairs[pairs['source'] == 'C20798'])\n",
    "\n",
    "display(pairs[pairs['target'] == 'C20798'])"
   ]
  },
  {
   "cell_type": "markdown",
   "id": "5e944e29",
   "metadata": {},
   "source": [
    "According to **KEGG** for the Reaction *R10719*, *C20798* should be *C21181*"
   ]
  },
  {
   "cell_type": "code",
   "execution_count": 9,
   "id": "74617e51",
   "metadata": {},
   "outputs": [],
   "source": [
    "pairs.loc[pairs.index[5112], 'Reactant_pair'] = 'C21181_C21180'\n",
    "pairs.loc[pairs.index[5767], 'Reactant_pair'] = 'C21181_C20831'\n",
    "pairs.loc[pairs.index[890], 'Reactant_pair'] = 'C19675_C21181'\n",
    "pairs.loc[pairs.index[2787], 'Reactant_pair'] = 'C11499_C21181'\n",
    "\n",
    "df.loc[df.index[2845], 'id'] = 'C21181'\n",
    "df.loc[df.index[2845], 'mol_weight'] = 154.1417\n",
    "df.loc[df.index[2845], 'formula'] = 'C3H6O5S'"
   ]
  },
  {
   "cell_type": "markdown",
   "id": "7c2c229c",
   "metadata": {},
   "source": [
    "Recalculate *source* and *target* in pairs"
   ]
  },
  {
   "cell_type": "code",
   "execution_count": 10,
   "id": "4a0b1f07",
   "metadata": {},
   "outputs": [],
   "source": [
    "pairs['source'] = pairs['Reactant_pair'].apply(lambda x: x.split('_')[0])\n",
    "pairs['target'] = pairs['Reactant_pair'].apply(lambda x: x.split('_')[1])\n",
    "\n",
    "pairs.to_csv('data/Main_RPAIRS_KEGG_fixed.csv', index=None)"
   ]
  },
  {
   "cell_type": "markdown",
   "id": "d96f3d7a",
   "metadata": {},
   "source": [
    "## Exctract Features From Chemical Formula"
   ]
  },
  {
   "cell_type": "code",
   "execution_count": 11,
   "id": "eb44dded",
   "metadata": {},
   "outputs": [
    {
     "name": "stdout",
     "output_type": "stream",
     "text": [
      "{'Cl', 'P', 'Zn', 'Se', 'N', 'O', 'Br', 'Mg', 'As', 'R', 'X', 'C', 'Co', 'Mo', 'F', 'H', 'S', 'I'}\n"
     ]
    }
   ],
   "source": [
    "def extract_elements(df, column_name):\n",
    "    # define the regular expression pattern to match the chemical formula\n",
    "    pattern = r'[A-Z][a-z]?'\n",
    "    # initialize a set to store the element symbols\n",
    "    elements = set()\n",
    "    # loop over the values in the specified column of the DataFrame\n",
    "    for value in df[column_name].values:\n",
    "        # find all matches of the pattern in the value string\n",
    "        matches = re.findall(pattern, value)\n",
    "        # add the matches to the set of elements\n",
    "        elements.update(matches)\n",
    "    return elements\n",
    "\n",
    "def extract_stoichiometry(formula):\n",
    "    # define the regular expression pattern to match the chemical formula\n",
    "    pattern = r'([A-Z][a-z]?)(\\d*)'\n",
    "    # initialize the dictionary to store the element symbol and its stoichiometry\n",
    "    stoichiometry = {}\n",
    "    # loop over the matches of the pattern in the formula string\n",
    "    for match in re.findall(pattern, formula):\n",
    "        symbol, count = match\n",
    "        # if the count is empty, set it to 1\n",
    "        count = int(count) if count else 1\n",
    "        # add the symbol and count to the stoichiometry dictionary\n",
    "        stoichiometry[symbol] = count\n",
    "    return stoichiometry\n",
    "\n",
    "# example usage\n",
    "elements = extract_elements(df, 'formula')\n",
    "print(elements)\n",
    "\n",
    "# Create a col for every element\n",
    "for elm in elements: df[elm]=0"
   ]
  },
  {
   "cell_type": "code",
   "execution_count": 12,
   "id": "40f3745f",
   "metadata": {},
   "outputs": [
    {
     "data": {
      "text/html": [
       "<div>\n",
       "<style scoped>\n",
       "    .dataframe tbody tr th:only-of-type {\n",
       "        vertical-align: middle;\n",
       "    }\n",
       "\n",
       "    .dataframe tbody tr th {\n",
       "        vertical-align: top;\n",
       "    }\n",
       "\n",
       "    .dataframe thead th {\n",
       "        text-align: right;\n",
       "    }\n",
       "</style>\n",
       "<table border=\"1\" class=\"dataframe\">\n",
       "  <thead>\n",
       "    <tr style=\"text-align: right;\">\n",
       "      <th></th>\n",
       "      <th>id</th>\n",
       "      <th>mol_weight</th>\n",
       "      <th>formula</th>\n",
       "      <th>Cl</th>\n",
       "      <th>P</th>\n",
       "      <th>Zn</th>\n",
       "      <th>Se</th>\n",
       "      <th>N</th>\n",
       "      <th>O</th>\n",
       "      <th>Br</th>\n",
       "      <th>...</th>\n",
       "      <th>As</th>\n",
       "      <th>R</th>\n",
       "      <th>X</th>\n",
       "      <th>C</th>\n",
       "      <th>Co</th>\n",
       "      <th>Mo</th>\n",
       "      <th>F</th>\n",
       "      <th>H</th>\n",
       "      <th>S</th>\n",
       "      <th>I</th>\n",
       "    </tr>\n",
       "  </thead>\n",
       "  <tbody>\n",
       "    <tr>\n",
       "      <th>0</th>\n",
       "      <td>C00002</td>\n",
       "      <td>507.1810</td>\n",
       "      <td>C10H16N5O13P3</td>\n",
       "      <td>0</td>\n",
       "      <td>3</td>\n",
       "      <td>0</td>\n",
       "      <td>0</td>\n",
       "      <td>5</td>\n",
       "      <td>13</td>\n",
       "      <td>0</td>\n",
       "      <td>...</td>\n",
       "      <td>0</td>\n",
       "      <td>0</td>\n",
       "      <td>0</td>\n",
       "      <td>10</td>\n",
       "      <td>0</td>\n",
       "      <td>0</td>\n",
       "      <td>0</td>\n",
       "      <td>16</td>\n",
       "      <td>0</td>\n",
       "      <td>0</td>\n",
       "    </tr>\n",
       "    <tr>\n",
       "      <th>1</th>\n",
       "      <td>C00003</td>\n",
       "      <td>664.4330</td>\n",
       "      <td>C21H28N7O14P2</td>\n",
       "      <td>0</td>\n",
       "      <td>2</td>\n",
       "      <td>0</td>\n",
       "      <td>0</td>\n",
       "      <td>7</td>\n",
       "      <td>14</td>\n",
       "      <td>0</td>\n",
       "      <td>...</td>\n",
       "      <td>0</td>\n",
       "      <td>0</td>\n",
       "      <td>0</td>\n",
       "      <td>21</td>\n",
       "      <td>0</td>\n",
       "      <td>0</td>\n",
       "      <td>0</td>\n",
       "      <td>28</td>\n",
       "      <td>0</td>\n",
       "      <td>0</td>\n",
       "    </tr>\n",
       "    <tr>\n",
       "      <th>2</th>\n",
       "      <td>C00005</td>\n",
       "      <td>745.4209</td>\n",
       "      <td>C21H30N7O17P3</td>\n",
       "      <td>0</td>\n",
       "      <td>3</td>\n",
       "      <td>0</td>\n",
       "      <td>0</td>\n",
       "      <td>7</td>\n",
       "      <td>17</td>\n",
       "      <td>0</td>\n",
       "      <td>...</td>\n",
       "      <td>0</td>\n",
       "      <td>0</td>\n",
       "      <td>0</td>\n",
       "      <td>21</td>\n",
       "      <td>0</td>\n",
       "      <td>0</td>\n",
       "      <td>0</td>\n",
       "      <td>30</td>\n",
       "      <td>0</td>\n",
       "      <td>0</td>\n",
       "    </tr>\n",
       "  </tbody>\n",
       "</table>\n",
       "<p>3 rows × 21 columns</p>\n",
       "</div>"
      ],
      "text/plain": [
       "       id  mol_weight        formula  Cl  P  Zn  Se  N   O  Br  ...  As  R  X  \\\n",
       "0  C00002    507.1810  C10H16N5O13P3   0  3   0   0  5  13   0  ...   0  0  0   \n",
       "1  C00003    664.4330  C21H28N7O14P2   0  2   0   0  7  14   0  ...   0  0  0   \n",
       "2  C00005    745.4209  C21H30N7O17P3   0  3   0   0  7  17   0  ...   0  0  0   \n",
       "\n",
       "    C  Co  Mo  F   H  S  I  \n",
       "0  10   0   0  0  16  0  0  \n",
       "1  21   0   0  0  28  0  0  \n",
       "2  21   0   0  0  30  0  0  \n",
       "\n",
       "[3 rows x 21 columns]"
      ]
     },
     "metadata": {},
     "output_type": "display_data"
    }
   ],
   "source": [
    "for row in range(len(df)):\n",
    "    \n",
    "    formula = df['formula'].iloc[row]\n",
    "    stoichiometry = extract_stoichiometry(formula)\n",
    "    \n",
    "    for key, value in stoichiometry.items():\n",
    "        #df[key].iloc[row] = value\n",
    "        df.loc[df.index[row], key] = value\n",
    "\n",
    "display(df.head(3))"
   ]
  },
  {
   "cell_type": "code",
   "execution_count": 13,
   "id": "86b52fee",
   "metadata": {},
   "outputs": [
    {
     "name": "stdout",
     "output_type": "stream",
     "text": [
      "597\n",
      "129\n"
     ]
    }
   ],
   "source": [
    "# Many many compounds with R\n",
    "print(len(df[df['R']!=0]))\n",
    "\n",
    "# Col that contains the info if the compound is a polymer or not\n",
    "df['polymer'] = 0\n",
    "\n",
    "for row in range(len(df)):\n",
    "    if 'n' in df['formula'].iloc[row]: \n",
    "        df.loc[df.index[row], 'polymer'] = 1\n",
    "        \n",
    "# Print how many polymers do we have\n",
    "print(len(df[df['polymer'] == 1]))\n",
    "\n",
    "# save to csv\n",
    "df.to_csv('data/curated.csv')"
   ]
  },
  {
   "cell_type": "markdown",
   "id": "9eff4ed6",
   "metadata": {},
   "source": [
    "**Here we re-fill all mol_weight based on paper NICEpath methodology.**"
   ]
  },
  {
   "cell_type": "markdown",
   "id": "a8619a2b",
   "metadata": {},
   "source": [
    "# Load curated dataset from Stef - Filled NaN `mol_weight`"
   ]
  },
  {
   "cell_type": "code",
   "execution_count": 14,
   "id": "6cbba9e7",
   "metadata": {},
   "outputs": [
    {
     "data": {
      "text/html": [
       "<div>\n",
       "<style scoped>\n",
       "    .dataframe tbody tr th:only-of-type {\n",
       "        vertical-align: middle;\n",
       "    }\n",
       "\n",
       "    .dataframe tbody tr th {\n",
       "        vertical-align: top;\n",
       "    }\n",
       "\n",
       "    .dataframe thead th {\n",
       "        text-align: right;\n",
       "    }\n",
       "</style>\n",
       "<table border=\"1\" class=\"dataframe\">\n",
       "  <thead>\n",
       "    <tr style=\"text-align: right;\">\n",
       "      <th></th>\n",
       "      <th>id</th>\n",
       "      <th>formula</th>\n",
       "      <th>Co</th>\n",
       "      <th>C</th>\n",
       "      <th>Br</th>\n",
       "      <th>Zn</th>\n",
       "      <th>N</th>\n",
       "      <th>Mo</th>\n",
       "      <th>S</th>\n",
       "      <th>Se</th>\n",
       "      <th>...</th>\n",
       "      <th>X</th>\n",
       "      <th>H</th>\n",
       "      <th>O</th>\n",
       "      <th>As</th>\n",
       "      <th>F</th>\n",
       "      <th>R</th>\n",
       "      <th>P</th>\n",
       "      <th>Cl</th>\n",
       "      <th>polymer</th>\n",
       "      <th>mol_weight</th>\n",
       "    </tr>\n",
       "  </thead>\n",
       "  <tbody>\n",
       "    <tr>\n",
       "      <th>0</th>\n",
       "      <td>C00002</td>\n",
       "      <td>C10H16N5O13P3</td>\n",
       "      <td>0</td>\n",
       "      <td>10</td>\n",
       "      <td>0</td>\n",
       "      <td>0</td>\n",
       "      <td>5</td>\n",
       "      <td>0</td>\n",
       "      <td>0</td>\n",
       "      <td>0</td>\n",
       "      <td>...</td>\n",
       "      <td>0</td>\n",
       "      <td>16</td>\n",
       "      <td>13</td>\n",
       "      <td>0</td>\n",
       "      <td>0</td>\n",
       "      <td>0</td>\n",
       "      <td>3</td>\n",
       "      <td>0</td>\n",
       "      <td>0</td>\n",
       "      <td>507.0</td>\n",
       "    </tr>\n",
       "    <tr>\n",
       "      <th>1</th>\n",
       "      <td>C00003</td>\n",
       "      <td>C21H28N7O14P2</td>\n",
       "      <td>0</td>\n",
       "      <td>21</td>\n",
       "      <td>0</td>\n",
       "      <td>0</td>\n",
       "      <td>7</td>\n",
       "      <td>0</td>\n",
       "      <td>0</td>\n",
       "      <td>0</td>\n",
       "      <td>...</td>\n",
       "      <td>0</td>\n",
       "      <td>28</td>\n",
       "      <td>14</td>\n",
       "      <td>0</td>\n",
       "      <td>0</td>\n",
       "      <td>0</td>\n",
       "      <td>2</td>\n",
       "      <td>0</td>\n",
       "      <td>0</td>\n",
       "      <td>664.0</td>\n",
       "    </tr>\n",
       "    <tr>\n",
       "      <th>2</th>\n",
       "      <td>C00005</td>\n",
       "      <td>C21H30N7O17P3</td>\n",
       "      <td>0</td>\n",
       "      <td>21</td>\n",
       "      <td>0</td>\n",
       "      <td>0</td>\n",
       "      <td>7</td>\n",
       "      <td>0</td>\n",
       "      <td>0</td>\n",
       "      <td>0</td>\n",
       "      <td>...</td>\n",
       "      <td>0</td>\n",
       "      <td>30</td>\n",
       "      <td>17</td>\n",
       "      <td>0</td>\n",
       "      <td>0</td>\n",
       "      <td>0</td>\n",
       "      <td>3</td>\n",
       "      <td>0</td>\n",
       "      <td>0</td>\n",
       "      <td>745.0</td>\n",
       "    </tr>\n",
       "    <tr>\n",
       "      <th>3</th>\n",
       "      <td>C00007</td>\n",
       "      <td>O2</td>\n",
       "      <td>0</td>\n",
       "      <td>0</td>\n",
       "      <td>0</td>\n",
       "      <td>0</td>\n",
       "      <td>0</td>\n",
       "      <td>0</td>\n",
       "      <td>0</td>\n",
       "      <td>0</td>\n",
       "      <td>...</td>\n",
       "      <td>0</td>\n",
       "      <td>0</td>\n",
       "      <td>2</td>\n",
       "      <td>0</td>\n",
       "      <td>0</td>\n",
       "      <td>0</td>\n",
       "      <td>0</td>\n",
       "      <td>0</td>\n",
       "      <td>0</td>\n",
       "      <td>32.0</td>\n",
       "    </tr>\n",
       "    <tr>\n",
       "      <th>4</th>\n",
       "      <td>C00011</td>\n",
       "      <td>CO2</td>\n",
       "      <td>0</td>\n",
       "      <td>1</td>\n",
       "      <td>0</td>\n",
       "      <td>0</td>\n",
       "      <td>0</td>\n",
       "      <td>0</td>\n",
       "      <td>0</td>\n",
       "      <td>0</td>\n",
       "      <td>...</td>\n",
       "      <td>0</td>\n",
       "      <td>0</td>\n",
       "      <td>2</td>\n",
       "      <td>0</td>\n",
       "      <td>0</td>\n",
       "      <td>0</td>\n",
       "      <td>0</td>\n",
       "      <td>0</td>\n",
       "      <td>0</td>\n",
       "      <td>44.0</td>\n",
       "    </tr>\n",
       "  </tbody>\n",
       "</table>\n",
       "<p>5 rows × 22 columns</p>\n",
       "</div>"
      ],
      "text/plain": [
       "       id        formula  Co   C  Br  Zn  N  Mo  S  Se  ...  X   H   O  As  F  \\\n",
       "0  C00002  C10H16N5O13P3   0  10   0   0  5   0  0   0  ...  0  16  13   0  0   \n",
       "1  C00003  C21H28N7O14P2   0  21   0   0  7   0  0   0  ...  0  28  14   0  0   \n",
       "2  C00005  C21H30N7O17P3   0  21   0   0  7   0  0   0  ...  0  30  17   0  0   \n",
       "3  C00007             O2   0   0   0   0  0   0  0   0  ...  0   0   2   0  0   \n",
       "4  C00011            CO2   0   1   0   0  0   0  0   0  ...  0   0   2   0  0   \n",
       "\n",
       "   R  P  Cl  polymer  mol_weight  \n",
       "0  0  3   0        0       507.0  \n",
       "1  0  2   0        0       664.0  \n",
       "2  0  3   0        0       745.0  \n",
       "3  0  0   0        0        32.0  \n",
       "4  0  0   0        0        44.0  \n",
       "\n",
       "[5 rows x 22 columns]"
      ]
     },
     "execution_count": 14,
     "metadata": {},
     "output_type": "execute_result"
    }
   ],
   "source": [
    "df = pd.read_csv('data/curated_complete_mw.csv', index_col=0)\n",
    "df.drop('mol_weight', axis=1, inplace=True)\n",
    "df.drop('R.1', axis=1, inplace=True)\n",
    "df.drop('Mr', axis=1, inplace=True)\n",
    "df.rename({'N.1':'mol_weight'}, axis=1, inplace=True)\n",
    "df.head()"
   ]
  },
  {
   "cell_type": "code",
   "execution_count": 15,
   "id": "e2a8bf26",
   "metadata": {},
   "outputs": [
    {
     "data": {
      "text/html": [
       "<div>\n",
       "<style scoped>\n",
       "    .dataframe tbody tr th:only-of-type {\n",
       "        vertical-align: middle;\n",
       "    }\n",
       "\n",
       "    .dataframe tbody tr th {\n",
       "        vertical-align: top;\n",
       "    }\n",
       "\n",
       "    .dataframe thead th {\n",
       "        text-align: right;\n",
       "    }\n",
       "</style>\n",
       "<table border=\"1\" class=\"dataframe\">\n",
       "  <thead>\n",
       "    <tr style=\"text-align: right;\">\n",
       "      <th></th>\n",
       "      <th>Reactant_pair</th>\n",
       "      <th>source</th>\n",
       "      <th>target</th>\n",
       "      <th>MW</th>\n",
       "    </tr>\n",
       "  </thead>\n",
       "  <tbody>\n",
       "    <tr>\n",
       "      <th>0</th>\n",
       "      <td>C00002_C07024</td>\n",
       "      <td>C00002</td>\n",
       "      <td>C07024</td>\n",
       "      <td>0.001976</td>\n",
       "    </tr>\n",
       "    <tr>\n",
       "      <th>1</th>\n",
       "      <td>C00003_C00004</td>\n",
       "      <td>C00003</td>\n",
       "      <td>C00004</td>\n",
       "      <td>0.000752</td>\n",
       "    </tr>\n",
       "    <tr>\n",
       "      <th>2</th>\n",
       "      <td>C00005_C00006</td>\n",
       "      <td>C00005</td>\n",
       "      <td>C00006</td>\n",
       "      <td>0.000672</td>\n",
       "    </tr>\n",
       "  </tbody>\n",
       "</table>\n",
       "</div>"
      ],
      "text/plain": [
       "   Reactant_pair  source  target        MW\n",
       "0  C00002_C07024  C00002  C07024  0.001976\n",
       "1  C00003_C00004  C00003  C00004  0.000752\n",
       "2  C00005_C00006  C00005  C00006  0.000672"
      ]
     },
     "metadata": {},
     "output_type": "display_data"
    }
   ],
   "source": [
    "source_mw = df.set_index('id')['mol_weight']\n",
    "target_mw = source_mw.reindex(pairs['target']).values\n",
    "\n",
    "pairs['MW'] = abs(source_mw.reindex(pairs['source']).values - target_mw) / (source_mw.reindex(pairs['source']).values + target_mw)\n",
    "\n",
    "display(pairs.head(3))"
   ]
  },
  {
   "cell_type": "markdown",
   "id": "8e7beb89",
   "metadata": {},
   "source": [
    "# Import to Networkx "
   ]
  },
  {
   "cell_type": "code",
   "execution_count": 16,
   "id": "bcafc55c",
   "metadata": {},
   "outputs": [
    {
     "name": "stdout",
     "output_type": "stream",
     "text": [
      "# nodes: 5620 \n",
      "# edges: 10747\n"
     ]
    }
   ],
   "source": [
    "import networkx as nx\n",
    "\n",
    "G = nx.Graph()\n",
    "\n",
    "# iterate over the rows of the DataFrame and add each edge to the graph\n",
    "for index, row in pairs.iterrows():\n",
    "    source = row['source']\n",
    "    target = row['target']\n",
    "    G.add_edge(source, target)\n",
    "\n",
    "# Add df cols as node features\n",
    "node_data = df.set_index('id').to_dict('index')\n",
    "\n",
    "# Add the node features to the graph\n",
    "for node, data in G.nodes(data=True):\n",
    "    node_features = node_data.get(node)\n",
    "    if node_features:\n",
    "        data.update(node_features)\n",
    "\n",
    "print('# nodes:', G.number_of_nodes(), \"\\n# edges:\", G.number_of_edges())"
   ]
  },
  {
   "cell_type": "code",
   "execution_count": 17,
   "id": "ac15ab3f",
   "metadata": {},
   "outputs": [],
   "source": [
    "if path.exists('data/nodes_centralities.csv'):\n",
    "    dc = pd.read_csv('data/nodes_centralities.csv', index_col=0)\n",
    "else:\n",
    "    # PageRank\n",
    "    pr = nx.pagerank(G)\n",
    "    pr = pd.DataFrame(list(pr.items()), columns=['Node', 'PageRank'])\n",
    "\n",
    "    # degree centrality\n",
    "    dc = nx.degree_centrality(G)\n",
    "    dc = pd.DataFrame(list(dc.items()), columns=['Node', 'Degree Centrality'])\n",
    "    \n",
    "    # Betweenness centrality\n",
    "    bc = nx.betweenness_centrality(G)\n",
    "    bv = pd.DataFrame(list(bc.items()), columns=['Node', 'Betweenness Centrality'])\n",
    "    \n",
    "    # centralities\n",
    "    dc['PageRank'] = pr['PageRank'].copy()\n",
    "    dc['Betweenness Centrality'] = bc['Betweenness Centrality'].copy()\n",
    "    dc.sort_values(by='PageRank', ascending=False, inplace=True)\n",
    "    dc = pd.merge(dc, df[['id','formula','mol_weight']].rename({'id':'Node'}, axis=1), on='Node')\n",
    "    dc.to_csv('data/nodes_centralities.csv')"
   ]
  },
  {
   "cell_type": "markdown",
   "id": "7c1743cb-635a-44de-a4b4-7882719ead3b",
   "metadata": {},
   "source": [
    "#### Scale the centrality measures"
   ]
  },
  {
   "cell_type": "code",
   "execution_count": 18,
   "id": "2bad3ebb-b6c0-48fc-98e5-36d4124f219a",
   "metadata": {
    "tags": []
   },
   "outputs": [
    {
     "name": "stdout",
     "output_type": "stream",
     "text": [
      "Centrality measures statistics: \n"
     ]
    },
    {
     "data": {
      "text/html": [
       "<div>\n",
       "<style scoped>\n",
       "    .dataframe tbody tr th:only-of-type {\n",
       "        vertical-align: middle;\n",
       "    }\n",
       "\n",
       "    .dataframe tbody tr th {\n",
       "        vertical-align: top;\n",
       "    }\n",
       "\n",
       "    .dataframe thead th {\n",
       "        text-align: right;\n",
       "    }\n",
       "</style>\n",
       "<table border=\"1\" class=\"dataframe\">\n",
       "  <thead>\n",
       "    <tr style=\"text-align: right;\">\n",
       "      <th></th>\n",
       "      <th>count</th>\n",
       "      <th>mean</th>\n",
       "      <th>std</th>\n",
       "      <th>min</th>\n",
       "      <th>25%</th>\n",
       "      <th>50%</th>\n",
       "      <th>75%</th>\n",
       "      <th>max</th>\n",
       "    </tr>\n",
       "  </thead>\n",
       "  <tbody>\n",
       "    <tr>\n",
       "      <th>Degree Centrality</th>\n",
       "      <td>5620.0</td>\n",
       "      <td>0.003087</td>\n",
       "      <td>0.019770</td>\n",
       "      <td>0.0000</td>\n",
       "      <td>1.092896e-03</td>\n",
       "      <td>0.001093</td>\n",
       "      <td>0.003279</td>\n",
       "      <td>1.0000</td>\n",
       "    </tr>\n",
       "    <tr>\n",
       "      <th>PageRank</th>\n",
       "      <td>5620.0</td>\n",
       "      <td>0.003621</td>\n",
       "      <td>0.020670</td>\n",
       "      <td>0.0000</td>\n",
       "      <td>1.266360e-03</td>\n",
       "      <td>0.002221</td>\n",
       "      <td>0.003468</td>\n",
       "      <td>1.0000</td>\n",
       "    </tr>\n",
       "    <tr>\n",
       "      <th>Betweenness Centrality</th>\n",
       "      <td>5620.0</td>\n",
       "      <td>0.001034</td>\n",
       "      <td>0.016605</td>\n",
       "      <td>0.0000</td>\n",
       "      <td>1.114510e-07</td>\n",
       "      <td>0.000079</td>\n",
       "      <td>0.000719</td>\n",
       "      <td>1.0000</td>\n",
       "    </tr>\n",
       "    <tr>\n",
       "      <th>mol_weight</th>\n",
       "      <td>5620.0</td>\n",
       "      <td>440.817497</td>\n",
       "      <td>328.063873</td>\n",
       "      <td>17.0305</td>\n",
       "      <td>1.881794e+02</td>\n",
       "      <td>320.466300</td>\n",
       "      <td>589.540650</td>\n",
       "      <td>2484.8138</td>\n",
       "    </tr>\n",
       "  </tbody>\n",
       "</table>\n",
       "</div>"
      ],
      "text/plain": [
       "                         count        mean         std      min           25%  \\\n",
       "Degree Centrality       5620.0    0.003087    0.019770   0.0000  1.092896e-03   \n",
       "PageRank                5620.0    0.003621    0.020670   0.0000  1.266360e-03   \n",
       "Betweenness Centrality  5620.0    0.001034    0.016605   0.0000  1.114510e-07   \n",
       "mol_weight              5620.0  440.817497  328.063873  17.0305  1.881794e+02   \n",
       "\n",
       "                               50%         75%        max  \n",
       "Degree Centrality         0.001093    0.003279     1.0000  \n",
       "PageRank                  0.002221    0.003468     1.0000  \n",
       "Betweenness Centrality    0.000079    0.000719     1.0000  \n",
       "mol_weight              320.466300  589.540650  2484.8138  "
      ]
     },
     "metadata": {},
     "output_type": "display_data"
    }
   ],
   "source": [
    "from sklearn.preprocessing import MinMaxScaler\n",
    "\n",
    "scaler = MinMaxScaler()\n",
    "dc[['Degree Centrality', 'PageRank', 'Betweenness Centrality']] = scaler.fit_transform(dc[['Degree Centrality', 'PageRank', 'Betweenness Centrality']])\n",
    "\n",
    "print('Centrality measures statistics: ')\n",
    "display(dc.describe().T)"
   ]
  },
  {
   "cell_type": "code",
   "execution_count": 19,
   "id": "a0246a65",
   "metadata": {},
   "outputs": [
    {
     "name": "stdout",
     "output_type": "stream",
     "text": [
      "1055\n",
      "785\n",
      "1572\n"
     ]
    }
   ],
   "source": [
    "# Number of compounds with centrality measure over the 75% threshold\n",
    "print(len(dc[dc['Betweenness Centrality'] > 0.000719]))\n",
    "\n",
    "print(len(dc[dc['Degree Centrality'] > 0.0034680]))\n",
    "\n",
    "print(len(dc[dc['PageRank'] > 0.003279]))"
   ]
  },
  {
   "cell_type": "code",
   "execution_count": 20,
   "id": "e6b737ac",
   "metadata": {},
   "outputs": [],
   "source": [
    "# top_centrality_nodes = list(dc[dc['Degree Centrality'] > 0.0034680]['Node'].values)\n",
    "\n",
    "# subset_df = df[df['id'].isin(top_centrality_nodes)]\n",
    "# subset_df"
   ]
  },
  {
   "cell_type": "code",
   "execution_count": 21,
   "id": "911f4c05-9ddf-419b-89e9-6e85a47cc4cc",
   "metadata": {},
   "outputs": [
    {
     "data": {
      "text/html": [
       "<div>\n",
       "<style scoped>\n",
       "    .dataframe tbody tr th:only-of-type {\n",
       "        vertical-align: middle;\n",
       "    }\n",
       "\n",
       "    .dataframe tbody tr th {\n",
       "        vertical-align: top;\n",
       "    }\n",
       "\n",
       "    .dataframe thead th {\n",
       "        text-align: right;\n",
       "    }\n",
       "</style>\n",
       "<table border=\"1\" class=\"dataframe\">\n",
       "  <thead>\n",
       "    <tr style=\"text-align: right;\">\n",
       "      <th></th>\n",
       "      <th>id</th>\n",
       "      <th>formula</th>\n",
       "      <th>Co</th>\n",
       "      <th>C</th>\n",
       "      <th>Br</th>\n",
       "      <th>Zn</th>\n",
       "      <th>N</th>\n",
       "      <th>Mo</th>\n",
       "      <th>S</th>\n",
       "      <th>Se</th>\n",
       "      <th>...</th>\n",
       "      <th>As</th>\n",
       "      <th>F</th>\n",
       "      <th>R</th>\n",
       "      <th>P</th>\n",
       "      <th>Cl</th>\n",
       "      <th>polymer</th>\n",
       "      <th>mol_weight</th>\n",
       "      <th>PageRank</th>\n",
       "      <th>Degree Centrality</th>\n",
       "      <th>Betweenness Centrality</th>\n",
       "    </tr>\n",
       "  </thead>\n",
       "  <tbody>\n",
       "    <tr>\n",
       "      <th>0</th>\n",
       "      <td>C00002</td>\n",
       "      <td>C10H16N5O13P3</td>\n",
       "      <td>0</td>\n",
       "      <td>10</td>\n",
       "      <td>0</td>\n",
       "      <td>0</td>\n",
       "      <td>5</td>\n",
       "      <td>0</td>\n",
       "      <td>0</td>\n",
       "      <td>0</td>\n",
       "      <td>...</td>\n",
       "      <td>0</td>\n",
       "      <td>0</td>\n",
       "      <td>0</td>\n",
       "      <td>3</td>\n",
       "      <td>0</td>\n",
       "      <td>0</td>\n",
       "      <td>507.0</td>\n",
       "      <td>0.220897</td>\n",
       "      <td>0.244809</td>\n",
       "      <td>0.147827</td>\n",
       "    </tr>\n",
       "    <tr>\n",
       "      <th>1</th>\n",
       "      <td>C00003</td>\n",
       "      <td>C21H28N7O14P2</td>\n",
       "      <td>0</td>\n",
       "      <td>21</td>\n",
       "      <td>0</td>\n",
       "      <td>0</td>\n",
       "      <td>7</td>\n",
       "      <td>0</td>\n",
       "      <td>0</td>\n",
       "      <td>0</td>\n",
       "      <td>...</td>\n",
       "      <td>0</td>\n",
       "      <td>0</td>\n",
       "      <td>0</td>\n",
       "      <td>2</td>\n",
       "      <td>0</td>\n",
       "      <td>0</td>\n",
       "      <td>664.0</td>\n",
       "      <td>0.007615</td>\n",
       "      <td>0.009836</td>\n",
       "      <td>0.000216</td>\n",
       "    </tr>\n",
       "  </tbody>\n",
       "</table>\n",
       "<p>2 rows × 25 columns</p>\n",
       "</div>"
      ],
      "text/plain": [
       "       id        formula  Co   C  Br  Zn  N  Mo  S  Se  ...  As  F  R  P  Cl  \\\n",
       "0  C00002  C10H16N5O13P3   0  10   0   0  5   0  0   0  ...   0  0  0  3   0   \n",
       "1  C00003  C21H28N7O14P2   0  21   0   0  7   0  0   0  ...   0  0  0  2   0   \n",
       "\n",
       "   polymer  mol_weight  PageRank  Degree Centrality  Betweenness Centrality  \n",
       "0        0       507.0  0.220897           0.244809                0.147827  \n",
       "1        0       664.0  0.007615           0.009836                0.000216  \n",
       "\n",
       "[2 rows x 25 columns]"
      ]
     },
     "execution_count": 21,
     "metadata": {},
     "output_type": "execute_result"
    }
   ],
   "source": [
    "# Concat to df the centrality measures from dc\n",
    "df = pd.merge(df, dc[['Node', 'PageRank', 'Degree Centrality', 'Betweenness Centrality']], left_on='id', right_on='Node')\n",
    "df.drop('Node', axis=1, inplace=True)\n",
    "df.head(2)"
   ]
  },
  {
   "cell_type": "code",
   "execution_count": 22,
   "id": "1677b7e5-f35c-4b85-8359-7a035cd17607",
   "metadata": {},
   "outputs": [
    {
     "data": {
      "text/html": [
       "<div>\n",
       "<style scoped>\n",
       "    .dataframe tbody tr th:only-of-type {\n",
       "        vertical-align: middle;\n",
       "    }\n",
       "\n",
       "    .dataframe tbody tr th {\n",
       "        vertical-align: top;\n",
       "    }\n",
       "\n",
       "    .dataframe thead th {\n",
       "        text-align: right;\n",
       "    }\n",
       "</style>\n",
       "<table border=\"1\" class=\"dataframe\">\n",
       "  <thead>\n",
       "    <tr style=\"text-align: right;\">\n",
       "      <th></th>\n",
       "      <th>Reactant_pair</th>\n",
       "      <th>source</th>\n",
       "      <th>target</th>\n",
       "      <th>MW</th>\n",
       "      <th>MW_wCentr</th>\n",
       "    </tr>\n",
       "  </thead>\n",
       "  <tbody>\n",
       "    <tr>\n",
       "      <th>0</th>\n",
       "      <td>C00002_C07024</td>\n",
       "      <td>C00002</td>\n",
       "      <td>C07024</td>\n",
       "      <td>0.001976</td>\n",
       "      <td>0.100431</td>\n",
       "    </tr>\n",
       "    <tr>\n",
       "      <th>1</th>\n",
       "      <td>C00003_C00004</td>\n",
       "      <td>C00003</td>\n",
       "      <td>C00004</td>\n",
       "      <td>0.000752</td>\n",
       "      <td>0.001602</td>\n",
       "    </tr>\n",
       "    <tr>\n",
       "      <th>2</th>\n",
       "      <td>C00005_C00006</td>\n",
       "      <td>C00005</td>\n",
       "      <td>C00006</td>\n",
       "      <td>0.000672</td>\n",
       "      <td>0.000305</td>\n",
       "    </tr>\n",
       "  </tbody>\n",
       "</table>\n",
       "</div>"
      ],
      "text/plain": [
       "   Reactant_pair  source  target        MW  MW_wCentr\n",
       "0  C00002_C07024  C00002  C07024  0.001976   0.100431\n",
       "1  C00003_C00004  C00003  C00004  0.000752   0.001602\n",
       "2  C00005_C00006  C00005  C00006  0.000672   0.000305"
      ]
     },
     "metadata": {},
     "output_type": "display_data"
    }
   ],
   "source": [
    "# Create new mw adding info from centrality measure\n",
    "df['mw'] = df['mol_weight'] + df['mol_weight'] * df['PageRank']\n",
    "\n",
    "# Update the edge weight\n",
    "source_mw = df.set_index('id')['mw']\n",
    "target_mw = source_mw.reindex(pairs['target']).values\n",
    "\n",
    "pairs['MW_wCentr'] = abs(source_mw.reindex(pairs['source']).values - target_mw) / (source_mw.reindex(pairs['source']).values + target_mw)\n",
    "\n",
    "display(pairs.head(3))"
   ]
  },
  {
   "cell_type": "markdown",
   "id": "4a8f247b",
   "metadata": {},
   "source": [
    "# Node2Vec"
   ]
  },
  {
   "cell_type": "code",
   "execution_count": 23,
   "id": "2cd17c0f",
   "metadata": {},
   "outputs": [
    {
     "ename": "KeyboardInterrupt",
     "evalue": "",
     "output_type": "error",
     "traceback": [
      "\u001b[0;31m---------------------------------------------------------------------------\u001b[0m",
      "\u001b[0;31mKeyboardInterrupt\u001b[0m                         Traceback (most recent call last)",
      "Cell \u001b[0;32mIn[23], line 10\u001b[0m\n\u001b[1;32m      7\u001b[0m \u001b[38;5;124m\"\u001b[39m\u001b[38;5;124m Perform node embedding using Node2Vec \u001b[39m\u001b[38;5;124m\"\u001b[39m\n\u001b[1;32m      8\u001b[0m N2vec_model \u001b[38;5;241m=\u001b[39m Node2Vec(walk_number\u001b[38;5;241m=\u001b[39m\u001b[38;5;241m3\u001b[39m, walk_length\u001b[38;5;241m=\u001b[39m\u001b[38;5;241m20\u001b[39m,q\u001b[38;5;241m=\u001b[39m\u001b[38;5;241m.25\u001b[39m,\\\n\u001b[1;32m      9\u001b[0m                        dimensions\u001b[38;5;241m=\u001b[39m\u001b[38;5;241m124\u001b[39m)\n\u001b[0;32m---> 10\u001b[0m \u001b[43mN2vec_model\u001b[49m\u001b[38;5;241;43m.\u001b[39;49m\u001b[43mfit\u001b[49m\u001b[43m(\u001b[49m\u001b[43mG\u001b[49m\u001b[43m)\u001b[49m\n\u001b[1;32m     11\u001b[0m N2Vec_embedding \u001b[38;5;241m=\u001b[39m N2vec_model\u001b[38;5;241m.\u001b[39mget_embedding()\n\u001b[1;32m     12\u001b[0m \u001b[38;5;28mprint\u001b[39m(\u001b[38;5;124m'\u001b[39m\u001b[38;5;124mEmbedding array shape (nodes x features):\u001b[39m\u001b[38;5;124m'\u001b[39m,N2Vec_embedding\u001b[38;5;241m.\u001b[39mshape )\n",
      "File \u001b[0;32m~/Desktop/python-envs/main-bio/lib/python3.9/site-packages/karateclub/node_embedding/neighbourhood/node2vec.py:71\u001b[0m, in \u001b[0;36mNode2Vec.fit\u001b[0;34m(self, graph)\u001b[0m\n\u001b[1;32m     69\u001b[0m graph \u001b[38;5;241m=\u001b[39m \u001b[38;5;28mself\u001b[39m\u001b[38;5;241m.\u001b[39m_check_graph(graph)\n\u001b[1;32m     70\u001b[0m walker \u001b[38;5;241m=\u001b[39m BiasedRandomWalker(\u001b[38;5;28mself\u001b[39m\u001b[38;5;241m.\u001b[39mwalk_length, \u001b[38;5;28mself\u001b[39m\u001b[38;5;241m.\u001b[39mwalk_number, \u001b[38;5;28mself\u001b[39m\u001b[38;5;241m.\u001b[39mp, \u001b[38;5;28mself\u001b[39m\u001b[38;5;241m.\u001b[39mq)\n\u001b[0;32m---> 71\u001b[0m \u001b[43mwalker\u001b[49m\u001b[38;5;241;43m.\u001b[39;49m\u001b[43mdo_walks\u001b[49m\u001b[43m(\u001b[49m\u001b[43mgraph\u001b[49m\u001b[43m)\u001b[49m\n\u001b[1;32m     73\u001b[0m model \u001b[38;5;241m=\u001b[39m Word2Vec(\n\u001b[1;32m     74\u001b[0m     walker\u001b[38;5;241m.\u001b[39mwalks,\n\u001b[1;32m     75\u001b[0m     hs\u001b[38;5;241m=\u001b[39m\u001b[38;5;241m1\u001b[39m,\n\u001b[0;32m   (...)\u001b[0m\n\u001b[1;32m     82\u001b[0m     seed\u001b[38;5;241m=\u001b[39m\u001b[38;5;28mself\u001b[39m\u001b[38;5;241m.\u001b[39mseed,\n\u001b[1;32m     83\u001b[0m )\n\u001b[1;32m     85\u001b[0m n_nodes \u001b[38;5;241m=\u001b[39m graph\u001b[38;5;241m.\u001b[39mnumber_of_nodes()\n",
      "File \u001b[0;32m~/Desktop/python-envs/main-bio/lib/python3.9/site-packages/karateclub/utils/walker.py:181\u001b[0m, in \u001b[0;36mBiasedRandomWalker.do_walks\u001b[0;34m(self, graph)\u001b[0m\n\u001b[1;32m    179\u001b[0m \u001b[38;5;28;01mfor\u001b[39;00m node \u001b[38;5;129;01min\u001b[39;00m \u001b[38;5;28mself\u001b[39m\u001b[38;5;241m.\u001b[39mgraph\u001b[38;5;241m.\u001b[39mnodes():\n\u001b[1;32m    180\u001b[0m     \u001b[38;5;28;01mfor\u001b[39;00m _ \u001b[38;5;129;01min\u001b[39;00m \u001b[38;5;28mrange\u001b[39m(\u001b[38;5;28mself\u001b[39m\u001b[38;5;241m.\u001b[39mwalk_number):\n\u001b[0;32m--> 181\u001b[0m         walk_from_node \u001b[38;5;241m=\u001b[39m \u001b[38;5;28;43mself\u001b[39;49m\u001b[38;5;241;43m.\u001b[39;49m\u001b[43mdo_walk\u001b[49m\u001b[43m(\u001b[49m\u001b[43mnode\u001b[49m\u001b[43m)\u001b[49m\n\u001b[1;32m    182\u001b[0m         \u001b[38;5;28mself\u001b[39m\u001b[38;5;241m.\u001b[39mwalks\u001b[38;5;241m.\u001b[39mappend(walk_from_node)\n",
      "File \u001b[0;32m~/Desktop/python-envs/main-bio/lib/python3.9/site-packages/karateclub/utils/walker.py:155\u001b[0m, in \u001b[0;36mBiasedRandomWalker.do_walk\u001b[0;34m(self, node)\u001b[0m\n\u001b[1;32m    145\u001b[0m probability \u001b[38;5;241m=\u001b[39m np\u001b[38;5;241m.\u001b[39mpiecewise(\n\u001b[1;32m    146\u001b[0m     weights,\n\u001b[1;32m    147\u001b[0m     [\n\u001b[0;32m   (...)\u001b[0m\n\u001b[1;32m    151\u001b[0m     [\u001b[38;5;28;01mlambda\u001b[39;00m w: w \u001b[38;5;241m/\u001b[39m \u001b[38;5;28mself\u001b[39m\u001b[38;5;241m.\u001b[39mp, \u001b[38;5;28;01mlambda\u001b[39;00m w: w \u001b[38;5;241m/\u001b[39m \u001b[38;5;241m1\u001b[39m, \u001b[38;5;28;01mlambda\u001b[39;00m w: w \u001b[38;5;241m/\u001b[39m \u001b[38;5;28mself\u001b[39m\u001b[38;5;241m.\u001b[39mq],\n\u001b[1;32m    152\u001b[0m )\n\u001b[1;32m    154\u001b[0m norm_probability \u001b[38;5;241m=\u001b[39m probability \u001b[38;5;241m/\u001b[39m \u001b[38;5;28msum\u001b[39m(probability)\n\u001b[0;32m--> 155\u001b[0m selected \u001b[38;5;241m=\u001b[39m \u001b[43mnp\u001b[49m\u001b[38;5;241;43m.\u001b[39;49m\u001b[43mrandom\u001b[49m\u001b[38;5;241;43m.\u001b[39;49m\u001b[43mchoice\u001b[49m\u001b[43m(\u001b[49m\u001b[43mcurrent_node_neighbors\u001b[49m\u001b[43m,\u001b[49m\u001b[43m \u001b[49m\u001b[38;5;241;43m1\u001b[39;49m\u001b[43m,\u001b[49m\u001b[43m \u001b[49m\u001b[43mp\u001b[49m\u001b[38;5;241;43m=\u001b[39;49m\u001b[43mnorm_probability\u001b[49m\u001b[43m)\u001b[49m[\n\u001b[1;32m    156\u001b[0m     \u001b[38;5;241m0\u001b[39m\n\u001b[1;32m    157\u001b[0m ]\n\u001b[1;32m    158\u001b[0m walk\u001b[38;5;241m.\u001b[39mappend(selected)\n\u001b[1;32m    160\u001b[0m previous_node_neighbors \u001b[38;5;241m=\u001b[39m current_node_neighbors\n",
      "\u001b[0;31mKeyboardInterrupt\u001b[0m: "
     ]
    }
   ],
   "source": [
    "from karateclub import Node2Vec\n",
    "\n",
    "# Map node names to integers\n",
    "mapping = {node: i for i, node in enumerate(G.nodes())}\n",
    "G = nx.relabel_nodes(G, mapping)\n",
    "\n",
    "\" Perform node embedding using Node2Vec \"\n",
    "N2vec_model = Node2Vec(walk_number=3, walk_length=20,q=.25,\\\n",
    "                       dimensions=124)\n",
    "N2vec_model.fit(G)\n",
    "N2Vec_embedding = N2vec_model.get_embedding()\n",
    "print('Embedding array shape (nodes x features):',N2Vec_embedding.shape )"
   ]
  },
  {
   "cell_type": "code",
   "execution_count": null,
   "id": "9e052d28",
   "metadata": {},
   "outputs": [],
   "source": [
    "# Add a new column to data.x with the node names from the mapping\n",
    "node_names = [None] * len(N2Vec_embedding)\n",
    "\n",
    "for node, index in mapping.items():\n",
    "    node_names[index] = node   \n",
    "n2v_data = np.column_stack((N2Vec_embedding, node_names))\n",
    "n2v_data = pd.DataFrame(n2v_data)"
   ]
  },
  {
   "cell_type": "code",
   "execution_count": null,
   "id": "46c15eee",
   "metadata": {},
   "outputs": [],
   "source": [
    "n2v_data"
   ]
  },
  {
   "cell_type": "code",
   "execution_count": null,
   "id": "12194f9a",
   "metadata": {},
   "outputs": [],
   "source": [
    "from sklearn.metrics.pairwise import cosine_similarity\n",
    "from scipy.stats import pearsonr\n",
    "\n",
    "# Suppose you have the node embeddings in a dictionary called 'embeddings'\n",
    "u_embedding = n2v_data.iloc[1666,:-1]\n",
    "v_embedding = n2v_data.iloc[3607,:-1]\n",
    "\n",
    "similarity = cosine_similarity(u_embedding.values.reshape(1, -1), \\\n",
    "                               v_embedding.values.reshape(1, -1))[0, 0]\n",
    "print(similarity)"
   ]
  },
  {
   "cell_type": "code",
   "execution_count": null,
   "id": "89cb646c",
   "metadata": {},
   "outputs": [],
   "source": [
    "n2v_data[n2v_data[124] == 'C0022']"
   ]
  },
  {
   "cell_type": "code",
   "execution_count": null,
   "id": "876039dc",
   "metadata": {},
   "outputs": [],
   "source": [
    "n2v_data[n2v_data[124] == 'C12096']"
   ]
  },
  {
   "cell_type": "code",
   "execution_count": null,
   "id": "cac22ba3",
   "metadata": {},
   "outputs": [],
   "source": [
    "n2v_data[n2v_data[124] == 'C00323']"
   ]
  },
  {
   "cell_type": "code",
   "execution_count": null,
   "id": "7d89fe35",
   "metadata": {},
   "outputs": [],
   "source": []
  },
  {
   "cell_type": "code",
   "execution_count": null,
   "id": "fad91cf2",
   "metadata": {},
   "outputs": [],
   "source": []
  },
  {
   "cell_type": "markdown",
   "id": "9ab589a9",
   "metadata": {},
   "source": [
    "## Add edge attributes"
   ]
  },
  {
   "cell_type": "code",
   "execution_count": null,
   "id": "fff8ada7",
   "metadata": {
    "tags": []
   },
   "outputs": [],
   "source": [
    "def get_weights(a,b, method):\n",
    "    \n",
    "    # a_C and b_C is the number of C at each compound\n",
    "    '''\n",
    "    Checking if we go from a compound with C to a compound with no C\n",
    "    '''\n",
    "    a_C = df[df['id']==a]['C'].values\n",
    "    b_C = df[df['id']==b]['C'].values\n",
    "    \n",
    "    if (a_C != 0 and b_C == 0) or (a_C == 0 and b_C != 0):\n",
    "        return 999\n",
    "    \n",
    "    try:\n",
    "        w = pairs[(pairs['source'] == a) & (pairs['target'] == b)][method].values[0]\n",
    "    except IndexError:\n",
    "        w = pairs[(pairs['source'] == b) & (pairs['target'] == a)][method].values[0]\n",
    "    \n",
    "    return w\n",
    "\n",
    "for edge in G.edges():\n",
    "    G.edges[(edge[0], edge[1])]['weight'] = \\\n",
    "            get_weights(edge[0], edge[1], method='MW')"
   ]
  },
  {
   "cell_type": "code",
   "execution_count": null,
   "id": "205098eb",
   "metadata": {},
   "outputs": [],
   "source": [
    "source = 'C00082'\n",
    "target = 'C01533'\n",
    "list(nx.shortest_path(G, source, target, weight='weight'))"
   ]
  },
  {
   "cell_type": "markdown",
   "id": "8210c015-3f8a-4506-b2ec-6519a732eb61",
   "metadata": {
    "tags": []
   },
   "source": [
    "### Load file with test cases fron NICEpath"
   ]
  },
  {
   "cell_type": "code",
   "execution_count": null,
   "id": "857be4fd-6501-4c86-be18-fe6d0338ea97",
   "metadata": {},
   "outputs": [],
   "source": [
    "test_cases = pd.read_csv('data/test_cases.csv')\n",
    "test_cases['source'] = test_cases['Pathway '].apply(lambda x: x.split(',')[0])\n",
    "test_cases['target'] = test_cases['Pathway '].apply(lambda x: x.split(',')[len(x.split(','))-1])\n",
    "test_cases.head(3)"
   ]
  },
  {
   "cell_type": "code",
   "execution_count": null,
   "id": "f88240e8-681a-4f80-a608-cd1cec4e83dd",
   "metadata": {},
   "outputs": [],
   "source": [
    "for row in range(len(test_cases)):\n",
    "    source = test_cases['source'].iloc[row]\n",
    "    target = test_cases['target'].iloc[row]\n",
    "    print(list(nx.shortest_path(G, source, target, weight='weight')))"
   ]
  },
  {
   "cell_type": "code",
   "execution_count": null,
   "id": "7305294d-914c-4b07-85bf-0cfb6e230b78",
   "metadata": {},
   "outputs": [],
   "source": []
  },
  {
   "cell_type": "code",
   "execution_count": null,
   "id": "cf8adc75-ffb2-4b57-996d-78e6397980cc",
   "metadata": {},
   "outputs": [],
   "source": []
  },
  {
   "cell_type": "code",
   "execution_count": null,
   "id": "fa41f407-bfbf-4793-aa02-c4f8a852c53c",
   "metadata": {},
   "outputs": [],
   "source": []
  },
  {
   "cell_type": "code",
   "execution_count": null,
   "id": "e3907cd9-836f-4615-8625-9d8b540c7c4a",
   "metadata": {},
   "outputs": [],
   "source": []
  },
  {
   "cell_type": "code",
   "execution_count": null,
   "id": "157fad01-2e1d-4cfb-9749-ccabcc4f7e69",
   "metadata": {},
   "outputs": [],
   "source": []
  },
  {
   "cell_type": "code",
   "execution_count": null,
   "id": "d0296b29-b571-4fde-a5b6-47d0b3f634a5",
   "metadata": {},
   "outputs": [],
   "source": []
  },
  {
   "cell_type": "code",
   "execution_count": null,
   "id": "79548479-23d0-4387-a7fe-451c2fc99aa8",
   "metadata": {},
   "outputs": [],
   "source": []
  },
  {
   "cell_type": "code",
   "execution_count": null,
   "id": "32e095cd-dc19-4518-88a8-ddc274aebd92",
   "metadata": {},
   "outputs": [],
   "source": []
  },
  {
   "cell_type": "markdown",
   "id": "ff1b8b97",
   "metadata": {},
   "source": [
    "### Get node embeddings using GNN and Clustering (idea)"
   ]
  },
  {
   "cell_type": "code",
   "execution_count": null,
   "id": "ef3f8c51",
   "metadata": {},
   "outputs": [],
   "source": [
    "# Backup df\n",
    "df_copy = df.copy()"
   ]
  },
  {
   "cell_type": "code",
   "execution_count": null,
   "id": "91e3b0cd",
   "metadata": {},
   "outputs": [],
   "source": [
    "from sklearn.preprocessing import StandardScaler\n",
    "\n",
    "'''Scale df'''\n",
    "# Select the columns with non-object data types\n",
    "numeric_cols = df.select_dtypes(include=['int', 'float']).columns\n",
    "\n",
    "# Apply standard scaling to the selected columns\n",
    "scaler = StandardScaler()\n",
    "df[numeric_cols] = scaler.fit_transform(df[numeric_cols])\n",
    "\n",
    "'''Recreate Graph'''\n",
    "G = nx.Graph()\n",
    "\n",
    "# iterate over the rows of the DataFrame and add each edge to the graph\n",
    "for index, row in pairs.iterrows():\n",
    "    source = row['source']\n",
    "    target = row['target']\n",
    "    G.add_edge(source, target)\n",
    "\n",
    "# Add df cols as node features\n",
    "node_data = df.set_index('id').to_dict('index')\n",
    "\n",
    "# Add the node features to the graph\n",
    "for node, data in G.nodes(data=True):\n",
    "    node_features = node_data.get(node)\n",
    "    if node_features:\n",
    "        data.update(node_features)\n",
    "\n",
    "print('# nodes:', G.number_of_nodes(), \"\\n# edges:\", G.number_of_edges())"
   ]
  },
  {
   "cell_type": "code",
   "execution_count": null,
   "id": "bcc1c99a",
   "metadata": {},
   "outputs": [],
   "source": [
    "from torch_geometric.utils.convert import from_networkx\n",
    "import torch_geometric.transforms as T\n",
    "from torch_geometric.nn import SAGEConv\n",
    "import torch\n",
    "import torch.nn as nn\n",
    "import torch.nn.functional as F\n",
    "\n",
    "node_features = [col for col in df.drop(['id', 'formula'], axis=1).columns]\n",
    "\n",
    "data = from_networkx(G, group_node_attrs=node_features)\n",
    "print(data.x.shape)\n",
    "\n",
    "# Map node names to integers\n",
    "mapping = {node: i for i, node in enumerate(G.nodes())}\n",
    "G = nx.relabel_nodes(G, mapping)\n",
    "\n",
    "# Add a new column to data.x with the node names from the mapping\n",
    "node_names = [None] * len(data.x)\n",
    "for node, index in mapping.items():\n",
    "    node_names[index] = node\n",
    "    \n",
    "graph_data = np.column_stack((data.x, node_names))\n",
    "graph_data = pd.DataFrame(graph_data)"
   ]
  },
  {
   "cell_type": "code",
   "execution_count": null,
   "id": "e7f1db49",
   "metadata": {
    "scrolled": true
   },
   "outputs": [],
   "source": [
    "'''\n",
    "Graph embedding good method (maybe)\n",
    "'''\n",
    "import torch\n",
    "import torch.nn.functional as F\n",
    "from torch_geometric.nn import GCNConv, GAE\n",
    "\n",
    "# Define the model architecture\n",
    "class Encoder(torch.nn.Module):\n",
    "    def __init__(self):\n",
    "        super(Encoder, self).__init__()\n",
    "        self.conv1 = GCNConv(data.num_node_features, 4)\n",
    "        self.conv2 = GCNConv(4, 8)\n",
    "        self.conv3 = GCNConv(8, 4)\n",
    "\n",
    "    def forward(self, x, edge_index):\n",
    "        x = self.conv1(x, edge_index)\n",
    "        x = F.relu(x)\n",
    "        x = self.conv2(x, edge_index)\n",
    "        X = F.relu(x)\n",
    "        x = self.conv3(x, edge_index)\n",
    "        return x\n",
    "\n",
    "class Decoder(torch.nn.Module):\n",
    "    def __init__(self):\n",
    "        super(Decoder, self).__init__()\n",
    "        self.linear = torch.nn.Linear(4, data.num_node_features)\n",
    "\n",
    "    def forward(self, z):\n",
    "        x = self.linear(z)\n",
    "        return torch.sigmoid(x)\n",
    "\n",
    "model = GAE(Encoder(), Decoder())\n",
    "\n",
    "# Define the loss function and the optimizer\n",
    "criterion = torch.nn.BCELoss()\n",
    "optimizer = torch.optim.Adam(model.parameters(), lr=0.01)\n",
    "\n",
    "# Train the model\n",
    "model.train()\n",
    "for epoch in range(100):\n",
    "    optimizer.zero_grad()\n",
    "    z = model.encode(data.x, data.edge_index)\n",
    "    out = model.decode(z)\n",
    "    loss = criterion(out, data.x)\n",
    "    loss.backward()\n",
    "    optimizer.step()\n",
    "    \n",
    "    if(epoch % 20 == 0):\n",
    "        print('Epoch: {:03d}, Loss: {:.4f}'.format(epoch, loss.item()))\n",
    "    \n",
    "    \n",
    "model.eval()\n",
    "emb = model.encode(data.x, data.edge_index)\n",
    "print(emb.shape)"
   ]
  },
  {
   "cell_type": "code",
   "execution_count": null,
   "id": "6552264e",
   "metadata": {},
   "outputs": [],
   "source": [
    "node_embeddings=pd.DataFrame(emb.detach().numpy())\n",
    "node_embeddings['id']  = graph_data[graph_data.shape[1]-1]\n",
    "# node_embeddings.set_index('id', inplace=True)\n",
    "node_embeddings"
   ]
  },
  {
   "cell_type": "code",
   "execution_count": null,
   "id": "3eab357e",
   "metadata": {},
   "outputs": [],
   "source": [
    "display(node_embeddings[node_embeddings['id'] == 'C00031'])\n",
    "display(node_embeddings[node_embeddings['id'] == 'C00002'])"
   ]
  },
  {
   "cell_type": "code",
   "execution_count": null,
   "id": "1113dbc3",
   "metadata": {},
   "outputs": [],
   "source": [
    "from sklearn.metrics.pairwise import cosine_similarity\n",
    "from scipy.stats import pearsonr\n",
    "\n",
    "# Suppose you have the node embeddings in a dictionary called 'embeddings'\n",
    "u_embedding = node_embeddings.iloc[23,:-1]\n",
    "v_embedding = node_embeddings.iloc[5619,:-1]\n",
    "\n",
    "similarity = cosine_similarity(u_embedding.values.reshape(1, -1), v_embedding.values.reshape(1, -1))[0, 0]\n",
    "print(similarity)"
   ]
  },
  {
   "cell_type": "code",
   "execution_count": null,
   "id": "38060885",
   "metadata": {},
   "outputs": [],
   "source": []
  },
  {
   "cell_type": "code",
   "execution_count": null,
   "id": "3bfa935c",
   "metadata": {},
   "outputs": [],
   "source": []
  },
  {
   "cell_type": "code",
   "execution_count": null,
   "id": "2f6e4f78",
   "metadata": {},
   "outputs": [],
   "source": []
  },
  {
   "cell_type": "code",
   "execution_count": null,
   "id": "303c6a6a",
   "metadata": {},
   "outputs": [],
   "source": []
  },
  {
   "cell_type": "code",
   "execution_count": null,
   "id": "6a1f2194",
   "metadata": {},
   "outputs": [],
   "source": []
  },
  {
   "cell_type": "code",
   "execution_count": null,
   "id": "27fd91a1",
   "metadata": {},
   "outputs": [],
   "source": []
  },
  {
   "cell_type": "code",
   "execution_count": null,
   "id": "886deb71",
   "metadata": {},
   "outputs": [],
   "source": []
  },
  {
   "cell_type": "code",
   "execution_count": null,
   "id": "e000bbfb",
   "metadata": {},
   "outputs": [],
   "source": []
  },
  {
   "cell_type": "code",
   "execution_count": null,
   "id": "c8489d7f",
   "metadata": {},
   "outputs": [],
   "source": []
  },
  {
   "cell_type": "code",
   "execution_count": null,
   "id": "c84586d2",
   "metadata": {},
   "outputs": [],
   "source": []
  },
  {
   "cell_type": "code",
   "execution_count": null,
   "id": "704fd6dc",
   "metadata": {},
   "outputs": [],
   "source": []
  },
  {
   "cell_type": "code",
   "execution_count": null,
   "id": "66909e10",
   "metadata": {},
   "outputs": [],
   "source": []
  },
  {
   "cell_type": "code",
   "execution_count": null,
   "id": "2778878c",
   "metadata": {},
   "outputs": [],
   "source": []
  },
  {
   "cell_type": "code",
   "execution_count": null,
   "id": "fdd67015",
   "metadata": {},
   "outputs": [],
   "source": []
  },
  {
   "cell_type": "code",
   "execution_count": null,
   "id": "dcd2d4f4",
   "metadata": {},
   "outputs": [],
   "source": []
  },
  {
   "cell_type": "code",
   "execution_count": null,
   "id": "1877ba60",
   "metadata": {},
   "outputs": [],
   "source": []
  },
  {
   "cell_type": "code",
   "execution_count": null,
   "id": "a5a06cf7",
   "metadata": {},
   "outputs": [],
   "source": []
  },
  {
   "cell_type": "code",
   "execution_count": null,
   "id": "19c566f5",
   "metadata": {},
   "outputs": [],
   "source": [
    "class SAGE(nn.Module):\n",
    "    def __init__(self, in_channels, hidden_channels, num_layers):\n",
    "        super(SAGE, self).__init__()\n",
    "        self.num_layers = num_layers\n",
    "        self.convs = nn.ModuleList()\n",
    "        \n",
    "        for i in range(num_layers):\n",
    "            in_channels = in_channels if i == 0 else hidden_channels\n",
    "            self.convs.append(SAGEConv(in_channels, hidden_channels))\n",
    "\n",
    "    def forward(self, x, adjs):\n",
    "        for i, (edge_index, _, size) in enumerate(adjs):\n",
    "            x_target = x[:size[1]]  # Target nodes are always placed first.\n",
    "            x = self.convs[i]((x, x_target), edge_index)\n",
    "            if i != self.num_layers - 1:\n",
    "                x = x.relu()\n",
    "                x = F.dropout(x, p=0.5, training=self.training)\n",
    "        return x\n",
    "\n",
    "    def full_forward(self, x, edge_index):\n",
    "        for i, conv in enumerate(self.convs):\n",
    "            x = conv(x, edge_index)\n",
    "            if i != self.num_layers - 1:\n",
    "                x = x.relu()\n",
    "                x = F.dropout(x, p=0.5, training=self.training)\n",
    "        return x\n",
    "\n",
    "\n",
    "device = torch.device('cuda' if torch.cuda.is_available() else 'cpu')\n",
    "\n",
    "model = SAGE(data.num_node_features, hidden_channels=4, \\\n",
    "             num_layers=1)\n",
    "\n",
    "model = model.to(device)\n",
    "\n",
    "optimizer = torch.optim.Adam(model.parameters(), lr=0.01)\n",
    "\n",
    "x, edge_index = data.x.to(device), data.edge_index.to(device)\n",
    "\n",
    "# Forward propagate the graph through the model\n",
    "model.eval()\n",
    "with torch.no_grad():\n",
    "    out = model.full_forward(data.x, data.edge_index)\n",
    "\n",
    "# Extract the node embeddings\n",
    "node_embeddings = out.numpy()  # or out.detach().numpy() if using PyTorch version <1.6\n",
    "\n",
    "# Print the shape of the node embeddings matrix\n",
    "print('Node embeddings shape:', node_embeddings.shape)"
   ]
  },
  {
   "cell_type": "code",
   "execution_count": null,
   "id": "2a2caaec",
   "metadata": {},
   "outputs": [],
   "source": [
    "node_embeddings=pd.DataFrame(node_embeddings)\n",
    "node_embeddings['id']  = graph_data[graph_data.shape[1]-1]\n",
    "# node_embeddings.set_index('id', inplace=True)\n",
    "node_embeddings"
   ]
  },
  {
   "cell_type": "code",
   "execution_count": null,
   "id": "9c048e70",
   "metadata": {
    "scrolled": true
   },
   "outputs": [],
   "source": [
    "node_embeddings[node_embeddings['id'] == 'C00811']"
   ]
  },
  {
   "cell_type": "code",
   "execution_count": null,
   "id": "27bbfa19",
   "metadata": {},
   "outputs": [],
   "source": [
    "node_embeddings[node_embeddings['id'] == 'C00013']"
   ]
  },
  {
   "cell_type": "code",
   "execution_count": null,
   "id": "434b54c8",
   "metadata": {},
   "outputs": [],
   "source": [
    "node_embeddings[node_embeddings['id'] == 'C00146']"
   ]
  },
  {
   "cell_type": "code",
   "execution_count": null,
   "id": "7b4e15cf",
   "metadata": {},
   "outputs": [],
   "source": [
    "from sklearn.metrics.pairwise import cosine_similarity\n",
    "from scipy.stats import pearsonr\n",
    "\n",
    "# Suppose you have the node embeddings in a dictionary called 'embeddings'\n",
    "u_embedding = node_embeddings.iloc[62,:-1]\n",
    "v_embedding = node_embeddings.iloc[3809,:-1]\n",
    "\n",
    "similarity = cosine_similarity(u_embedding.values.reshape(1, -1), v_embedding.values.reshape(1, -1))[0, 0]\n",
    "print(similarity)"
   ]
  },
  {
   "cell_type": "code",
   "execution_count": null,
   "id": "37ae1f5e",
   "metadata": {},
   "outputs": [],
   "source": [
    "similarity, _ = pearsonr(u_embedding, v_embedding)\n",
    "print(similarity)"
   ]
  },
  {
   "cell_type": "code",
   "execution_count": null,
   "id": "7869d8b3",
   "metadata": {},
   "outputs": [],
   "source": [
    "distance = np.linalg.norm(u_embedding - v_embedding)\n",
    "similarity = 1 / (1 + distance)\n",
    "print(similarity)"
   ]
  },
  {
   "cell_type": "code",
   "execution_count": null,
   "id": "b5a4d14d",
   "metadata": {},
   "outputs": [],
   "source": []
  },
  {
   "cell_type": "code",
   "execution_count": null,
   "id": "ffb478b8",
   "metadata": {},
   "outputs": [],
   "source": []
  },
  {
   "cell_type": "code",
   "execution_count": null,
   "id": "e4b9335a",
   "metadata": {},
   "outputs": [],
   "source": []
  },
  {
   "cell_type": "code",
   "execution_count": null,
   "id": "13717131",
   "metadata": {},
   "outputs": [],
   "source": []
  },
  {
   "cell_type": "code",
   "execution_count": null,
   "id": "ee0c0a4b",
   "metadata": {},
   "outputs": [],
   "source": [
    "# Add cosine similarity from embedding to pairs \n",
    "cos_sim = []\n",
    "for row in range(len(pairs)):\n",
    "    \n",
    "    source = pairs['source'].iloc[row]\n",
    "    target = pairs['target'].iloc[row]\n",
    "    \n",
    "    u_embedding = node_embeddings[node_embeddings['id'] == source].iloc[0, :-1]\n",
    "    v_embedding = node_embeddings[node_embeddings['id'] == target].iloc[0, :-1]\n",
    "\n",
    "    similarity = cosine_similarity(u_embedding.values.reshape(1, -1), v_embedding.values.reshape(1, -1))[0, 0]\n",
    "    cos_sim.append(similarity)\n",
    "    \n",
    "pairs['cos_sim'] = cos_sim\n",
    "# pairs['cos_sim'] = (pairs['cos_sim'] + 1) / 2\n",
    "pairs['cos_sim'] = 1 - pairs['cos_sim']\n",
    "\n",
    "pairs.head()"
   ]
  },
  {
   "cell_type": "code",
   "execution_count": null,
   "id": "f6d5e03a",
   "metadata": {},
   "outputs": [],
   "source": [
    "print(pairs['cos_sim'].describe())\n",
    "\n",
    "pairs['cos_sim'] = pairs['cos_sim'].apply(lambda x: max(0,x))"
   ]
  },
  {
   "cell_type": "markdown",
   "id": "326ab9f5",
   "metadata": {},
   "source": [
    "# Import to Networkx "
   ]
  },
  {
   "cell_type": "code",
   "execution_count": null,
   "id": "b709e225",
   "metadata": {},
   "outputs": [],
   "source": [
    "import networkx as nx\n",
    "\n",
    "df = df_copy.copy()\n",
    "G = nx.Graph()\n",
    "\n",
    "# iterate over the rows of the DataFrame and add each edge to the graph\n",
    "for index, row in pairs.iterrows():\n",
    "    source = row['source']\n",
    "    target = row['target']\n",
    "    G.add_edge(source, target)\n",
    "\n",
    "# Add df cols as node features\n",
    "node_data = df.set_index('id').to_dict('index')\n",
    "\n",
    "# Add the node features to the graph\n",
    "for node, data in G.nodes(data=True):\n",
    "    node_features = node_data.get(node)\n",
    "    if node_features:\n",
    "        data.update(node_features)\n",
    "\n",
    "print('# nodes:', G.number_of_nodes(), \"\\n# edges:\", G.number_of_edges())"
   ]
  },
  {
   "cell_type": "markdown",
   "id": "016f92a6",
   "metadata": {},
   "source": [
    "## Add edge attributes"
   ]
  },
  {
   "cell_type": "code",
   "execution_count": null,
   "id": "88bf44df",
   "metadata": {
    "tags": []
   },
   "outputs": [],
   "source": [
    "def get_weights(a,b, method):\n",
    "    \n",
    "    # a_C and b_C is the number of C at each compound\n",
    "    a_C = df[df['id']==a]['C'].values\n",
    "    b_C = df[df['id']==b]['C'].values\n",
    "    if (a_C != 0 and b_C == 0) or (a_C == 0 and b_C != 0):\n",
    "        return 999\n",
    "    \n",
    "    try:\n",
    "        w = pairs[(pairs['source'] == a) & (pairs['target'] == b)][method].values[0]\n",
    "    except IndexError:\n",
    "        w = pairs[(pairs['source'] == b) & (pairs['target'] == a)][method].values[0]\n",
    "    \n",
    "    return w\n",
    "\n",
    "for edge in G.edges():\n",
    "    G.edges[(edge[0], edge[1])]['weight'] = \\\n",
    "            get_weights(edge[0], edge[1], method='cos_sim')"
   ]
  },
  {
   "cell_type": "code",
   "execution_count": null,
   "id": "55797918",
   "metadata": {},
   "outputs": [],
   "source": [
    "source = 'C00082'\n",
    "target = 'C01533'\n",
    "list(nx.shortest_path(G, source, target, weight='weight'))"
   ]
  },
  {
   "cell_type": "code",
   "execution_count": null,
   "id": "1120bd92",
   "metadata": {},
   "outputs": [],
   "source": [
    "source = 'C07481'\n",
    "target = 'C00385'\n",
    "list(nx.shortest_path(G, source, target, weight='weight'))"
   ]
  },
  {
   "cell_type": "markdown",
   "id": "2b7981d8",
   "metadata": {
    "tags": []
   },
   "source": [
    "### Load file with test cases fron NICEpath"
   ]
  },
  {
   "cell_type": "code",
   "execution_count": null,
   "id": "dd12998e",
   "metadata": {},
   "outputs": [],
   "source": [
    "test_cases = pd.read_csv('data/test_cases.csv')\n",
    "test_cases['source'] = test_cases['Pathway '].apply(lambda x: x.split(',')[0])\n",
    "test_cases['target'] = test_cases['Pathway '].apply(lambda x: x.split(',')[len(x.split(','))-1])\n",
    "test_cases.head(3)"
   ]
  },
  {
   "cell_type": "code",
   "execution_count": null,
   "id": "8719e0bd",
   "metadata": {},
   "outputs": [],
   "source": [
    "for row in range(len(test_cases)):\n",
    "    source = test_cases['source'].iloc[row]\n",
    "    target = test_cases['target'].iloc[row]\n",
    "    print(list(nx.shortest_path(G, source, target, weight='weight')))"
   ]
  },
  {
   "cell_type": "code",
   "execution_count": null,
   "id": "d2444fb9",
   "metadata": {},
   "outputs": [],
   "source": []
  },
  {
   "cell_type": "code",
   "execution_count": null,
   "id": "9aa398e5",
   "metadata": {},
   "outputs": [],
   "source": []
  }
 ],
 "metadata": {
  "kernelspec": {
   "display_name": "Python 3 (ipykernel)",
   "language": "python",
   "name": "python3"
  },
  "language_info": {
   "codemirror_mode": {
    "name": "ipython",
    "version": 3
   },
   "file_extension": ".py",
   "mimetype": "text/x-python",
   "name": "python",
   "nbconvert_exporter": "python",
   "pygments_lexer": "ipython3",
   "version": "3.9.10"
  }
 },
 "nbformat": 4,
 "nbformat_minor": 5
}
