{
 "cells": [
  {
   "cell_type": "code",
   "execution_count": 1,
   "id": "6510730b",
   "metadata": {},
   "outputs": [],
   "source": [
    "import pandas as pd\n",
    "import numpy as np\n",
    "import matplotlib.pyplot as plt\n",
    "import os.path\n",
    "from os import path\n",
    "\n",
    "from gensim.models import Word2Vec\n",
    "from sklearn.manifold import TSNE\n",
    "from IPython.display import SVG\n",
    "import re"
   ]
  },
  {
   "cell_type": "code",
   "execution_count": 2,
   "id": "6a2c17ea",
   "metadata": {},
   "outputs": [
    {
     "data": {
      "text/plain": [
       "(10747, 3)"
      ]
     },
     "execution_count": 2,
     "metadata": {},
     "output_type": "execute_result"
    }
   ],
   "source": [
    "pairs = pd.read_csv('data/Main_RPAIRS_KEGG.tsv', sep='\\t')\n",
    "pairs['source'] = pairs['Reactant_pair'].apply(lambda x: x.split('_')[0])\n",
    "pairs['target'] = pairs['Reactant_pair'].apply(lambda x: x.split('_')[1])\n",
    "\n",
    "# Drop columns that won't be used\n",
    "pairs.drop(['KEGG_reactions', 'CAR', 'RPAIR_main'], axis=1, inplace=True)\n",
    "pairs.shape"
   ]
  },
  {
   "cell_type": "code",
   "execution_count": 3,
   "id": "bcaa045d",
   "metadata": {},
   "outputs": [
    {
     "data": {
      "text/html": [
       "<div>\n",
       "<style scoped>\n",
       "    .dataframe tbody tr th:only-of-type {\n",
       "        vertical-align: middle;\n",
       "    }\n",
       "\n",
       "    .dataframe tbody tr th {\n",
       "        vertical-align: top;\n",
       "    }\n",
       "\n",
       "    .dataframe thead th {\n",
       "        text-align: right;\n",
       "    }\n",
       "</style>\n",
       "<table border=\"1\" class=\"dataframe\">\n",
       "  <thead>\n",
       "    <tr style=\"text-align: right;\">\n",
       "      <th></th>\n",
       "      <th>id</th>\n",
       "      <th>mol_weight</th>\n",
       "      <th>formula</th>\n",
       "    </tr>\n",
       "  </thead>\n",
       "  <tbody>\n",
       "    <tr>\n",
       "      <th>0</th>\n",
       "      <td>C00002</td>\n",
       "      <td>507.1810</td>\n",
       "      <td>C10H16N5O13P3</td>\n",
       "    </tr>\n",
       "    <tr>\n",
       "      <th>1</th>\n",
       "      <td>C00003</td>\n",
       "      <td>664.4330</td>\n",
       "      <td>C21H28N7O14P2</td>\n",
       "    </tr>\n",
       "    <tr>\n",
       "      <th>2</th>\n",
       "      <td>C00005</td>\n",
       "      <td>745.4209</td>\n",
       "      <td>C21H30N7O17P3</td>\n",
       "    </tr>\n",
       "    <tr>\n",
       "      <th>3</th>\n",
       "      <td>C00007</td>\n",
       "      <td>31.9988</td>\n",
       "      <td>O2</td>\n",
       "    </tr>\n",
       "    <tr>\n",
       "      <th>4</th>\n",
       "      <td>C00011</td>\n",
       "      <td>44.0095</td>\n",
       "      <td>CO2</td>\n",
       "    </tr>\n",
       "  </tbody>\n",
       "</table>\n",
       "</div>"
      ],
      "text/plain": [
       "       id  mol_weight        formula\n",
       "0  C00002    507.1810  C10H16N5O13P3\n",
       "1  C00003    664.4330  C21H28N7O14P2\n",
       "2  C00005    745.4209  C21H30N7O17P3\n",
       "3  C00007     31.9988             O2\n",
       "4  C00011     44.0095            CO2"
      ]
     },
     "metadata": {},
     "output_type": "display_data"
    },
    {
     "name": "stdout",
     "output_type": "stream",
     "text": [
      "(5620, 3)\n"
     ]
    }
   ],
   "source": [
    "df = pd.read_csv('data/compounds_list_KEGG.csv')\n",
    "display(df.head())\n",
    "\n",
    "print(df.shape)"
   ]
  },
  {
   "cell_type": "markdown",
   "id": "86295c4b",
   "metadata": {},
   "source": [
    "How many nans"
   ]
  },
  {
   "cell_type": "code",
   "execution_count": 4,
   "id": "e3763160",
   "metadata": {},
   "outputs": [
    {
     "data": {
      "text/plain": [
       "id              0\n",
       "mol_weight    680\n",
       "formula         2\n",
       "dtype: int64"
      ]
     },
     "execution_count": 4,
     "metadata": {},
     "output_type": "execute_result"
    }
   ],
   "source": [
    "df.isna().sum()"
   ]
  },
  {
   "cell_type": "code",
   "execution_count": 5,
   "id": "468374c9",
   "metadata": {},
   "outputs": [
    {
     "data": {
      "text/html": [
       "<div>\n",
       "<style scoped>\n",
       "    .dataframe tbody tr th:only-of-type {\n",
       "        vertical-align: middle;\n",
       "    }\n",
       "\n",
       "    .dataframe tbody tr th {\n",
       "        vertical-align: top;\n",
       "    }\n",
       "\n",
       "    .dataframe thead th {\n",
       "        text-align: right;\n",
       "    }\n",
       "</style>\n",
       "<table border=\"1\" class=\"dataframe\">\n",
       "  <thead>\n",
       "    <tr style=\"text-align: right;\">\n",
       "      <th></th>\n",
       "      <th>id</th>\n",
       "      <th>mol_weight</th>\n",
       "      <th>formula</th>\n",
       "    </tr>\n",
       "  </thead>\n",
       "  <tbody>\n",
       "    <tr>\n",
       "      <th>665</th>\n",
       "      <td>C15778</td>\n",
       "      <td>NaN</td>\n",
       "      <td>NaN</td>\n",
       "    </tr>\n",
       "    <tr>\n",
       "      <th>2845</th>\n",
       "      <td>C20798</td>\n",
       "      <td>NaN</td>\n",
       "      <td>NaN</td>\n",
       "    </tr>\n",
       "  </tbody>\n",
       "</table>\n",
       "</div>"
      ],
      "text/plain": [
       "          id  mol_weight formula\n",
       "665   C15778         NaN     NaN\n",
       "2845  C20798         NaN     NaN"
      ]
     },
     "metadata": {},
     "output_type": "display_data"
    }
   ],
   "source": [
    "# These are probably mistakes\n",
    "display(df[df['formula'].isna()])"
   ]
  },
  {
   "cell_type": "markdown",
   "id": "5ae979b8",
   "metadata": {},
   "source": [
    "### Fix manually these mistakes"
   ]
  },
  {
   "cell_type": "markdown",
   "id": "f8186637",
   "metadata": {},
   "source": [
    "**Correct *C15778***"
   ]
  },
  {
   "cell_type": "code",
   "execution_count": 6,
   "id": "6bf76ba8",
   "metadata": {},
   "outputs": [
    {
     "data": {
      "text/html": [
       "<div>\n",
       "<style scoped>\n",
       "    .dataframe tbody tr th:only-of-type {\n",
       "        vertical-align: middle;\n",
       "    }\n",
       "\n",
       "    .dataframe tbody tr th {\n",
       "        vertical-align: top;\n",
       "    }\n",
       "\n",
       "    .dataframe thead th {\n",
       "        text-align: right;\n",
       "    }\n",
       "</style>\n",
       "<table border=\"1\" class=\"dataframe\">\n",
       "  <thead>\n",
       "    <tr style=\"text-align: right;\">\n",
       "      <th></th>\n",
       "      <th>Reactant_pair</th>\n",
       "      <th>source</th>\n",
       "      <th>target</th>\n",
       "    </tr>\n",
       "  </thead>\n",
       "  <tbody>\n",
       "    <tr>\n",
       "      <th>787</th>\n",
       "      <td>C15778_C15781</td>\n",
       "      <td>C15778</td>\n",
       "      <td>C15781</td>\n",
       "    </tr>\n",
       "  </tbody>\n",
       "</table>\n",
       "</div>"
      ],
      "text/plain": [
       "     Reactant_pair  source  target\n",
       "787  C15778_C15781  C15778  C15781"
      ]
     },
     "metadata": {},
     "output_type": "display_data"
    },
    {
     "data": {
      "text/html": [
       "<div>\n",
       "<style scoped>\n",
       "    .dataframe tbody tr th:only-of-type {\n",
       "        vertical-align: middle;\n",
       "    }\n",
       "\n",
       "    .dataframe tbody tr th {\n",
       "        vertical-align: top;\n",
       "    }\n",
       "\n",
       "    .dataframe thead th {\n",
       "        text-align: right;\n",
       "    }\n",
       "</style>\n",
       "<table border=\"1\" class=\"dataframe\">\n",
       "  <thead>\n",
       "    <tr style=\"text-align: right;\">\n",
       "      <th></th>\n",
       "      <th>Reactant_pair</th>\n",
       "      <th>source</th>\n",
       "      <th>target</th>\n",
       "    </tr>\n",
       "  </thead>\n",
       "  <tbody>\n",
       "  </tbody>\n",
       "</table>\n",
       "</div>"
      ],
      "text/plain": [
       "Empty DataFrame\n",
       "Columns: [Reactant_pair, source, target]\n",
       "Index: []"
      ]
     },
     "metadata": {},
     "output_type": "display_data"
    }
   ],
   "source": [
    "display(pairs[pairs['source'] == 'C15778'])\n",
    "\n",
    "display(pairs[pairs['target'] == 'C15778'])"
   ]
  },
  {
   "cell_type": "markdown",
   "id": "ac5baee5",
   "metadata": {},
   "source": [
    "According to **KEGG** for the Reaction *R07492*, *C15778* should be *C15780*"
   ]
  },
  {
   "cell_type": "code",
   "execution_count": 7,
   "id": "44c421e5",
   "metadata": {},
   "outputs": [],
   "source": [
    "pairs.loc[pairs.index[787], 'Reactant_pair'] = 'C15780_C15781'\n",
    "\n",
    "df.loc[df.index[665], 'id'] = 'C15780'\n",
    "df.loc[df.index[665], 'mol_weight'] = 396.6484\n",
    "df.loc[df.index[665], 'formula'] = 'C28H44O'"
   ]
  },
  {
   "cell_type": "markdown",
   "id": "e45d7e1a",
   "metadata": {},
   "source": [
    "**Correct *C20798***"
   ]
  },
  {
   "cell_type": "code",
   "execution_count": 8,
   "id": "4e1fb502",
   "metadata": {},
   "outputs": [
    {
     "data": {
      "text/html": [
       "<div>\n",
       "<style scoped>\n",
       "    .dataframe tbody tr th:only-of-type {\n",
       "        vertical-align: middle;\n",
       "    }\n",
       "\n",
       "    .dataframe tbody tr th {\n",
       "        vertical-align: top;\n",
       "    }\n",
       "\n",
       "    .dataframe thead th {\n",
       "        text-align: right;\n",
       "    }\n",
       "</style>\n",
       "<table border=\"1\" class=\"dataframe\">\n",
       "  <thead>\n",
       "    <tr style=\"text-align: right;\">\n",
       "      <th></th>\n",
       "      <th>Reactant_pair</th>\n",
       "      <th>source</th>\n",
       "      <th>target</th>\n",
       "    </tr>\n",
       "  </thead>\n",
       "  <tbody>\n",
       "    <tr>\n",
       "      <th>5112</th>\n",
       "      <td>C20798_C21180</td>\n",
       "      <td>C20798</td>\n",
       "      <td>C21180</td>\n",
       "    </tr>\n",
       "    <tr>\n",
       "      <th>5767</th>\n",
       "      <td>C20798_C20831</td>\n",
       "      <td>C20798</td>\n",
       "      <td>C20831</td>\n",
       "    </tr>\n",
       "  </tbody>\n",
       "</table>\n",
       "</div>"
      ],
      "text/plain": [
       "      Reactant_pair  source  target\n",
       "5112  C20798_C21180  C20798  C21180\n",
       "5767  C20798_C20831  C20798  C20831"
      ]
     },
     "metadata": {},
     "output_type": "display_data"
    },
    {
     "data": {
      "text/html": [
       "<div>\n",
       "<style scoped>\n",
       "    .dataframe tbody tr th:only-of-type {\n",
       "        vertical-align: middle;\n",
       "    }\n",
       "\n",
       "    .dataframe tbody tr th {\n",
       "        vertical-align: top;\n",
       "    }\n",
       "\n",
       "    .dataframe thead th {\n",
       "        text-align: right;\n",
       "    }\n",
       "</style>\n",
       "<table border=\"1\" class=\"dataframe\">\n",
       "  <thead>\n",
       "    <tr style=\"text-align: right;\">\n",
       "      <th></th>\n",
       "      <th>Reactant_pair</th>\n",
       "      <th>source</th>\n",
       "      <th>target</th>\n",
       "    </tr>\n",
       "  </thead>\n",
       "  <tbody>\n",
       "    <tr>\n",
       "      <th>890</th>\n",
       "      <td>C19675_C20798</td>\n",
       "      <td>C19675</td>\n",
       "      <td>C20798</td>\n",
       "    </tr>\n",
       "    <tr>\n",
       "      <th>2787</th>\n",
       "      <td>C11499_C20798</td>\n",
       "      <td>C11499</td>\n",
       "      <td>C20798</td>\n",
       "    </tr>\n",
       "  </tbody>\n",
       "</table>\n",
       "</div>"
      ],
      "text/plain": [
       "      Reactant_pair  source  target\n",
       "890   C19675_C20798  C19675  C20798\n",
       "2787  C11499_C20798  C11499  C20798"
      ]
     },
     "metadata": {},
     "output_type": "display_data"
    }
   ],
   "source": [
    "display(pairs[pairs['source'] == 'C20798'])\n",
    "\n",
    "display(pairs[pairs['target'] == 'C20798'])"
   ]
  },
  {
   "cell_type": "markdown",
   "id": "5e944e29",
   "metadata": {},
   "source": [
    "According to **KEGG** for the Reaction *R10719*, *C20798* should be *C21181*"
   ]
  },
  {
   "cell_type": "code",
   "execution_count": 9,
   "id": "74617e51",
   "metadata": {},
   "outputs": [],
   "source": [
    "pairs.loc[pairs.index[5112], 'Reactant_pair'] = 'C21181_C21180'\n",
    "pairs.loc[pairs.index[5767], 'Reactant_pair'] = 'C21181_C20831'\n",
    "pairs.loc[pairs.index[890], 'Reactant_pair'] = 'C19675_C21181'\n",
    "pairs.loc[pairs.index[2787], 'Reactant_pair'] = 'C11499_C21181'\n",
    "\n",
    "df.loc[df.index[2845], 'id'] = 'C21181'\n",
    "df.loc[df.index[2845], 'mol_weight'] = 154.1417\n",
    "df.loc[df.index[2845], 'formula'] = 'C3H6O5S'"
   ]
  },
  {
   "cell_type": "markdown",
   "id": "7c2c229c",
   "metadata": {},
   "source": [
    "Recalculate *source* and *target* in pairs"
   ]
  },
  {
   "cell_type": "code",
   "execution_count": 10,
   "id": "4a0b1f07",
   "metadata": {},
   "outputs": [],
   "source": [
    "pairs['source'] = pairs['Reactant_pair'].apply(lambda x: x.split('_')[0])\n",
    "pairs['target'] = pairs['Reactant_pair'].apply(lambda x: x.split('_')[1])\n",
    "\n",
    "pairs.to_csv('data/Main_RPAIRS_KEGG_fixed.csv', index=None)"
   ]
  },
  {
   "cell_type": "markdown",
   "id": "d96f3d7a",
   "metadata": {},
   "source": [
    "## Exctract Features From Chemical Formula"
   ]
  },
  {
   "cell_type": "code",
   "execution_count": 11,
   "id": "eb44dded",
   "metadata": {},
   "outputs": [
    {
     "name": "stdout",
     "output_type": "stream",
     "text": [
      "{'P', 'Se', 'Mo', 'N', 'As', 'H', 'I', 'Cl', 'R', 'S', 'F', 'X', 'C', 'Br', 'Zn', 'Mg', 'O', 'Co'}\n"
     ]
    }
   ],
   "source": [
    "def extract_elements(df, column_name):\n",
    "    # define the regular expression pattern to match the chemical formula\n",
    "    pattern = r'[A-Z][a-z]?'\n",
    "    # initialize a set to store the element symbols\n",
    "    elements = set()\n",
    "    # loop over the values in the specified column of the DataFrame\n",
    "    for value in df[column_name].values:\n",
    "        # find all matches of the pattern in the value string\n",
    "        matches = re.findall(pattern, value)\n",
    "        # add the matches to the set of elements\n",
    "        elements.update(matches)\n",
    "    return elements\n",
    "\n",
    "def extract_stoichiometry(formula):\n",
    "    # define the regular expression pattern to match the chemical formula\n",
    "    pattern = r'([A-Z][a-z]?)(\\d*)'\n",
    "    # initialize the dictionary to store the element symbol and its stoichiometry\n",
    "    stoichiometry = {}\n",
    "    # loop over the matches of the pattern in the formula string\n",
    "    for match in re.findall(pattern, formula):\n",
    "        symbol, count = match\n",
    "        # if the count is empty, set it to 1\n",
    "        count = int(count) if count else 1\n",
    "        # add the symbol and count to the stoichiometry dictionary\n",
    "        stoichiometry[symbol] = count\n",
    "    return stoichiometry\n",
    "\n",
    "# example usage\n",
    "elements = extract_elements(df, 'formula')\n",
    "print(elements)\n",
    "\n",
    "# Create a col for every element\n",
    "for elm in elements: df[elm]=0"
   ]
  },
  {
   "cell_type": "code",
   "execution_count": 12,
   "id": "40f3745f",
   "metadata": {},
   "outputs": [
    {
     "data": {
      "text/html": [
       "<div>\n",
       "<style scoped>\n",
       "    .dataframe tbody tr th:only-of-type {\n",
       "        vertical-align: middle;\n",
       "    }\n",
       "\n",
       "    .dataframe tbody tr th {\n",
       "        vertical-align: top;\n",
       "    }\n",
       "\n",
       "    .dataframe thead th {\n",
       "        text-align: right;\n",
       "    }\n",
       "</style>\n",
       "<table border=\"1\" class=\"dataframe\">\n",
       "  <thead>\n",
       "    <tr style=\"text-align: right;\">\n",
       "      <th></th>\n",
       "      <th>id</th>\n",
       "      <th>mol_weight</th>\n",
       "      <th>formula</th>\n",
       "      <th>P</th>\n",
       "      <th>Se</th>\n",
       "      <th>Mo</th>\n",
       "      <th>N</th>\n",
       "      <th>As</th>\n",
       "      <th>H</th>\n",
       "      <th>I</th>\n",
       "      <th>...</th>\n",
       "      <th>R</th>\n",
       "      <th>S</th>\n",
       "      <th>F</th>\n",
       "      <th>X</th>\n",
       "      <th>C</th>\n",
       "      <th>Br</th>\n",
       "      <th>Zn</th>\n",
       "      <th>Mg</th>\n",
       "      <th>O</th>\n",
       "      <th>Co</th>\n",
       "    </tr>\n",
       "  </thead>\n",
       "  <tbody>\n",
       "    <tr>\n",
       "      <th>0</th>\n",
       "      <td>C00002</td>\n",
       "      <td>507.1810</td>\n",
       "      <td>C10H16N5O13P3</td>\n",
       "      <td>3</td>\n",
       "      <td>0</td>\n",
       "      <td>0</td>\n",
       "      <td>5</td>\n",
       "      <td>0</td>\n",
       "      <td>16</td>\n",
       "      <td>0</td>\n",
       "      <td>...</td>\n",
       "      <td>0</td>\n",
       "      <td>0</td>\n",
       "      <td>0</td>\n",
       "      <td>0</td>\n",
       "      <td>10</td>\n",
       "      <td>0</td>\n",
       "      <td>0</td>\n",
       "      <td>0</td>\n",
       "      <td>13</td>\n",
       "      <td>0</td>\n",
       "    </tr>\n",
       "    <tr>\n",
       "      <th>1</th>\n",
       "      <td>C00003</td>\n",
       "      <td>664.4330</td>\n",
       "      <td>C21H28N7O14P2</td>\n",
       "      <td>2</td>\n",
       "      <td>0</td>\n",
       "      <td>0</td>\n",
       "      <td>7</td>\n",
       "      <td>0</td>\n",
       "      <td>28</td>\n",
       "      <td>0</td>\n",
       "      <td>...</td>\n",
       "      <td>0</td>\n",
       "      <td>0</td>\n",
       "      <td>0</td>\n",
       "      <td>0</td>\n",
       "      <td>21</td>\n",
       "      <td>0</td>\n",
       "      <td>0</td>\n",
       "      <td>0</td>\n",
       "      <td>14</td>\n",
       "      <td>0</td>\n",
       "    </tr>\n",
       "    <tr>\n",
       "      <th>2</th>\n",
       "      <td>C00005</td>\n",
       "      <td>745.4209</td>\n",
       "      <td>C21H30N7O17P3</td>\n",
       "      <td>3</td>\n",
       "      <td>0</td>\n",
       "      <td>0</td>\n",
       "      <td>7</td>\n",
       "      <td>0</td>\n",
       "      <td>30</td>\n",
       "      <td>0</td>\n",
       "      <td>...</td>\n",
       "      <td>0</td>\n",
       "      <td>0</td>\n",
       "      <td>0</td>\n",
       "      <td>0</td>\n",
       "      <td>21</td>\n",
       "      <td>0</td>\n",
       "      <td>0</td>\n",
       "      <td>0</td>\n",
       "      <td>17</td>\n",
       "      <td>0</td>\n",
       "    </tr>\n",
       "  </tbody>\n",
       "</table>\n",
       "<p>3 rows × 21 columns</p>\n",
       "</div>"
      ],
      "text/plain": [
       "       id  mol_weight        formula  P  Se  Mo  N  As   H  I  ...  R  S  F  \\\n",
       "0  C00002    507.1810  C10H16N5O13P3  3   0   0  5   0  16  0  ...  0  0  0   \n",
       "1  C00003    664.4330  C21H28N7O14P2  2   0   0  7   0  28  0  ...  0  0  0   \n",
       "2  C00005    745.4209  C21H30N7O17P3  3   0   0  7   0  30  0  ...  0  0  0   \n",
       "\n",
       "   X   C  Br  Zn  Mg   O  Co  \n",
       "0  0  10   0   0   0  13   0  \n",
       "1  0  21   0   0   0  14   0  \n",
       "2  0  21   0   0   0  17   0  \n",
       "\n",
       "[3 rows x 21 columns]"
      ]
     },
     "metadata": {},
     "output_type": "display_data"
    }
   ],
   "source": [
    "for row in range(len(df)):\n",
    "    \n",
    "    formula = df['formula'].iloc[row]\n",
    "    stoichiometry = extract_stoichiometry(formula)\n",
    "    \n",
    "    for key, value in stoichiometry.items():\n",
    "        #df[key].iloc[row] = value\n",
    "        df.loc[df.index[row], key] = value\n",
    "\n",
    "display(df.head(3))"
   ]
  },
  {
   "cell_type": "code",
   "execution_count": 13,
   "id": "86b52fee",
   "metadata": {},
   "outputs": [
    {
     "name": "stdout",
     "output_type": "stream",
     "text": [
      "597\n",
      "129\n"
     ]
    }
   ],
   "source": [
    "# Many many compounds with R\n",
    "print(len(df[df['R']!=0]))\n",
    "\n",
    "# Col that contains the info if the compound is a polymer or not\n",
    "df['polymer'] = 0\n",
    "\n",
    "for row in range(len(df)):\n",
    "    if 'n' in df['formula'].iloc[row]: \n",
    "        df.loc[df.index[row], 'polymer'] = 1\n",
    "        \n",
    "# Print how many polymers do we have\n",
    "print(len(df[df['polymer'] == 1]))\n",
    "\n",
    "# save to csv\n",
    "df.to_csv('data/curated.csv')"
   ]
  },
  {
   "cell_type": "markdown",
   "id": "a8619a2b",
   "metadata": {},
   "source": [
    "# Load curated dataset from Stef - Filled NaN `mol_weight`"
   ]
  },
  {
   "cell_type": "code",
   "execution_count": 14,
   "id": "6cbba9e7",
   "metadata": {},
   "outputs": [
    {
     "data": {
      "text/html": [
       "<div>\n",
       "<style scoped>\n",
       "    .dataframe tbody tr th:only-of-type {\n",
       "        vertical-align: middle;\n",
       "    }\n",
       "\n",
       "    .dataframe tbody tr th {\n",
       "        vertical-align: top;\n",
       "    }\n",
       "\n",
       "    .dataframe thead th {\n",
       "        text-align: right;\n",
       "    }\n",
       "</style>\n",
       "<table border=\"1\" class=\"dataframe\">\n",
       "  <thead>\n",
       "    <tr style=\"text-align: right;\">\n",
       "      <th></th>\n",
       "      <th>id</th>\n",
       "      <th>formula</th>\n",
       "      <th>Co</th>\n",
       "      <th>C</th>\n",
       "      <th>Br</th>\n",
       "      <th>Zn</th>\n",
       "      <th>N</th>\n",
       "      <th>Mo</th>\n",
       "      <th>S</th>\n",
       "      <th>Se</th>\n",
       "      <th>...</th>\n",
       "      <th>X</th>\n",
       "      <th>H</th>\n",
       "      <th>O</th>\n",
       "      <th>As</th>\n",
       "      <th>F</th>\n",
       "      <th>R</th>\n",
       "      <th>P</th>\n",
       "      <th>Cl</th>\n",
       "      <th>polymer</th>\n",
       "      <th>mol_weight</th>\n",
       "    </tr>\n",
       "  </thead>\n",
       "  <tbody>\n",
       "    <tr>\n",
       "      <th>0</th>\n",
       "      <td>C00002</td>\n",
       "      <td>C10H16N5O13P3</td>\n",
       "      <td>0</td>\n",
       "      <td>10</td>\n",
       "      <td>0</td>\n",
       "      <td>0</td>\n",
       "      <td>5</td>\n",
       "      <td>0</td>\n",
       "      <td>0</td>\n",
       "      <td>0</td>\n",
       "      <td>...</td>\n",
       "      <td>0</td>\n",
       "      <td>16</td>\n",
       "      <td>13</td>\n",
       "      <td>0</td>\n",
       "      <td>0</td>\n",
       "      <td>0</td>\n",
       "      <td>3</td>\n",
       "      <td>0</td>\n",
       "      <td>0</td>\n",
       "      <td>507.0</td>\n",
       "    </tr>\n",
       "    <tr>\n",
       "      <th>1</th>\n",
       "      <td>C00003</td>\n",
       "      <td>C21H28N7O14P2</td>\n",
       "      <td>0</td>\n",
       "      <td>21</td>\n",
       "      <td>0</td>\n",
       "      <td>0</td>\n",
       "      <td>7</td>\n",
       "      <td>0</td>\n",
       "      <td>0</td>\n",
       "      <td>0</td>\n",
       "      <td>...</td>\n",
       "      <td>0</td>\n",
       "      <td>28</td>\n",
       "      <td>14</td>\n",
       "      <td>0</td>\n",
       "      <td>0</td>\n",
       "      <td>0</td>\n",
       "      <td>2</td>\n",
       "      <td>0</td>\n",
       "      <td>0</td>\n",
       "      <td>664.0</td>\n",
       "    </tr>\n",
       "    <tr>\n",
       "      <th>2</th>\n",
       "      <td>C00005</td>\n",
       "      <td>C21H30N7O17P3</td>\n",
       "      <td>0</td>\n",
       "      <td>21</td>\n",
       "      <td>0</td>\n",
       "      <td>0</td>\n",
       "      <td>7</td>\n",
       "      <td>0</td>\n",
       "      <td>0</td>\n",
       "      <td>0</td>\n",
       "      <td>...</td>\n",
       "      <td>0</td>\n",
       "      <td>30</td>\n",
       "      <td>17</td>\n",
       "      <td>0</td>\n",
       "      <td>0</td>\n",
       "      <td>0</td>\n",
       "      <td>3</td>\n",
       "      <td>0</td>\n",
       "      <td>0</td>\n",
       "      <td>745.0</td>\n",
       "    </tr>\n",
       "    <tr>\n",
       "      <th>3</th>\n",
       "      <td>C00007</td>\n",
       "      <td>O2</td>\n",
       "      <td>0</td>\n",
       "      <td>0</td>\n",
       "      <td>0</td>\n",
       "      <td>0</td>\n",
       "      <td>0</td>\n",
       "      <td>0</td>\n",
       "      <td>0</td>\n",
       "      <td>0</td>\n",
       "      <td>...</td>\n",
       "      <td>0</td>\n",
       "      <td>0</td>\n",
       "      <td>2</td>\n",
       "      <td>0</td>\n",
       "      <td>0</td>\n",
       "      <td>0</td>\n",
       "      <td>0</td>\n",
       "      <td>0</td>\n",
       "      <td>0</td>\n",
       "      <td>32.0</td>\n",
       "    </tr>\n",
       "    <tr>\n",
       "      <th>4</th>\n",
       "      <td>C00011</td>\n",
       "      <td>CO2</td>\n",
       "      <td>0</td>\n",
       "      <td>1</td>\n",
       "      <td>0</td>\n",
       "      <td>0</td>\n",
       "      <td>0</td>\n",
       "      <td>0</td>\n",
       "      <td>0</td>\n",
       "      <td>0</td>\n",
       "      <td>...</td>\n",
       "      <td>0</td>\n",
       "      <td>0</td>\n",
       "      <td>2</td>\n",
       "      <td>0</td>\n",
       "      <td>0</td>\n",
       "      <td>0</td>\n",
       "      <td>0</td>\n",
       "      <td>0</td>\n",
       "      <td>0</td>\n",
       "      <td>44.0</td>\n",
       "    </tr>\n",
       "  </tbody>\n",
       "</table>\n",
       "<p>5 rows × 22 columns</p>\n",
       "</div>"
      ],
      "text/plain": [
       "       id        formula  Co   C  Br  Zn  N  Mo  S  Se  ...  X   H   O  As  F  \\\n",
       "0  C00002  C10H16N5O13P3   0  10   0   0  5   0  0   0  ...  0  16  13   0  0   \n",
       "1  C00003  C21H28N7O14P2   0  21   0   0  7   0  0   0  ...  0  28  14   0  0   \n",
       "2  C00005  C21H30N7O17P3   0  21   0   0  7   0  0   0  ...  0  30  17   0  0   \n",
       "3  C00007             O2   0   0   0   0  0   0  0   0  ...  0   0   2   0  0   \n",
       "4  C00011            CO2   0   1   0   0  0   0  0   0  ...  0   0   2   0  0   \n",
       "\n",
       "   R  P  Cl  polymer  mol_weight  \n",
       "0  0  3   0        0       507.0  \n",
       "1  0  2   0        0       664.0  \n",
       "2  0  3   0        0       745.0  \n",
       "3  0  0   0        0        32.0  \n",
       "4  0  0   0        0        44.0  \n",
       "\n",
       "[5 rows x 22 columns]"
      ]
     },
     "execution_count": 14,
     "metadata": {},
     "output_type": "execute_result"
    }
   ],
   "source": [
    "df = pd.read_csv('data/curated_complete_mw.csv', index_col=0)\n",
    "df.drop('mol_weight', axis=1, inplace=True)\n",
    "df.drop('R.1', axis=1, inplace=True)\n",
    "df.drop('Mr', axis=1, inplace=True)\n",
    "df.rename({'N.1':'mol_weight'}, axis=1, inplace=True)\n",
    "df.head()"
   ]
  },
  {
   "cell_type": "code",
   "execution_count": 33,
   "id": "417e0604",
   "metadata": {},
   "outputs": [
    {
     "data": {
      "text/plain": [
       "count    5620.000000\n",
       "mean      394.297242\n",
       "std       336.103044\n",
       "min         2.000000\n",
       "25%       181.000000\n",
       "50%       297.500000\n",
       "75%       483.000000\n",
       "max      4358.000000\n",
       "Name: mol_weight, dtype: float64"
      ]
     },
     "execution_count": 33,
     "metadata": {},
     "output_type": "execute_result"
    }
   ],
   "source": [
    "df['mol_weight'].describe()"
   ]
  },
  {
   "cell_type": "code",
   "execution_count": 38,
   "id": "7f46715c",
   "metadata": {},
   "outputs": [
    {
     "data": {
      "text/html": [
       "<div>\n",
       "<style scoped>\n",
       "    .dataframe tbody tr th:only-of-type {\n",
       "        vertical-align: middle;\n",
       "    }\n",
       "\n",
       "    .dataframe tbody tr th {\n",
       "        vertical-align: top;\n",
       "    }\n",
       "\n",
       "    .dataframe thead th {\n",
       "        text-align: right;\n",
       "    }\n",
       "</style>\n",
       "<table border=\"1\" class=\"dataframe\">\n",
       "  <thead>\n",
       "    <tr style=\"text-align: right;\">\n",
       "      <th></th>\n",
       "      <th>id</th>\n",
       "      <th>formula</th>\n",
       "      <th>Co</th>\n",
       "      <th>C</th>\n",
       "      <th>Br</th>\n",
       "      <th>Zn</th>\n",
       "      <th>N</th>\n",
       "      <th>Mo</th>\n",
       "      <th>S</th>\n",
       "      <th>Se</th>\n",
       "      <th>...</th>\n",
       "      <th>F</th>\n",
       "      <th>R</th>\n",
       "      <th>P</th>\n",
       "      <th>Cl</th>\n",
       "      <th>polymer</th>\n",
       "      <th>mol_weight</th>\n",
       "      <th>PageRank</th>\n",
       "      <th>Degree Centrality</th>\n",
       "      <th>Betweenness Centrality</th>\n",
       "      <th>mw</th>\n",
       "    </tr>\n",
       "  </thead>\n",
       "  <tbody>\n",
       "    <tr>\n",
       "      <th>2152</th>\n",
       "      <td>C06139</td>\n",
       "      <td>C89H147N6O55R</td>\n",
       "      <td>0</td>\n",
       "      <td>89</td>\n",
       "      <td>0</td>\n",
       "      <td>0</td>\n",
       "      <td>6</td>\n",
       "      <td>0</td>\n",
       "      <td>0</td>\n",
       "      <td>0</td>\n",
       "      <td>...</td>\n",
       "      <td>0</td>\n",
       "      <td>1</td>\n",
       "      <td>0</td>\n",
       "      <td>0</td>\n",
       "      <td>0</td>\n",
       "      <td>4358.0</td>\n",
       "      <td>0.002933</td>\n",
       "      <td>0.003279</td>\n",
       "      <td>0.000048</td>\n",
       "      <td>4370.783367</td>\n",
       "    </tr>\n",
       "  </tbody>\n",
       "</table>\n",
       "<p>1 rows × 26 columns</p>\n",
       "</div>"
      ],
      "text/plain": [
       "          id        formula  Co   C  Br  Zn  N  Mo  S  Se  ...  F  R  P  Cl  \\\n",
       "2152  C06139  C89H147N6O55R   0  89   0   0  6   0  0   0  ...  0  1  0   0   \n",
       "\n",
       "      polymer  mol_weight  PageRank  Degree Centrality  \\\n",
       "2152        0      4358.0  0.002933           0.003279   \n",
       "\n",
       "      Betweenness Centrality           mw  \n",
       "2152                0.000048  4370.783367  \n",
       "\n",
       "[1 rows x 26 columns]"
      ]
     },
     "execution_count": 38,
     "metadata": {},
     "output_type": "execute_result"
    }
   ],
   "source": [
    "df[df['mol_weight'] == 4358]"
   ]
  },
  {
   "cell_type": "code",
   "execution_count": 37,
   "id": "1bc364e5",
   "metadata": {},
   "outputs": [
    {
     "data": {
      "image/png": "[encoded data removed]",
      "text/plain": [
       "<Figure size 640x480 with 1 Axes>"
      ]
     },
     "metadata": {},
     "output_type": "display_data"
    }
   ],
   "source": [
    "plt.hist(df['mol_weight'], bins=30)\n",
    "plt.show()"
   ]
  },
  {
   "cell_type": "code",
   "execution_count": 15,
   "id": "e2a8bf26",
   "metadata": {},
   "outputs": [
    {
     "data": {
      "text/html": [
       "<div>\n",
       "<style scoped>\n",
       "    .dataframe tbody tr th:only-of-type {\n",
       "        vertical-align: middle;\n",
       "    }\n",
       "\n",
       "    .dataframe tbody tr th {\n",
       "        vertical-align: top;\n",
       "    }\n",
       "\n",
       "    .dataframe thead th {\n",
       "        text-align: right;\n",
       "    }\n",
       "</style>\n",
       "<table border=\"1\" class=\"dataframe\">\n",
       "  <thead>\n",
       "    <tr style=\"text-align: right;\">\n",
       "      <th></th>\n",
       "      <th>Reactant_pair</th>\n",
       "      <th>source</th>\n",
       "      <th>target</th>\n",
       "      <th>MW</th>\n",
       "    </tr>\n",
       "  </thead>\n",
       "  <tbody>\n",
       "    <tr>\n",
       "      <th>0</th>\n",
       "      <td>C00002_C07024</td>\n",
       "      <td>C00002</td>\n",
       "      <td>C07024</td>\n",
       "      <td>0.001976</td>\n",
       "    </tr>\n",
       "    <tr>\n",
       "      <th>1</th>\n",
       "      <td>C00003_C00004</td>\n",
       "      <td>C00003</td>\n",
       "      <td>C00004</td>\n",
       "      <td>0.000752</td>\n",
       "    </tr>\n",
       "    <tr>\n",
       "      <th>2</th>\n",
       "      <td>C00005_C00006</td>\n",
       "      <td>C00005</td>\n",
       "      <td>C00006</td>\n",
       "      <td>0.000672</td>\n",
       "    </tr>\n",
       "  </tbody>\n",
       "</table>\n",
       "</div>"
      ],
      "text/plain": [
       "   Reactant_pair  source  target        MW\n",
       "0  C00002_C07024  C00002  C07024  0.001976\n",
       "1  C00003_C00004  C00003  C00004  0.000752\n",
       "2  C00005_C00006  C00005  C00006  0.000672"
      ]
     },
     "metadata": {},
     "output_type": "display_data"
    }
   ],
   "source": [
    "source_mw = df.set_index('id')['mol_weight']\n",
    "target_mw = source_mw.reindex(pairs['target']).values\n",
    "\n",
    "pairs['MW'] = abs(source_mw.reindex(pairs['source']).values - target_mw) / (source_mw.reindex(pairs['source']).values + target_mw)\n",
    "\n",
    "display(pairs.head(3))"
   ]
  },
  {
   "cell_type": "markdown",
   "id": "8e7beb89",
   "metadata": {},
   "source": [
    "# Import to Networkx "
   ]
  },
  {
   "cell_type": "code",
   "execution_count": 16,
   "id": "bcafc55c",
   "metadata": {},
   "outputs": [
    {
     "name": "stdout",
     "output_type": "stream",
     "text": [
      "# nodes: 5620 \n",
      "# edges: 10747\n"
     ]
    }
   ],
   "source": [
    "import networkx as nx\n",
    "\n",
    "G = nx.Graph()\n",
    "\n",
    "# iterate over the rows of the DataFrame and add each edge to the graph\n",
    "for index, row in pairs.iterrows():\n",
    "    source = row['source']\n",
    "    target = row['target']\n",
    "    G.add_edge(source, target)\n",
    "\n",
    "# Add df cols as node features\n",
    "node_data = df.set_index('id').to_dict('index')\n",
    "\n",
    "# Add the node features to the graph\n",
    "for node, data in G.nodes(data=True):\n",
    "    node_features = node_data.get(node)\n",
    "    if node_features:\n",
    "        data.update(node_features)\n",
    "\n",
    "print('# nodes:', G.number_of_nodes(), \"\\n# edges:\", G.number_of_edges())"
   ]
  },
  {
   "cell_type": "code",
   "execution_count": 17,
   "id": "ac15ab3f",
   "metadata": {},
   "outputs": [],
   "source": [
    "if path.exists('data/nodes_centralities.csv'):\n",
    "    dc = pd.read_csv('data/nodes_centralities.csv', index_col=0)\n",
    "else:\n",
    "    # PageRank\n",
    "    pr = nx.pagerank(G)\n",
    "    pr = pd.DataFrame(list(pr.items()), columns=['Node', 'PageRank'])\n",
    "\n",
    "    # degree centrality\n",
    "    dc = nx.degree_centrality(G)\n",
    "    dc = pd.DataFrame(list(dc.items()), columns=['Node', 'Degree Centrality'])\n",
    "    \n",
    "    # Betweenness centrality\n",
    "    bc = nx.betweenness_centrality(G)\n",
    "    bv = pd.DataFrame(list(bc.items()), columns=['Node', 'Betweenness Centrality'])\n",
    "    \n",
    "    # centralities\n",
    "    dc['PageRank'] = pr['PageRank'].copy()\n",
    "    dc['Betweenness Centrality'] = bc['Betweenness Centrality'].copy()\n",
    "    dc.sort_values(by='PageRank', ascending=False, inplace=True)\n",
    "    dc = pd.merge(dc, df[['id','formula','mol_weight']].rename({'id':'Node'}, axis=1), on='Node')\n",
    "    dc.to_csv('data/nodes_centralities.csv')"
   ]
  },
  {
   "cell_type": "markdown",
   "id": "7c1743cb-635a-44de-a4b4-7882719ead3b",
   "metadata": {},
   "source": [
    "#### Scale the centrality measures"
   ]
  },
  {
   "cell_type": "code",
   "execution_count": 18,
   "id": "2bad3ebb-b6c0-48fc-98e5-36d4124f219a",
   "metadata": {
    "tags": []
   },
   "outputs": [
    {
     "data": {
      "text/html": [
       "<div>\n",
       "<style scoped>\n",
       "    .dataframe tbody tr th:only-of-type {\n",
       "        vertical-align: middle;\n",
       "    }\n",
       "\n",
       "    .dataframe tbody tr th {\n",
       "        vertical-align: top;\n",
       "    }\n",
       "\n",
       "    .dataframe thead th {\n",
       "        text-align: right;\n",
       "    }\n",
       "</style>\n",
       "<table border=\"1\" class=\"dataframe\">\n",
       "  <thead>\n",
       "    <tr style=\"text-align: right;\">\n",
       "      <th></th>\n",
       "      <th>Node</th>\n",
       "      <th>Degree Centrality</th>\n",
       "      <th>PageRank</th>\n",
       "      <th>Betweenness Centrality</th>\n",
       "      <th>formula</th>\n",
       "      <th>mol_weight</th>\n",
       "    </tr>\n",
       "  </thead>\n",
       "  <tbody>\n",
       "    <tr>\n",
       "      <th>0</th>\n",
       "      <td>C00001</td>\n",
       "      <td>1.000000</td>\n",
       "      <td>1.000000</td>\n",
       "      <td>1.000000</td>\n",
       "      <td>H2O</td>\n",
       "      <td>18.0153</td>\n",
       "    </tr>\n",
       "    <tr>\n",
       "      <th>1</th>\n",
       "      <td>C00007</td>\n",
       "      <td>0.780328</td>\n",
       "      <td>0.898108</td>\n",
       "      <td>0.600669</td>\n",
       "      <td>O2</td>\n",
       "      <td>31.9988</td>\n",
       "    </tr>\n",
       "  </tbody>\n",
       "</table>\n",
       "</div>"
      ],
      "text/plain": [
       "     Node  Degree Centrality  PageRank  Betweenness Centrality formula  \\\n",
       "0  C00001           1.000000  1.000000                1.000000     H2O   \n",
       "1  C00007           0.780328  0.898108                0.600669      O2   \n",
       "\n",
       "   mol_weight  \n",
       "0     18.0153  \n",
       "1     31.9988  "
      ]
     },
     "metadata": {},
     "output_type": "display_data"
    },
    {
     "data": {
      "text/html": [
       "<div>\n",
       "<style scoped>\n",
       "    .dataframe tbody tr th:only-of-type {\n",
       "        vertical-align: middle;\n",
       "    }\n",
       "\n",
       "    .dataframe tbody tr th {\n",
       "        vertical-align: top;\n",
       "    }\n",
       "\n",
       "    .dataframe thead th {\n",
       "        text-align: right;\n",
       "    }\n",
       "</style>\n",
       "<table border=\"1\" class=\"dataframe\">\n",
       "  <thead>\n",
       "    <tr style=\"text-align: right;\">\n",
       "      <th></th>\n",
       "      <th>count</th>\n",
       "      <th>mean</th>\n",
       "      <th>std</th>\n",
       "      <th>min</th>\n",
       "      <th>25%</th>\n",
       "      <th>50%</th>\n",
       "      <th>75%</th>\n",
       "      <th>max</th>\n",
       "    </tr>\n",
       "  </thead>\n",
       "  <tbody>\n",
       "    <tr>\n",
       "      <th>Degree Centrality</th>\n",
       "      <td>5620.0</td>\n",
       "      <td>0.003087</td>\n",
       "      <td>0.019770</td>\n",
       "      <td>0.0000</td>\n",
       "      <td>1.092896e-03</td>\n",
       "      <td>0.001093</td>\n",
       "      <td>0.003279</td>\n",
       "      <td>1.0000</td>\n",
       "    </tr>\n",
       "    <tr>\n",
       "      <th>PageRank</th>\n",
       "      <td>5620.0</td>\n",
       "      <td>0.003621</td>\n",
       "      <td>0.020670</td>\n",
       "      <td>0.0000</td>\n",
       "      <td>1.266360e-03</td>\n",
       "      <td>0.002221</td>\n",
       "      <td>0.003468</td>\n",
       "      <td>1.0000</td>\n",
       "    </tr>\n",
       "    <tr>\n",
       "      <th>Betweenness Centrality</th>\n",
       "      <td>5620.0</td>\n",
       "      <td>0.001034</td>\n",
       "      <td>0.016605</td>\n",
       "      <td>0.0000</td>\n",
       "      <td>1.114510e-07</td>\n",
       "      <td>0.000079</td>\n",
       "      <td>0.000719</td>\n",
       "      <td>1.0000</td>\n",
       "    </tr>\n",
       "    <tr>\n",
       "      <th>mol_weight</th>\n",
       "      <td>5620.0</td>\n",
       "      <td>440.817497</td>\n",
       "      <td>328.063873</td>\n",
       "      <td>17.0305</td>\n",
       "      <td>1.881794e+02</td>\n",
       "      <td>320.466300</td>\n",
       "      <td>589.540650</td>\n",
       "      <td>2484.8138</td>\n",
       "    </tr>\n",
       "  </tbody>\n",
       "</table>\n",
       "</div>"
      ],
      "text/plain": [
       "                         count        mean         std      min           25%  \\\n",
       "Degree Centrality       5620.0    0.003087    0.019770   0.0000  1.092896e-03   \n",
       "PageRank                5620.0    0.003621    0.020670   0.0000  1.266360e-03   \n",
       "Betweenness Centrality  5620.0    0.001034    0.016605   0.0000  1.114510e-07   \n",
       "mol_weight              5620.0  440.817497  328.063873  17.0305  1.881794e+02   \n",
       "\n",
       "                               50%         75%        max  \n",
       "Degree Centrality         0.001093    0.003279     1.0000  \n",
       "PageRank                  0.002221    0.003468     1.0000  \n",
       "Betweenness Centrality    0.000079    0.000719     1.0000  \n",
       "mol_weight              320.466300  589.540650  2484.8138  "
      ]
     },
     "metadata": {},
     "output_type": "display_data"
    }
   ],
   "source": [
    "from sklearn.preprocessing import MinMaxScaler\n",
    "\n",
    "scaler = MinMaxScaler()\n",
    "dc[['Degree Centrality', 'PageRank', 'Betweenness Centrality']] = scaler.fit_transform(dc[['Degree Centrality', 'PageRank', 'Betweenness Centrality']])\n",
    "display(dc.head(2))\n",
    "\n",
    "display(dc.describe().T)"
   ]
  },
  {
   "cell_type": "code",
   "execution_count": 19,
   "id": "911f4c05-9ddf-419b-89e9-6e85a47cc4cc",
   "metadata": {},
   "outputs": [
    {
     "data": {
      "text/html": [
       "<div>\n",
       "<style scoped>\n",
       "    .dataframe tbody tr th:only-of-type {\n",
       "        vertical-align: middle;\n",
       "    }\n",
       "\n",
       "    .dataframe tbody tr th {\n",
       "        vertical-align: top;\n",
       "    }\n",
       "\n",
       "    .dataframe thead th {\n",
       "        text-align: right;\n",
       "    }\n",
       "</style>\n",
       "<table border=\"1\" class=\"dataframe\">\n",
       "  <thead>\n",
       "    <tr style=\"text-align: right;\">\n",
       "      <th></th>\n",
       "      <th>id</th>\n",
       "      <th>formula</th>\n",
       "      <th>Co</th>\n",
       "      <th>C</th>\n",
       "      <th>Br</th>\n",
       "      <th>Zn</th>\n",
       "      <th>N</th>\n",
       "      <th>Mo</th>\n",
       "      <th>S</th>\n",
       "      <th>Se</th>\n",
       "      <th>...</th>\n",
       "      <th>As</th>\n",
       "      <th>F</th>\n",
       "      <th>R</th>\n",
       "      <th>P</th>\n",
       "      <th>Cl</th>\n",
       "      <th>polymer</th>\n",
       "      <th>mol_weight</th>\n",
       "      <th>PageRank</th>\n",
       "      <th>Degree Centrality</th>\n",
       "      <th>Betweenness Centrality</th>\n",
       "    </tr>\n",
       "  </thead>\n",
       "  <tbody>\n",
       "    <tr>\n",
       "      <th>0</th>\n",
       "      <td>C00002</td>\n",
       "      <td>C10H16N5O13P3</td>\n",
       "      <td>0</td>\n",
       "      <td>10</td>\n",
       "      <td>0</td>\n",
       "      <td>0</td>\n",
       "      <td>5</td>\n",
       "      <td>0</td>\n",
       "      <td>0</td>\n",
       "      <td>0</td>\n",
       "      <td>...</td>\n",
       "      <td>0</td>\n",
       "      <td>0</td>\n",
       "      <td>0</td>\n",
       "      <td>3</td>\n",
       "      <td>0</td>\n",
       "      <td>0</td>\n",
       "      <td>507.0</td>\n",
       "      <td>0.220897</td>\n",
       "      <td>0.244809</td>\n",
       "      <td>0.147827</td>\n",
       "    </tr>\n",
       "    <tr>\n",
       "      <th>1</th>\n",
       "      <td>C00003</td>\n",
       "      <td>C21H28N7O14P2</td>\n",
       "      <td>0</td>\n",
       "      <td>21</td>\n",
       "      <td>0</td>\n",
       "      <td>0</td>\n",
       "      <td>7</td>\n",
       "      <td>0</td>\n",
       "      <td>0</td>\n",
       "      <td>0</td>\n",
       "      <td>...</td>\n",
       "      <td>0</td>\n",
       "      <td>0</td>\n",
       "      <td>0</td>\n",
       "      <td>2</td>\n",
       "      <td>0</td>\n",
       "      <td>0</td>\n",
       "      <td>664.0</td>\n",
       "      <td>0.007615</td>\n",
       "      <td>0.009836</td>\n",
       "      <td>0.000216</td>\n",
       "    </tr>\n",
       "  </tbody>\n",
       "</table>\n",
       "<p>2 rows × 25 columns</p>\n",
       "</div>"
      ],
      "text/plain": [
       "       id        formula  Co   C  Br  Zn  N  Mo  S  Se  ...  As  F  R  P  Cl  \\\n",
       "0  C00002  C10H16N5O13P3   0  10   0   0  5   0  0   0  ...   0  0  0  3   0   \n",
       "1  C00003  C21H28N7O14P2   0  21   0   0  7   0  0   0  ...   0  0  0  2   0   \n",
       "\n",
       "   polymer  mol_weight  PageRank  Degree Centrality  Betweenness Centrality  \n",
       "0        0       507.0  0.220897           0.244809                0.147827  \n",
       "1        0       664.0  0.007615           0.009836                0.000216  \n",
       "\n",
       "[2 rows x 25 columns]"
      ]
     },
     "execution_count": 19,
     "metadata": {},
     "output_type": "execute_result"
    }
   ],
   "source": [
    "# Concat to df the centrality measures from dc\n",
    "df = pd.merge(df, dc[['Node', 'PageRank', 'Degree Centrality', 'Betweenness Centrality']], left_on='id', right_on='Node')\n",
    "df.drop('Node', axis=1, inplace=True)\n",
    "df.head(2)"
   ]
  },
  {
   "cell_type": "code",
   "execution_count": 20,
   "id": "1677b7e5-f35c-4b85-8359-7a035cd17607",
   "metadata": {},
   "outputs": [
    {
     "data": {
      "text/html": [
       "<div>\n",
       "<style scoped>\n",
       "    .dataframe tbody tr th:only-of-type {\n",
       "        vertical-align: middle;\n",
       "    }\n",
       "\n",
       "    .dataframe tbody tr th {\n",
       "        vertical-align: top;\n",
       "    }\n",
       "\n",
       "    .dataframe thead th {\n",
       "        text-align: right;\n",
       "    }\n",
       "</style>\n",
       "<table border=\"1\" class=\"dataframe\">\n",
       "  <thead>\n",
       "    <tr style=\"text-align: right;\">\n",
       "      <th></th>\n",
       "      <th>Reactant_pair</th>\n",
       "      <th>source</th>\n",
       "      <th>target</th>\n",
       "      <th>MW</th>\n",
       "      <th>MW_wCentr</th>\n",
       "    </tr>\n",
       "  </thead>\n",
       "  <tbody>\n",
       "    <tr>\n",
       "      <th>0</th>\n",
       "      <td>C00002_C07024</td>\n",
       "      <td>C00002</td>\n",
       "      <td>C07024</td>\n",
       "      <td>0.001976</td>\n",
       "      <td>0.100431</td>\n",
       "    </tr>\n",
       "    <tr>\n",
       "      <th>1</th>\n",
       "      <td>C00003_C00004</td>\n",
       "      <td>C00003</td>\n",
       "      <td>C00004</td>\n",
       "      <td>0.000752</td>\n",
       "      <td>0.001602</td>\n",
       "    </tr>\n",
       "    <tr>\n",
       "      <th>2</th>\n",
       "      <td>C00005_C00006</td>\n",
       "      <td>C00005</td>\n",
       "      <td>C00006</td>\n",
       "      <td>0.000672</td>\n",
       "      <td>0.000305</td>\n",
       "    </tr>\n",
       "  </tbody>\n",
       "</table>\n",
       "</div>"
      ],
      "text/plain": [
       "   Reactant_pair  source  target        MW  MW_wCentr\n",
       "0  C00002_C07024  C00002  C07024  0.001976   0.100431\n",
       "1  C00003_C00004  C00003  C00004  0.000752   0.001602\n",
       "2  C00005_C00006  C00005  C00006  0.000672   0.000305"
      ]
     },
     "metadata": {},
     "output_type": "display_data"
    }
   ],
   "source": [
    "# Create new mw adding info from centrality measure\n",
    "df['mw'] = df['mol_weight'] + df['mol_weight'] * df['PageRank']\n",
    "\n",
    "# Update the edge weight\n",
    "source_mw = df.set_index('id')['mw']\n",
    "target_mw = source_mw.reindex(pairs['target']).values\n",
    "\n",
    "pairs['MW_wCentr'] = abs(source_mw.reindex(pairs['source']).values - target_mw) / (source_mw.reindex(pairs['source']).values + target_mw)\n",
    "\n",
    "display(pairs.head(3))"
   ]
  },
  {
   "cell_type": "markdown",
   "id": "9ab589a9",
   "metadata": {},
   "source": [
    "## Add edge attributes"
   ]
  },
  {
   "cell_type": "code",
   "execution_count": 21,
   "id": "fff8ada7",
   "metadata": {
    "tags": []
   },
   "outputs": [],
   "source": [
    "def get_weights(a,b, method):\n",
    "    \n",
    "    # a_C and b_C is the number of C at each compound\n",
    "    a_C = df[df['id']==a]['C'].values\n",
    "    b_C = df[df['id']==b]['C'].values\n",
    "    if (a_C != 0 and b_C == 0) or (a_C == 0 and b_C != 0):\n",
    "        return 999\n",
    "    \n",
    "    try:\n",
    "        w = pairs[(pairs['source'] == a) & (pairs['target'] == b)][method].values[0]\n",
    "    except IndexError:\n",
    "        w = pairs[(pairs['source'] == b) & (pairs['target'] == a)][method].values[0]\n",
    "    \n",
    "    return w\n",
    "\n",
    "for edge in G.edges():\n",
    "    G.edges[(edge[0], edge[1])]['weight'] = \\\n",
    "            get_weights(edge[0], edge[1], method='MW')"
   ]
  },
  {
   "cell_type": "code",
   "execution_count": 22,
   "id": "f0150d23",
   "metadata": {},
   "outputs": [],
   "source": [
    "source = 'C00031'\n",
    "target = 'C00074'\n",
    "paths = nx.shortest_simple_paths(G, source, target, weight='weight')"
   ]
  },
  {
   "cell_type": "code",
   "execution_count": 23,
   "id": "2fef958d",
   "metadata": {},
   "outputs": [
    {
     "name": "stdout",
     "output_type": "stream",
     "text": [
      "['C00031', 'C00092', 'C00085', 'C00118', 'C00111', 'C00074']\n",
      "['C00031', 'C00092', 'C00093', 'C00111', 'C00074']\n",
      "['C00031', 'C00092', 'C00093', 'C00118', 'C00111', 'C00074']\n",
      "['C00031', 'C00092', 'C00085', 'C00199', 'C00118', 'C00111', 'C00074']\n",
      "['C00031', 'C00092', 'C00085', 'C00279', 'C03604', 'C03394', 'C00111', 'C00074']\n",
      "['C00031', 'C00092', 'C00644', 'C00085', 'C00118', 'C00111', 'C00074']\n",
      "['C00031', 'C00092', 'C00644', 'C00085', 'C00199', 'C00118', 'C00111', 'C00074']\n",
      "['C00031', 'C00092', 'C00644', 'C00085', 'C00279', 'C03604', 'C03394', 'C00111', 'C00074']\n",
      "['C00031', 'C00198', 'C00124', 'C00095', 'C00085', 'C00118', 'C00111', 'C00074']\n",
      "['C00031', 'C00198', 'C00124', 'C00092', 'C00085', 'C00118', 'C00111', 'C00074']\n"
     ]
    }
   ],
   "source": [
    "for idx, val in enumerate(paths):\n",
    "    print(val)\n",
    "    if idx == 9: break"
   ]
  },
  {
   "cell_type": "code",
   "execution_count": 24,
   "id": "aaabbb59",
   "metadata": {},
   "outputs": [],
   "source": [
    "source = 'C00074'\n",
    "target = 'C02637'\n",
    "paths = nx.shortest_simple_paths(G, source, target, weight='weight')"
   ]
  },
  {
   "cell_type": "code",
   "execution_count": 28,
   "id": "22b78274",
   "metadata": {
    "scrolled": true
   },
   "outputs": [
    {
     "name": "stdout",
     "output_type": "stream",
     "text": [
      "['C00074', 'C02798', 'C05672', 'C00025', 'C00045', 'C00047', 'C03239', 'C00161', 'C00026', 'C03232', 'C00197', 'C00118', 'C00111', 'C03394', 'C03604', 'C00279', 'C04691', 'C00944', 'C02637']\n",
      "['C00074', 'C02798', 'C00026', 'C00161', 'C00045', 'C00025', 'C01005', 'C03232', 'C00197', 'C00118', 'C00093', 'C00111', 'C03394', 'C03604', 'C00279', 'C04691', 'C00944', 'C02637']\n",
      "['C00074', 'C02798', 'C00026', 'C00940', 'C00064', 'C00025', 'C01005', 'C03232', 'C00197', 'C00118', 'C00093', 'C00111', 'C03394', 'C03604', 'C00279', 'C04691', 'C00944', 'C02637']\n",
      "['C00074', 'C02798', 'C00026', 'C00161', 'C03239', 'C00047', 'C00025', 'C01005', 'C03232', 'C00197', 'C00118', 'C00093', 'C00111', 'C03394', 'C03604', 'C00279', 'C04691', 'C00944', 'C02637']\n"
     ]
    }
   ],
   "source": [
    "for idx, val in enumerate(paths):\n",
    "    print(val)\n",
    "    if idx == 3: break"
   ]
  },
  {
   "cell_type": "code",
   "execution_count": 29,
   "id": "3d759eb8",
   "metadata": {},
   "outputs": [
    {
     "data": {
      "text/plain": [
       "[['C00082',\n",
       "  'C00826',\n",
       "  'C00254',\n",
       "  'C00251',\n",
       "  'C01269',\n",
       "  'C03175',\n",
       "  'C00493',\n",
       "  'C02637'],\n",
       " ['C00082',\n",
       "  'C00826',\n",
       "  'C00254',\n",
       "  'C00251',\n",
       "  'C01269',\n",
       "  'C03175',\n",
       "  'C00493',\n",
       "  'C02637']]"
      ]
     },
     "execution_count": 29,
     "metadata": {},
     "output_type": "execute_result"
    }
   ],
   "source": [
    "source = 'C00082'\n",
    "target = 'C02637'\n",
    "list(nx.all_shortest_paths(G, source, target, weight='weight'))"
   ]
  },
  {
   "cell_type": "code",
   "execution_count": 27,
   "id": "205098eb",
   "metadata": {},
   "outputs": [
    {
     "data": {
      "text/plain": [
       "[['C07481', 'C07130', 'C16357', 'C00385'],\n",
       " ['C07481', 'C07480', 'C16357', 'C00385'],\n",
       " ['C07481', 'C07130', 'C16358', 'C00385'],\n",
       " ['C07481', 'C13747', 'C16358', 'C00385'],\n",
       " ['C07481', 'C07480', 'C16353', 'C00385'],\n",
       " ['C07481', 'C13747', 'C16353', 'C00385']]"
      ]
     },
     "execution_count": 27,
     "metadata": {},
     "output_type": "execute_result"
    }
   ],
   "source": [
    "source = 'C07481'\n",
    "target = 'C00385'\n",
    "list(nx.all_shortest_paths(G, source, target, weight='weight'))"
   ]
  },
  {
   "cell_type": "markdown",
   "id": "8210c015-3f8a-4506-b2ec-6519a732eb61",
   "metadata": {
    "tags": []
   },
   "source": [
    "### Load file with test cases fron NICEpath"
   ]
  },
  {
   "cell_type": "code",
   "execution_count": 30,
   "id": "857be4fd-6501-4c86-be18-fe6d0338ea97",
   "metadata": {},
   "outputs": [
    {
     "data": {
      "text/html": [
       "<div>\n",
       "<style scoped>\n",
       "    .dataframe tbody tr th:only-of-type {\n",
       "        vertical-align: middle;\n",
       "    }\n",
       "\n",
       "    .dataframe tbody tr th {\n",
       "        vertical-align: top;\n",
       "    }\n",
       "\n",
       "    .dataframe thead th {\n",
       "        text-align: right;\n",
       "    }\n",
       "</style>\n",
       "<table border=\"1\" class=\"dataframe\">\n",
       "  <thead>\n",
       "    <tr style=\"text-align: right;\">\n",
       "      <th></th>\n",
       "      <th>Pathway</th>\n",
       "      <th>source</th>\n",
       "      <th>target</th>\n",
       "    </tr>\n",
       "  </thead>\n",
       "  <tbody>\n",
       "    <tr>\n",
       "      <th>0</th>\n",
       "      <td>C00082,C00811,C01197,C01494,C05619,C00482,C056...</td>\n",
       "      <td>C00082</td>\n",
       "      <td>C01533</td>\n",
       "    </tr>\n",
       "    <tr>\n",
       "      <th>1</th>\n",
       "      <td>C00223,C00323,C00406,C02666,C00590,C00761</td>\n",
       "      <td>C00223</td>\n",
       "      <td>C00761</td>\n",
       "    </tr>\n",
       "    <tr>\n",
       "      <th>2</th>\n",
       "      <td>C00811,C01197,C01494,C05619,C00482,C01175,C02887</td>\n",
       "      <td>C00811</td>\n",
       "      <td>C02887</td>\n",
       "    </tr>\n",
       "  </tbody>\n",
       "</table>\n",
       "</div>"
      ],
      "text/plain": [
       "                                            Pathway   source  target\n",
       "0  C00082,C00811,C01197,C01494,C05619,C00482,C056...  C00082  C01533\n",
       "1          C00223,C00323,C00406,C02666,C00590,C00761  C00223  C00761\n",
       "2   C00811,C01197,C01494,C05619,C00482,C01175,C02887  C00811  C02887"
      ]
     },
     "execution_count": 30,
     "metadata": {},
     "output_type": "execute_result"
    }
   ],
   "source": [
    "test_cases = pd.read_csv('data/test_cases.csv')\n",
    "test_cases['source'] = test_cases['Pathway '].apply(lambda x: x.split(',')[0])\n",
    "test_cases['target'] = test_cases['Pathway '].apply(lambda x: x.split(',')[len(x.split(','))-1])\n",
    "test_cases.head(3)"
   ]
  },
  {
   "cell_type": "code",
   "execution_count": 31,
   "id": "f88240e8-681a-4f80-a608-cd1cec4e83dd",
   "metadata": {},
   "outputs": [
    {
     "name": "stdout",
     "output_type": "stream",
     "text": [
      "['C00082', 'C00811', 'C01197', 'C01494', 'C05619', 'C00482', 'C05610', 'C02325', 'C01533']\n",
      "['C00223', 'C12096', 'C00029', 'C00761']\n",
      "['C00811', 'C01197', 'C01494', 'C05619', 'C00482', 'C01175', 'C02887']\n",
      "['C00079', 'C00166', 'C05607', 'C16257', 'C00540', 'C00903']\n",
      "['C00223', 'C12096', 'C00029', 'C17750']\n",
      "['C06561', 'C00509', 'C16492', 'C01460']\n",
      "['C05903', 'C12249', 'C00029', 'C12635', 'C12636']\n",
      "['C01477', 'C01460', 'C00029', 'C00167', 'C04900']\n",
      "['C05903', 'C00389', 'C10107', 'C12633', 'C11620']\n",
      "['C05905', 'C08604', 'C08639', 'C12096', 'C16299']\n",
      "['C05904', 'C12137', 'C12642', 'C00083', 'C12647']\n",
      "['C05908', 'C12138', 'C00029', 'C16303']\n",
      "['C00078', 'C00398', 'C21762', 'C21778', 'C21779', 'C07576']\n",
      "['C06160', 'C06161', 'C00019', 'C21591', 'C20299']\n",
      "['C05191', 'C05247', 'C05194', 'C05193', 'C05316', 'C06165']\n",
      "['C00079', 'C00166', 'C05607', 'C16257', 'C10860']\n",
      "['C00047', 'C04076', 'C00450', 'C00408']\n",
      "['C07481', 'C07130', 'C16357', 'C00385']\n",
      "['C00082', 'C00355', 'C03758', 'C08557']\n",
      "['C08539', 'C08540', 'C08537', 'C08542']\n",
      "['C00441', 'C00022', 'C00109', 'C00188', 'C20917', 'C20918', 'C20921']\n",
      "['C01121', 'C04767', 'C01221', 'C01138', 'C00413']\n",
      "['C02627', 'C20353', 'C20614', 'C21251', 'C01822']\n",
      "['C00043', 'C17587', 'C01759']\n",
      "['C00043', 'C21261', 'C21262', 'C21263']\n",
      "['C12468', 'C20629', 'C12474', 'C00019', 'C12476', 'C05080']\n",
      "['C08588', 'C19867', 'C00029', 'C08589']\n",
      "['C20953', 'C21085', 'C21086', 'C21087', 'C20940', 'C20941', 'C20942']\n",
      "['C00002', 'C07030', 'C07031', 'C07032', 'C01610']\n",
      "['C00047', 'C01028', 'C03955', 'C05554']\n",
      "['C00750', 'C00315', 'C00134', 'C00041', 'C00099', 'C02642', 'C00429', 'C00106']\n",
      "['C00418', 'C01107', 'C01143', 'C00129', 'C00448', 'C01126', 'C03461']\n",
      "['C00341', 'C00521', 'C01123', 'C02289', 'C11951', 'C09893', 'C00843', 'C00400']\n",
      "['C00341', 'C06074', 'C20943', 'C20944']\n",
      "['C11899', 'C11700', 'C11900', 'C16523', 'C16524', 'C07394']\n",
      "['C05413', 'C05414', 'C05430', 'C05431', 'C05432', 'C19795', 'C15874', 'C15877', 'C15878', 'C15879', 'C15881']\n",
      "['C05413', 'C05414', 'C05430', 'C05431', 'C15892', 'C15898', 'C15900']\n",
      "['C01789', 'C15784', 'C15785', 'C15786', 'C15787', 'C15788', 'C15789', 'C15790', 'C15791']\n",
      "['C01126', 'C03461', 'C16502', 'C16504', 'C16506', 'C16505', 'C16507']\n",
      "['C00082', 'C01179', 'C00642', 'C01161', 'C05582']\n",
      "['C00180', 'C00512', 'C06322', 'C06749', 'C09824', 'C09825', 'C06714', 'C06715', 'C00527', 'C02411', 'C00877', 'C00136', 'C00332', 'C00091']\n",
      "['C09822', 'C09823', 'C09811', 'C09812', 'C09813', 'C01063', 'C06723', 'C06714', 'C06715']\n",
      "['C06789', 'C06790', 'C06791', 'C06793', 'C06547', 'C06548', 'C00024']\n",
      "['C01455', 'C00556', 'C00193', 'C00180', 'C00512']\n",
      "['C06756', 'C06757', 'C06758', 'C01454', 'C06729', 'C06730']\n",
      "['C16391', 'C16392', 'C16394', 'C16396', 'C16400']\n",
      "['C07083', 'C00423', 'C00079', 'C00166', 'C00036', 'C00149', 'C00186']\n",
      "['C11249', 'C00854', 'C00414', 'C04316', 'C00024', 'C02232']\n",
      "['C00829', 'C14786', 'C11713', 'C03012', 'C06204', 'C06203', 'C06202', 'C00805']\n",
      "['C07535', 'C18270', 'C18279', 'C18277', 'C18283']\n"
     ]
    }
   ],
   "source": [
    "for row in range(len(test_cases)):\n",
    "    source = test_cases['source'].iloc[row]\n",
    "    target = test_cases['target'].iloc[row]\n",
    "    print(list(nx.shortest_path(G, source, target, weight='weight')))"
   ]
  },
  {
   "cell_type": "markdown",
   "id": "e0526820",
   "metadata": {},
   "source": [
    "__UDP__: `C00015`"
   ]
  },
  {
   "cell_type": "code",
   "execution_count": null,
   "id": "e3611493",
   "metadata": {},
   "outputs": [],
   "source": []
  },
  {
   "cell_type": "code",
   "execution_count": null,
   "id": "89574133",
   "metadata": {},
   "outputs": [],
   "source": []
  },
  {
   "cell_type": "code",
   "execution_count": null,
   "id": "abecff20",
   "metadata": {},
   "outputs": [],
   "source": []
  },
  {
   "cell_type": "code",
   "execution_count": null,
   "id": "8d1999ea",
   "metadata": {},
   "outputs": [],
   "source": []
  },
  {
   "cell_type": "code",
   "execution_count": null,
   "id": "a56f3046",
   "metadata": {},
   "outputs": [],
   "source": []
  },
  {
   "cell_type": "code",
   "execution_count": null,
   "id": "76aee690",
   "metadata": {},
   "outputs": [],
   "source": []
  },
  {
   "cell_type": "code",
   "execution_count": null,
   "id": "a7f3703d",
   "metadata": {},
   "outputs": [],
   "source": []
  },
  {
   "cell_type": "code",
   "execution_count": null,
   "id": "b6874964",
   "metadata": {},
   "outputs": [],
   "source": []
  },
  {
   "cell_type": "code",
   "execution_count": null,
   "id": "371431f4",
   "metadata": {},
   "outputs": [],
   "source": []
  },
  {
   "cell_type": "code",
   "execution_count": null,
   "id": "157fad01-2e1d-4cfb-9749-ccabcc4f7e69",
   "metadata": {},
   "outputs": [],
   "source": []
  },
  {
   "cell_type": "code",
   "execution_count": null,
   "id": "d0296b29-b571-4fde-a5b6-47d0b3f634a5",
   "metadata": {},
   "outputs": [],
   "source": []
  },
  {
   "cell_type": "code",
   "execution_count": null,
   "id": "79548479-23d0-4387-a7fe-451c2fc99aa8",
   "metadata": {},
   "outputs": [],
   "source": []
  },
  {
   "cell_type": "code",
   "execution_count": null,
   "id": "32e095cd-dc19-4518-88a8-ddc274aebd92",
   "metadata": {},
   "outputs": [],
   "source": []
  },
  {
   "cell_type": "markdown",
   "id": "ff1b8b97",
   "metadata": {},
   "source": [
    "### Get node embeddings using GNN and Clustering (idea)"
   ]
  },
  {
   "cell_type": "code",
   "execution_count": 41,
   "id": "ef3f8c51",
   "metadata": {},
   "outputs": [],
   "source": [
    "df_copy = df.copy()"
   ]
  },
  {
   "cell_type": "code",
   "execution_count": 42,
   "id": "91e3b0cd",
   "metadata": {},
   "outputs": [
    {
     "name": "stdout",
     "output_type": "stream",
     "text": [
      "# nodes: 5620 \n",
      "# edges: 10747\n"
     ]
    }
   ],
   "source": [
    "from sklearn.preprocessing import StandardScaler\n",
    "\n",
    "'''Scale df'''\n",
    "# Select the columns with non-object data types\n",
    "numeric_cols = df.select_dtypes(include=['int', 'float']).columns\n",
    "\n",
    "# Apply standard scaling to the selected columns\n",
    "scaler = StandardScaler()\n",
    "df[numeric_cols] = scaler.fit_transform(df[numeric_cols])\n",
    "\n",
    "'''Recreate Graph'''\n",
    "G = nx.Graph()\n",
    "\n",
    "# iterate over the rows of the DataFrame and add each edge to the graph\n",
    "for index, row in pairs.iterrows():\n",
    "    source = row['source']\n",
    "    target = row['target']\n",
    "    G.add_edge(source, target)\n",
    "\n",
    "# Add df cols as node features\n",
    "node_data = df.set_index('id').to_dict('index')\n",
    "\n",
    "# Add the node features to the graph\n",
    "for node, data in G.nodes(data=True):\n",
    "    node_features = node_data.get(node)\n",
    "    if node_features:\n",
    "        data.update(node_features)\n",
    "\n",
    "print('# nodes:', G.number_of_nodes(), \"\\n# edges:\", G.number_of_edges())"
   ]
  },
  {
   "cell_type": "code",
   "execution_count": 43,
   "id": "bcc1c99a",
   "metadata": {},
   "outputs": [
    {
     "name": "stdout",
     "output_type": "stream",
     "text": [
      "torch.Size([5620, 24])\n"
     ]
    },
    {
     "data": {
      "text/html": [
       "<div>\n",
       "<style scoped>\n",
       "    .dataframe tbody tr th:only-of-type {\n",
       "        vertical-align: middle;\n",
       "    }\n",
       "\n",
       "    .dataframe tbody tr th {\n",
       "        vertical-align: top;\n",
       "    }\n",
       "\n",
       "    .dataframe thead th {\n",
       "        text-align: right;\n",
       "    }\n",
       "</style>\n",
       "<table border=\"1\" class=\"dataframe\">\n",
       "  <thead>\n",
       "    <tr style=\"text-align: right;\">\n",
       "      <th></th>\n",
       "      <th>0</th>\n",
       "      <th>1</th>\n",
       "      <th>2</th>\n",
       "      <th>3</th>\n",
       "      <th>4</th>\n",
       "      <th>5</th>\n",
       "      <th>6</th>\n",
       "      <th>7</th>\n",
       "      <th>8</th>\n",
       "      <th>9</th>\n",
       "      <th>...</th>\n",
       "      <th>15</th>\n",
       "      <th>16</th>\n",
       "      <th>17</th>\n",
       "      <th>18</th>\n",
       "      <th>19</th>\n",
       "      <th>20</th>\n",
       "      <th>21</th>\n",
       "      <th>22</th>\n",
       "      <th>23</th>\n",
       "      <th>24</th>\n",
       "    </tr>\n",
       "  </thead>\n",
       "  <tbody>\n",
       "    <tr>\n",
       "      <th>0</th>\n",
       "      <td>-0.046257976</td>\n",
       "      <td>-0.47569066</td>\n",
       "      <td>-0.05800596</td>\n",
       "      <td>-0.01334045</td>\n",
       "      <td>1.6516563</td>\n",
       "      <td>-0.023110451</td>\n",
       "      <td>-0.35957474</td>\n",
       "      <td>-0.049973235</td>\n",
       "      <td>-0.055536322</td>\n",
       "      <td>-0.07916304</td>\n",
       "      <td>...</td>\n",
       "      <td>-0.3170322</td>\n",
       "      <td>3.0319724</td>\n",
       "      <td>-0.14800134</td>\n",
       "      <td>-0.15327422</td>\n",
       "      <td>0.33535188</td>\n",
       "      <td>10.512794</td>\n",
       "      <td>12.227794</td>\n",
       "      <td>8.841075</td>\n",
       "      <td>0.6630738</td>\n",
       "      <td>C00002</td>\n",
       "    </tr>\n",
       "    <tr>\n",
       "      <th>1</th>\n",
       "      <td>-0.046257976</td>\n",
       "      <td>-0.47569066</td>\n",
       "      <td>-0.05800596</td>\n",
       "      <td>-0.01334045</td>\n",
       "      <td>1.6516563</td>\n",
       "      <td>-0.023110451</td>\n",
       "      <td>-0.35957474</td>\n",
       "      <td>-0.049973235</td>\n",
       "      <td>-0.055536322</td>\n",
       "      <td>-0.07916304</td>\n",
       "      <td>...</td>\n",
       "      <td>-0.3170322</td>\n",
       "      <td>3.0319724</td>\n",
       "      <td>-0.14800134</td>\n",
       "      <td>-0.15327422</td>\n",
       "      <td>0.32940078</td>\n",
       "      <td>-0.07844049</td>\n",
       "      <td>-0.045585938</td>\n",
       "      <td>-0.06089741</td>\n",
       "      <td>0.3278283</td>\n",
       "      <td>C07024</td>\n",
       "    </tr>\n",
       "    <tr>\n",
       "      <th>2</th>\n",
       "      <td>-0.046257976</td>\n",
       "      <td>0.38326472</td>\n",
       "      <td>-0.05800596</td>\n",
       "      <td>-0.01334045</td>\n",
       "      <td>2.576834</td>\n",
       "      <td>-0.023110451</td>\n",
       "      <td>-0.35957474</td>\n",
       "      <td>-0.049973235</td>\n",
       "      <td>-0.055536322</td>\n",
       "      <td>-0.07916304</td>\n",
       "      <td>...</td>\n",
       "      <td>-0.3170322</td>\n",
       "      <td>1.8777567</td>\n",
       "      <td>-0.14800134</td>\n",
       "      <td>-0.15327422</td>\n",
       "      <td>0.8025121</td>\n",
       "      <td>0.1932823</td>\n",
       "      <td>0.3414125</td>\n",
       "      <td>-0.049249347</td>\n",
       "      <td>0.81161666</td>\n",
       "      <td>C00003</td>\n",
       "    </tr>\n",
       "    <tr>\n",
       "      <th>3</th>\n",
       "      <td>-0.046257976</td>\n",
       "      <td>0.38326472</td>\n",
       "      <td>-0.05800596</td>\n",
       "      <td>-0.01334045</td>\n",
       "      <td>2.576834</td>\n",
       "      <td>-0.023110451</td>\n",
       "      <td>-0.35957474</td>\n",
       "      <td>-0.049973235</td>\n",
       "      <td>-0.055536322</td>\n",
       "      <td>-0.07916304</td>\n",
       "      <td>...</td>\n",
       "      <td>-0.3170322</td>\n",
       "      <td>1.8777567</td>\n",
       "      <td>-0.14800134</td>\n",
       "      <td>-0.15327422</td>\n",
       "      <td>0.80548763</td>\n",
       "      <td>-0.035750844</td>\n",
       "      <td>0.009699554</td>\n",
       "      <td>-0.061821274</td>\n",
       "      <td>0.80526626</td>\n",
       "      <td>C00004</td>\n",
       "    </tr>\n",
       "    <tr>\n",
       "      <th>4</th>\n",
       "      <td>-0.046257976</td>\n",
       "      <td>0.38326472</td>\n",
       "      <td>-0.05800596</td>\n",
       "      <td>-0.01334045</td>\n",
       "      <td>2.576834</td>\n",
       "      <td>-0.023110451</td>\n",
       "      <td>-0.35957474</td>\n",
       "      <td>-0.049973235</td>\n",
       "      <td>-0.055536322</td>\n",
       "      <td>-0.07916304</td>\n",
       "      <td>...</td>\n",
       "      <td>-0.3170322</td>\n",
       "      <td>3.0319724</td>\n",
       "      <td>-0.14800134</td>\n",
       "      <td>-0.15327422</td>\n",
       "      <td>1.0435311</td>\n",
       "      <td>-0.08419381</td>\n",
       "      <td>-0.045585938</td>\n",
       "      <td>-0.06004852</td>\n",
       "      <td>1.041111</td>\n",
       "      <td>C00005</td>\n",
       "    </tr>\n",
       "  </tbody>\n",
       "</table>\n",
       "<p>5 rows × 25 columns</p>\n",
       "</div>"
      ],
      "text/plain": [
       "             0            1            2            3          4   \\\n",
       "0  -0.046257976  -0.47569066  -0.05800596  -0.01334045  1.6516563   \n",
       "1  -0.046257976  -0.47569066  -0.05800596  -0.01334045  1.6516563   \n",
       "2  -0.046257976   0.38326472  -0.05800596  -0.01334045   2.576834   \n",
       "3  -0.046257976   0.38326472  -0.05800596  -0.01334045   2.576834   \n",
       "4  -0.046257976   0.38326472  -0.05800596  -0.01334045   2.576834   \n",
       "\n",
       "             5            6             7             8            9   ...  \\\n",
       "0  -0.023110451  -0.35957474  -0.049973235  -0.055536322  -0.07916304  ...   \n",
       "1  -0.023110451  -0.35957474  -0.049973235  -0.055536322  -0.07916304  ...   \n",
       "2  -0.023110451  -0.35957474  -0.049973235  -0.055536322  -0.07916304  ...   \n",
       "3  -0.023110451  -0.35957474  -0.049973235  -0.055536322  -0.07916304  ...   \n",
       "4  -0.023110451  -0.35957474  -0.049973235  -0.055536322  -0.07916304  ...   \n",
       "\n",
       "           15         16           17           18          19            20  \\\n",
       "0  -0.3170322  3.0319724  -0.14800134  -0.15327422  0.33535188     10.512794   \n",
       "1  -0.3170322  3.0319724  -0.14800134  -0.15327422  0.32940078   -0.07844049   \n",
       "2  -0.3170322  1.8777567  -0.14800134  -0.15327422   0.8025121     0.1932823   \n",
       "3  -0.3170322  1.8777567  -0.14800134  -0.15327422  0.80548763  -0.035750844   \n",
       "4  -0.3170322  3.0319724  -0.14800134  -0.15327422   1.0435311   -0.08419381   \n",
       "\n",
       "             21            22          23      24  \n",
       "0     12.227794      8.841075   0.6630738  C00002  \n",
       "1  -0.045585938   -0.06089741   0.3278283  C07024  \n",
       "2     0.3414125  -0.049249347  0.81161666  C00003  \n",
       "3   0.009699554  -0.061821274  0.80526626  C00004  \n",
       "4  -0.045585938   -0.06004852    1.041111  C00005  \n",
       "\n",
       "[5 rows x 25 columns]"
      ]
     },
     "metadata": {},
     "output_type": "display_data"
    }
   ],
   "source": [
    "from torch_geometric.utils.convert import from_networkx\n",
    "import torch_geometric.transforms as T\n",
    "from torch_geometric.nn import SAGEConv\n",
    "import torch\n",
    "import torch.nn as nn\n",
    "import torch.nn.functional as F\n",
    "\n",
    "node_features = [col for col in df.drop(['id', 'formula'], axis=1).columns]\n",
    "\n",
    "data = from_networkx(G, group_node_attrs=node_features)\n",
    "print(data.x.shape)\n",
    "\n",
    "# Map node names to integers\n",
    "mapping = {node: i for i, node in enumerate(G.nodes())}\n",
    "G = nx.relabel_nodes(G, mapping)\n",
    "\n",
    "# Add a new column to data.x with the node names from the mapping\n",
    "node_names = [None] * len(data.x)\n",
    "for node, index in mapping.items():\n",
    "    node_names[index] = node\n",
    "    \n",
    "graph_data = np.column_stack((data.x, node_names))\n",
    "graph_data = pd.DataFrame(graph_data)\n",
    "\n",
    "display(graph_data.head())"
   ]
  },
  {
   "cell_type": "code",
   "execution_count": 44,
   "id": "19c566f5",
   "metadata": {},
   "outputs": [
    {
     "name": "stdout",
     "output_type": "stream",
     "text": [
      "Node embeddings shape: (5620, 4)\n"
     ]
    }
   ],
   "source": [
    "class SAGE(nn.Module):\n",
    "    def __init__(self, in_channels, hidden_channels, num_layers):\n",
    "        super(SAGE, self).__init__()\n",
    "        self.num_layers = num_layers\n",
    "        self.convs = nn.ModuleList()\n",
    "        \n",
    "        for i in range(num_layers):\n",
    "            in_channels = in_channels if i == 0 else hidden_channels\n",
    "            self.convs.append(SAGEConv(in_channels, hidden_channels))\n",
    "\n",
    "    def forward(self, x, adjs):\n",
    "        for i, (edge_index, _, size) in enumerate(adjs):\n",
    "            x_target = x[:size[1]]  # Target nodes are always placed first.\n",
    "            x = self.convs[i]((x, x_target), edge_index)\n",
    "            if i != self.num_layers - 1:\n",
    "                x = x.relu()\n",
    "                x = F.dropout(x, p=0.5, training=self.training)\n",
    "        return x\n",
    "\n",
    "    def full_forward(self, x, edge_index):\n",
    "        for i, conv in enumerate(self.convs):\n",
    "            x = conv(x, edge_index)\n",
    "            if i != self.num_layers - 1:\n",
    "                x = x.relu()\n",
    "                x = F.dropout(x, p=0.5, training=self.training)\n",
    "        return x\n",
    "\n",
    "\n",
    "device = torch.device('cuda' if torch.cuda.is_available() else 'cpu')\n",
    "\n",
    "model = SAGE(data.num_node_features, hidden_channels=4, \\\n",
    "             num_layers=1)\n",
    "\n",
    "model = model.to(device)\n",
    "\n",
    "optimizer = torch.optim.Adam(model.parameters(), lr=0.01)\n",
    "\n",
    "x, edge_index = data.x.to(device), data.edge_index.to(device)\n",
    "\n",
    "# Forward propagate the graph through the model\n",
    "model.eval()\n",
    "with torch.no_grad():\n",
    "    out = model.full_forward(data.x, data.edge_index)\n",
    "\n",
    "# Extract the node embeddings\n",
    "node_embeddings = out.numpy()  # or out.detach().numpy() if using PyTorch version <1.6\n",
    "\n",
    "# Print the shape of the node embeddings matrix\n",
    "print('Node embeddings shape:', node_embeddings.shape)"
   ]
  },
  {
   "cell_type": "code",
   "execution_count": 148,
   "id": "2a2caaec",
   "metadata": {},
   "outputs": [
    {
     "data": {
      "text/html": [
       "<div>\n",
       "<style scoped>\n",
       "    .dataframe tbody tr th:only-of-type {\n",
       "        vertical-align: middle;\n",
       "    }\n",
       "\n",
       "    .dataframe tbody tr th {\n",
       "        vertical-align: top;\n",
       "    }\n",
       "\n",
       "    .dataframe thead th {\n",
       "        text-align: right;\n",
       "    }\n",
       "</style>\n",
       "<table border=\"1\" class=\"dataframe\">\n",
       "  <thead>\n",
       "    <tr style=\"text-align: right;\">\n",
       "      <th></th>\n",
       "      <th>0</th>\n",
       "      <th>1</th>\n",
       "      <th>2</th>\n",
       "      <th>3</th>\n",
       "      <th>id</th>\n",
       "    </tr>\n",
       "  </thead>\n",
       "  <tbody>\n",
       "    <tr>\n",
       "      <th>0</th>\n",
       "      <td>0.441722</td>\n",
       "      <td>-0.347565</td>\n",
       "      <td>-2.931345</td>\n",
       "      <td>0.594922</td>\n",
       "      <td>C00002</td>\n",
       "    </tr>\n",
       "    <tr>\n",
       "      <th>1</th>\n",
       "      <td>0.597105</td>\n",
       "      <td>1.616578</td>\n",
       "      <td>1.081657</td>\n",
       "      <td>-0.932573</td>\n",
       "      <td>C07024</td>\n",
       "    </tr>\n",
       "    <tr>\n",
       "      <th>2</th>\n",
       "      <td>0.461805</td>\n",
       "      <td>1.199976</td>\n",
       "      <td>0.614995</td>\n",
       "      <td>-0.415841</td>\n",
       "      <td>C00003</td>\n",
       "    </tr>\n",
       "    <tr>\n",
       "      <th>3</th>\n",
       "      <td>0.393747</td>\n",
       "      <td>1.137706</td>\n",
       "      <td>0.687152</td>\n",
       "      <td>-0.301356</td>\n",
       "      <td>C00004</td>\n",
       "    </tr>\n",
       "    <tr>\n",
       "      <th>4</th>\n",
       "      <td>0.593800</td>\n",
       "      <td>1.507571</td>\n",
       "      <td>1.299703</td>\n",
       "      <td>-0.936374</td>\n",
       "      <td>C00005</td>\n",
       "    </tr>\n",
       "    <tr>\n",
       "      <th>...</th>\n",
       "      <td>...</td>\n",
       "      <td>...</td>\n",
       "      <td>...</td>\n",
       "      <td>...</td>\n",
       "      <td>...</td>\n",
       "    </tr>\n",
       "    <tr>\n",
       "      <th>5615</th>\n",
       "      <td>4.777917</td>\n",
       "      <td>3.426768</td>\n",
       "      <td>-0.974567</td>\n",
       "      <td>-0.767836</td>\n",
       "      <td>C16487</td>\n",
       "    </tr>\n",
       "    <tr>\n",
       "      <th>5616</th>\n",
       "      <td>-0.086657</td>\n",
       "      <td>0.286581</td>\n",
       "      <td>0.003130</td>\n",
       "      <td>0.550068</td>\n",
       "      <td>C00237</td>\n",
       "    </tr>\n",
       "    <tr>\n",
       "      <th>5617</th>\n",
       "      <td>0.838591</td>\n",
       "      <td>-0.145284</td>\n",
       "      <td>1.091916</td>\n",
       "      <td>-1.103059</td>\n",
       "      <td>C05232</td>\n",
       "    </tr>\n",
       "    <tr>\n",
       "      <th>5618</th>\n",
       "      <td>0.010520</td>\n",
       "      <td>0.095059</td>\n",
       "      <td>-0.517729</td>\n",
       "      <td>0.396282</td>\n",
       "      <td>C00283</td>\n",
       "    </tr>\n",
       "    <tr>\n",
       "      <th>5619</th>\n",
       "      <td>-4.825911</td>\n",
       "      <td>-4.503797</td>\n",
       "      <td>2.822885</td>\n",
       "      <td>0.621343</td>\n",
       "      <td>C01528</td>\n",
       "    </tr>\n",
       "  </tbody>\n",
       "</table>\n",
       "<p>5620 rows × 5 columns</p>\n",
       "</div>"
      ],
      "text/plain": [
       "             0         1         2         3      id\n",
       "0     0.441722 -0.347565 -2.931345  0.594922  C00002\n",
       "1     0.597105  1.616578  1.081657 -0.932573  C07024\n",
       "2     0.461805  1.199976  0.614995 -0.415841  C00003\n",
       "3     0.393747  1.137706  0.687152 -0.301356  C00004\n",
       "4     0.593800  1.507571  1.299703 -0.936374  C00005\n",
       "...        ...       ...       ...       ...     ...\n",
       "5615  4.777917  3.426768 -0.974567 -0.767836  C16487\n",
       "5616 -0.086657  0.286581  0.003130  0.550068  C00237\n",
       "5617  0.838591 -0.145284  1.091916 -1.103059  C05232\n",
       "5618  0.010520  0.095059 -0.517729  0.396282  C00283\n",
       "5619 -4.825911 -4.503797  2.822885  0.621343  C01528\n",
       "\n",
       "[5620 rows x 5 columns]"
      ]
     },
     "execution_count": 148,
     "metadata": {},
     "output_type": "execute_result"
    }
   ],
   "source": [
    "node_embeddings=pd.DataFrame(node_embeddings)\n",
    "node_embeddings['id']  = graph_data[graph_data.shape[1]-1]\n",
    "# node_embeddings.set_index('id', inplace=True)\n",
    "node_embeddings"
   ]
  },
  {
   "cell_type": "code",
   "execution_count": 149,
   "id": "9c048e70",
   "metadata": {
    "scrolled": true
   },
   "outputs": [
    {
     "data": {
      "text/html": [
       "<div>\n",
       "<style scoped>\n",
       "    .dataframe tbody tr th:only-of-type {\n",
       "        vertical-align: middle;\n",
       "    }\n",
       "\n",
       "    .dataframe tbody tr th {\n",
       "        vertical-align: top;\n",
       "    }\n",
       "\n",
       "    .dataframe thead th {\n",
       "        text-align: right;\n",
       "    }\n",
       "</style>\n",
       "<table border=\"1\" class=\"dataframe\">\n",
       "  <thead>\n",
       "    <tr style=\"text-align: right;\">\n",
       "      <th></th>\n",
       "      <th>0</th>\n",
       "      <th>1</th>\n",
       "      <th>2</th>\n",
       "      <th>3</th>\n",
       "      <th>id</th>\n",
       "    </tr>\n",
       "  </thead>\n",
       "  <tbody>\n",
       "    <tr>\n",
       "      <th>2836</th>\n",
       "      <td>0.120062</td>\n",
       "      <td>0.357436</td>\n",
       "      <td>0.464212</td>\n",
       "      <td>-0.107965</td>\n",
       "      <td>C00811</td>\n",
       "    </tr>\n",
       "  </tbody>\n",
       "</table>\n",
       "</div>"
      ],
      "text/plain": [
       "             0         1         2         3      id\n",
       "2836  0.120062  0.357436  0.464212 -0.107965  C00811"
      ]
     },
     "execution_count": 149,
     "metadata": {},
     "output_type": "execute_result"
    }
   ],
   "source": [
    "node_embeddings[node_embeddings['id'] == 'C00811']"
   ]
  },
  {
   "cell_type": "code",
   "execution_count": 150,
   "id": "27bbfa19",
   "metadata": {},
   "outputs": [
    {
     "data": {
      "text/html": [
       "<div>\n",
       "<style scoped>\n",
       "    .dataframe tbody tr th:only-of-type {\n",
       "        vertical-align: middle;\n",
       "    }\n",
       "\n",
       "    .dataframe tbody tr th {\n",
       "        vertical-align: top;\n",
       "    }\n",
       "\n",
       "    .dataframe thead th {\n",
       "        text-align: right;\n",
       "    }\n",
       "</style>\n",
       "<table border=\"1\" class=\"dataframe\">\n",
       "  <thead>\n",
       "    <tr style=\"text-align: right;\">\n",
       "      <th></th>\n",
       "      <th>0</th>\n",
       "      <th>1</th>\n",
       "      <th>2</th>\n",
       "      <th>3</th>\n",
       "      <th>id</th>\n",
       "    </tr>\n",
       "  </thead>\n",
       "  <tbody>\n",
       "    <tr>\n",
       "      <th>4147</th>\n",
       "      <td>0.034261</td>\n",
       "      <td>-0.132567</td>\n",
       "      <td>-1.27845</td>\n",
       "      <td>0.256991</td>\n",
       "      <td>C00013</td>\n",
       "    </tr>\n",
       "  </tbody>\n",
       "</table>\n",
       "</div>"
      ],
      "text/plain": [
       "             0         1        2         3      id\n",
       "4147  0.034261 -0.132567 -1.27845  0.256991  C00013"
      ]
     },
     "execution_count": 150,
     "metadata": {},
     "output_type": "execute_result"
    }
   ],
   "source": [
    "node_embeddings[node_embeddings['id'] == 'C00013']"
   ]
  },
  {
   "cell_type": "code",
   "execution_count": 151,
   "id": "434b54c8",
   "metadata": {},
   "outputs": [
    {
     "data": {
      "text/html": [
       "<div>\n",
       "<style scoped>\n",
       "    .dataframe tbody tr th:only-of-type {\n",
       "        vertical-align: middle;\n",
       "    }\n",
       "\n",
       "    .dataframe tbody tr th {\n",
       "        vertical-align: top;\n",
       "    }\n",
       "\n",
       "    .dataframe thead th {\n",
       "        text-align: right;\n",
       "    }\n",
       "</style>\n",
       "<table border=\"1\" class=\"dataframe\">\n",
       "  <thead>\n",
       "    <tr style=\"text-align: right;\">\n",
       "      <th></th>\n",
       "      <th>0</th>\n",
       "      <th>1</th>\n",
       "      <th>2</th>\n",
       "      <th>3</th>\n",
       "      <th>id</th>\n",
       "    </tr>\n",
       "  </thead>\n",
       "  <tbody>\n",
       "    <tr>\n",
       "      <th>3809</th>\n",
       "      <td>-0.006893</td>\n",
       "      <td>0.218506</td>\n",
       "      <td>0.591352</td>\n",
       "      <td>-0.033146</td>\n",
       "      <td>C00146</td>\n",
       "    </tr>\n",
       "  </tbody>\n",
       "</table>\n",
       "</div>"
      ],
      "text/plain": [
       "             0         1         2         3      id\n",
       "3809 -0.006893  0.218506  0.591352 -0.033146  C00146"
      ]
     },
     "execution_count": 151,
     "metadata": {},
     "output_type": "execute_result"
    }
   ],
   "source": [
    "node_embeddings[node_embeddings['id'] == 'C00146']"
   ]
  },
  {
   "cell_type": "code",
   "execution_count": 158,
   "id": "7b4e15cf",
   "metadata": {},
   "outputs": [
    {
     "name": "stdout",
     "output_type": "stream",
     "text": [
      "0.4756511205004293\n"
     ]
    }
   ],
   "source": [
    "from sklearn.metrics.pairwise import cosine_similarity\n",
    "from scipy.stats import pearsonr\n",
    "\n",
    "# Suppose you have the node embeddings in a dictionary called 'embeddings'\n",
    "u_embedding = node_embeddings.iloc[62,:-1]\n",
    "v_embedding = node_embeddings.iloc[3809,:-1]\n",
    "\n",
    "similarity = cosine_similarity(u_embedding.values.reshape(1, -1), v_embedding.values.reshape(1, -1))[0, 0]\n",
    "print(similarity)"
   ]
  },
  {
   "cell_type": "code",
   "execution_count": 153,
   "id": "37ae1f5e",
   "metadata": {},
   "outputs": [
    {
     "name": "stdout",
     "output_type": "stream",
     "text": [
      "0.38470953227899024\n"
     ]
    }
   ],
   "source": [
    "similarity, _ = pearsonr(u_embedding, v_embedding)\n",
    "print(similarity)"
   ]
  },
  {
   "cell_type": "code",
   "execution_count": 154,
   "id": "7869d8b3",
   "metadata": {},
   "outputs": [
    {
     "name": "stdout",
     "output_type": "stream",
     "text": [
      "0.24253645835351192\n"
     ]
    }
   ],
   "source": [
    "distance = np.linalg.norm(u_embedding - v_embedding)\n",
    "similarity = 1 / (1 + distance)\n",
    "print(similarity)"
   ]
  },
  {
   "cell_type": "code",
   "execution_count": null,
   "id": "b5a4d14d",
   "metadata": {},
   "outputs": [],
   "source": []
  },
  {
   "cell_type": "code",
   "execution_count": null,
   "id": "ffb478b8",
   "metadata": {},
   "outputs": [],
   "source": []
  },
  {
   "cell_type": "code",
   "execution_count": null,
   "id": "e4b9335a",
   "metadata": {},
   "outputs": [],
   "source": []
  },
  {
   "cell_type": "code",
   "execution_count": null,
   "id": "13717131",
   "metadata": {},
   "outputs": [],
   "source": []
  },
  {
   "cell_type": "code",
   "execution_count": 159,
   "id": "ee0c0a4b",
   "metadata": {},
   "outputs": [
    {
     "data": {
      "text/html": [
       "<div>\n",
       "<style scoped>\n",
       "    .dataframe tbody tr th:only-of-type {\n",
       "        vertical-align: middle;\n",
       "    }\n",
       "\n",
       "    .dataframe tbody tr th {\n",
       "        vertical-align: top;\n",
       "    }\n",
       "\n",
       "    .dataframe thead th {\n",
       "        text-align: right;\n",
       "    }\n",
       "</style>\n",
       "<table border=\"1\" class=\"dataframe\">\n",
       "  <thead>\n",
       "    <tr style=\"text-align: right;\">\n",
       "      <th></th>\n",
       "      <th>Reactant_pair</th>\n",
       "      <th>source</th>\n",
       "      <th>target</th>\n",
       "      <th>MW</th>\n",
       "      <th>MW_wCentr</th>\n",
       "      <th>cos_sim</th>\n",
       "    </tr>\n",
       "  </thead>\n",
       "  <tbody>\n",
       "    <tr>\n",
       "      <th>0</th>\n",
       "      <td>C00002_C07024</td>\n",
       "      <td>C00002</td>\n",
       "      <td>C07024</td>\n",
       "      <td>0.001976</td>\n",
       "      <td>0.100431</td>\n",
       "      <td>1.590680</td>\n",
       "    </tr>\n",
       "    <tr>\n",
       "      <th>1</th>\n",
       "      <td>C00003_C00004</td>\n",
       "      <td>C00003</td>\n",
       "      <td>C00004</td>\n",
       "      <td>0.000752</td>\n",
       "      <td>0.001602</td>\n",
       "      <td>0.005330</td>\n",
       "    </tr>\n",
       "    <tr>\n",
       "      <th>2</th>\n",
       "      <td>C00005_C00006</td>\n",
       "      <td>C00005</td>\n",
       "      <td>C00006</td>\n",
       "      <td>0.000672</td>\n",
       "      <td>0.000305</td>\n",
       "      <td>0.004183</td>\n",
       "    </tr>\n",
       "    <tr>\n",
       "      <th>3</th>\n",
       "      <td>C00007_C00027</td>\n",
       "      <td>C00007</td>\n",
       "      <td>C00027</td>\n",
       "      <td>0.030303</td>\n",
       "      <td>0.280698</td>\n",
       "      <td>1.898238</td>\n",
       "    </tr>\n",
       "    <tr>\n",
       "      <th>4</th>\n",
       "      <td>C00011_C00058</td>\n",
       "      <td>C00011</td>\n",
       "      <td>C00058</td>\n",
       "      <td>0.022222</td>\n",
       "      <td>0.053514</td>\n",
       "      <td>0.437329</td>\n",
       "    </tr>\n",
       "  </tbody>\n",
       "</table>\n",
       "</div>"
      ],
      "text/plain": [
       "   Reactant_pair  source  target        MW  MW_wCentr   cos_sim\n",
       "0  C00002_C07024  C00002  C07024  0.001976   0.100431  1.590680\n",
       "1  C00003_C00004  C00003  C00004  0.000752   0.001602  0.005330\n",
       "2  C00005_C00006  C00005  C00006  0.000672   0.000305  0.004183\n",
       "3  C00007_C00027  C00007  C00027  0.030303   0.280698  1.898238\n",
       "4  C00011_C00058  C00011  C00058  0.022222   0.053514  0.437329"
      ]
     },
     "execution_count": 159,
     "metadata": {},
     "output_type": "execute_result"
    }
   ],
   "source": [
    "# Add cosine similarity from embedding to pairs \n",
    "cos_sim = []\n",
    "for row in range(len(pairs)):\n",
    "    \n",
    "    source = pairs['source'].iloc[row]\n",
    "    target = pairs['target'].iloc[row]\n",
    "    \n",
    "    u_embedding = node_embeddings[node_embeddings['id'] == source].iloc[0, :-1]\n",
    "    v_embedding = node_embeddings[node_embeddings['id'] == target].iloc[0, :-1]\n",
    "\n",
    "    similarity = cosine_similarity(u_embedding.values.reshape(1, -1), v_embedding.values.reshape(1, -1))[0, 0]\n",
    "    cos_sim.append(similarity)\n",
    "    \n",
    "pairs['cos_sim'] = cos_sim\n",
    "# pairs['cos_sim'] = (pairs['cos_sim'] + 1) / 2\n",
    "pairs['cos_sim'] = 1 - pairs['cos_sim']\n",
    "\n",
    "pairs.head()"
   ]
  },
  {
   "cell_type": "code",
   "execution_count": 162,
   "id": "f6d5e03a",
   "metadata": {},
   "outputs": [
    {
     "name": "stdout",
     "output_type": "stream",
     "text": [
      "count    1.074700e+04\n",
      "mean     9.511019e-01\n",
      "std      7.280763e-01\n",
      "min     -2.220446e-16\n",
      "25%      1.909888e-01\n",
      "50%      9.043138e-01\n",
      "75%      1.726002e+00\n",
      "max      1.998921e+00\n",
      "Name: cos_sim, dtype: float64\n"
     ]
    }
   ],
   "source": [
    "print(pairs['cos_sim'].describe())\n",
    "\n",
    "pairs['cos_sim'] = pairs['cos_sim'].apply(lambda x: max(0,x))"
   ]
  },
  {
   "cell_type": "markdown",
   "id": "326ab9f5",
   "metadata": {},
   "source": [
    "# Import to Networkx "
   ]
  },
  {
   "cell_type": "code",
   "execution_count": 163,
   "id": "b709e225",
   "metadata": {},
   "outputs": [
    {
     "name": "stdout",
     "output_type": "stream",
     "text": [
      "# nodes: 5620 \n",
      "# edges: 10747\n"
     ]
    }
   ],
   "source": [
    "import networkx as nx\n",
    "\n",
    "df = df_copy.copy()\n",
    "G = nx.Graph()\n",
    "\n",
    "# iterate over the rows of the DataFrame and add each edge to the graph\n",
    "for index, row in pairs.iterrows():\n",
    "    source = row['source']\n",
    "    target = row['target']\n",
    "    G.add_edge(source, target)\n",
    "\n",
    "# Add df cols as node features\n",
    "node_data = df.set_index('id').to_dict('index')\n",
    "\n",
    "# Add the node features to the graph\n",
    "for node, data in G.nodes(data=True):\n",
    "    node_features = node_data.get(node)\n",
    "    if node_features:\n",
    "        data.update(node_features)\n",
    "\n",
    "print('# nodes:', G.number_of_nodes(), \"\\n# edges:\", G.number_of_edges())"
   ]
  },
  {
   "cell_type": "markdown",
   "id": "016f92a6",
   "metadata": {},
   "source": [
    "## Add edge attributes"
   ]
  },
  {
   "cell_type": "code",
   "execution_count": 164,
   "id": "88bf44df",
   "metadata": {
    "tags": []
   },
   "outputs": [],
   "source": [
    "def get_weights(a,b, method):\n",
    "    \n",
    "    # a_C and b_C is the number of C at each compound\n",
    "    a_C = df[df['id']==a]['C'].values\n",
    "    b_C = df[df['id']==b]['C'].values\n",
    "    if (a_C != 0 and b_C == 0) or (a_C == 0 and b_C != 0):\n",
    "        return 999\n",
    "    \n",
    "    try:\n",
    "        w = pairs[(pairs['source'] == a) & (pairs['target'] == b)][method].values[0]\n",
    "    except IndexError:\n",
    "        w = pairs[(pairs['source'] == b) & (pairs['target'] == a)][method].values[0]\n",
    "    \n",
    "    return w\n",
    "\n",
    "for edge in G.edges():\n",
    "    G.edges[(edge[0], edge[1])]['weight'] = \\\n",
    "            get_weights(edge[0], edge[1], method='cos_sim')"
   ]
  },
  {
   "cell_type": "code",
   "execution_count": 165,
   "id": "55797918",
   "metadata": {},
   "outputs": [
    {
     "data": {
      "text/plain": [
       "['C00082',\n",
       " 'C00811',\n",
       " 'C01197',\n",
       " 'C01494',\n",
       " 'C05619',\n",
       " 'C00482',\n",
       " 'C05610',\n",
       " 'C02325',\n",
       " 'C01533']"
      ]
     },
     "execution_count": 165,
     "metadata": {},
     "output_type": "execute_result"
    }
   ],
   "source": [
    "source = 'C00082'\n",
    "target = 'C01533'\n",
    "list(nx.shortest_path(G, source, target, weight='weight'))"
   ]
  },
  {
   "cell_type": "code",
   "execution_count": 166,
   "id": "1120bd92",
   "metadata": {},
   "outputs": [
    {
     "data": {
      "text/plain": [
       "['C07481', 'C13747', 'C00067', 'C16353', 'C00385']"
      ]
     },
     "execution_count": 166,
     "metadata": {},
     "output_type": "execute_result"
    }
   ],
   "source": [
    "source = 'C07481'\n",
    "target = 'C00385'\n",
    "list(nx.shortest_path(G, source, target, weight='weight'))"
   ]
  },
  {
   "cell_type": "markdown",
   "id": "2b7981d8",
   "metadata": {
    "tags": []
   },
   "source": [
    "### Load file with test cases fron NICEpath"
   ]
  },
  {
   "cell_type": "code",
   "execution_count": 167,
   "id": "dd12998e",
   "metadata": {},
   "outputs": [
    {
     "data": {
      "text/html": [
       "<div>\n",
       "<style scoped>\n",
       "    .dataframe tbody tr th:only-of-type {\n",
       "        vertical-align: middle;\n",
       "    }\n",
       "\n",
       "    .dataframe tbody tr th {\n",
       "        vertical-align: top;\n",
       "    }\n",
       "\n",
       "    .dataframe thead th {\n",
       "        text-align: right;\n",
       "    }\n",
       "</style>\n",
       "<table border=\"1\" class=\"dataframe\">\n",
       "  <thead>\n",
       "    <tr style=\"text-align: right;\">\n",
       "      <th></th>\n",
       "      <th>Pathway</th>\n",
       "      <th>source</th>\n",
       "      <th>target</th>\n",
       "    </tr>\n",
       "  </thead>\n",
       "  <tbody>\n",
       "    <tr>\n",
       "      <th>0</th>\n",
       "      <td>C00082,C00811,C01197,C01494,C05619,C00482,C056...</td>\n",
       "      <td>C00082</td>\n",
       "      <td>C01533</td>\n",
       "    </tr>\n",
       "    <tr>\n",
       "      <th>1</th>\n",
       "      <td>C00223,C00323,C00406,C02666,C00590,C00761</td>\n",
       "      <td>C00223</td>\n",
       "      <td>C00761</td>\n",
       "    </tr>\n",
       "    <tr>\n",
       "      <th>2</th>\n",
       "      <td>C00811,C01197,C01494,C05619,C00482,C01175,C02887</td>\n",
       "      <td>C00811</td>\n",
       "      <td>C02887</td>\n",
       "    </tr>\n",
       "  </tbody>\n",
       "</table>\n",
       "</div>"
      ],
      "text/plain": [
       "                                            Pathway   source  target\n",
       "0  C00082,C00811,C01197,C01494,C05619,C00482,C056...  C00082  C01533\n",
       "1          C00223,C00323,C00406,C02666,C00590,C00761  C00223  C00761\n",
       "2   C00811,C01197,C01494,C05619,C00482,C01175,C02887  C00811  C02887"
      ]
     },
     "execution_count": 167,
     "metadata": {},
     "output_type": "execute_result"
    }
   ],
   "source": [
    "test_cases = pd.read_csv('data/test_cases.csv')\n",
    "test_cases['source'] = test_cases['Pathway '].apply(lambda x: x.split(',')[0])\n",
    "test_cases['target'] = test_cases['Pathway '].apply(lambda x: x.split(',')[len(x.split(','))-1])\n",
    "test_cases.head(3)"
   ]
  },
  {
   "cell_type": "code",
   "execution_count": 168,
   "id": "8719e0bd",
   "metadata": {},
   "outputs": [
    {
     "name": "stdout",
     "output_type": "stream",
     "text": [
      "['C00082', 'C00811', 'C01197', 'C01494', 'C05619', 'C00482', 'C05610', 'C02325', 'C01533']\n",
      "['C00223', 'C00323', 'C00406', 'C12203', 'C05619', 'C01494', 'C02666', 'C00590', 'C00761']\n",
      "['C00811', 'C01197', 'C01494', 'C05619', 'C00482', 'C01175', 'C02887']\n",
      "['C00079', 'C00082', 'C00811', 'C01197', 'C01494', 'C05619', 'C12203', 'C00406', 'C00323', 'C00223', 'C00540', 'C00903']\n",
      "['C00223', 'C00323', 'C00406', 'C17741', 'C10443', 'C17749', 'C17750']\n",
      "['C06561', 'C00509', 'C16492', 'C01460']\n",
      "['C05903', 'C12249', 'C12634', 'C12635', 'C12636']\n",
      "['C01477', 'C04608', 'C04858', 'C01623', 'C00015', 'C00167', 'C04900']\n",
      "['C05903', 'C00389', 'C10107', 'C12633', 'C11620']\n",
      "['C05905', 'C08604', 'C08639', 'C12096', 'C16299']\n",
      "['C05904', 'C12137', 'C08725', 'C12640', 'C12641', 'C12647']\n",
      "['C05908', 'C12138', 'C16301', 'C16304', 'C16303']\n",
      "['C00078', 'C00398', 'C21762', 'C21778', 'C21779', 'C07576']\n",
      "['C06160', 'C03758', 'C00355', 'C00082', 'C02993', 'C00062', 'C00179', 'C00134', 'C00041', 'C00037', 'C00025', 'C00011', 'C00019', 'C21591', 'C20299']\n",
      "['C05191', 'C05247', 'C05194', 'C05193', 'C05316', 'C06165']\n",
      "['C00079', 'C00082', 'C00811', 'C01197', 'C01494', 'C05619', 'C12203', 'C00406', 'C00323', 'C00223', 'C00540', 'C16257', 'C10860']\n",
      "['C00047', 'C04076', 'C00450', 'C00408']\n",
      "['C07481', 'C13747', 'C00067', 'C16353', 'C00385']\n",
      "['C00082', 'C00355', 'C03758', 'C08557']\n",
      "['C08539', 'C08540', 'C08537', 'C08542']\n",
      "['C00441', 'C00263', 'C01102', 'C00188', 'C20917', 'C20918', 'C20921']\n",
      "['C01121', 'C04767', 'C01221', 'C01138', 'C00413']\n",
      "['C02627', 'C20353', 'C20614', 'C21251', 'C01822']\n",
      "['C00043', 'C17587', 'C01759']\n",
      "['C00043', 'C21261', 'C21262', 'C21263']\n",
      "['C12468', 'C20637', 'C12477', 'C00020', 'C00049', 'C00079', 'C00064', 'C00169', 'C05080']\n",
      "['C08588', 'C19867', 'C19868', 'C17513', 'C08589']\n",
      "['C20953', 'C21085', 'C21086', 'C21087', 'C20940', 'C20941', 'C20942']\n",
      "['C00002', 'C00019', 'C01610']\n",
      "['C00047', 'C05341', 'C00099', 'C00049', 'C00020', 'C20333', 'C05554']\n",
      "['C00750', 'C00315', 'C20560', 'C00179', 'C00062', 'C00077', 'C00437', 'C15532', 'C00169', 'C01563', 'C20231', 'C00106']\n",
      "['C00418', 'C01107', 'C01143', 'C00129', 'C00353', 'C00448', 'C01126', 'C03461']\n",
      "['C00341', 'C00521', 'C01123', 'C02289', 'C11951', 'C09893', 'C00843', 'C00400']\n",
      "['C00341', 'C06074', 'C20943', 'C20944']\n",
      "['C11899', 'C11700', 'C11900', 'C16523', 'C16524', 'C07394']\n",
      "['C05413', 'C05414', 'C05430', 'C05431', 'C05432', 'C19795', 'C15874', 'C15877', 'C15878', 'C15879', 'C15881']\n",
      "['C05413', 'C05414', 'C05430', 'C05431', 'C15892', 'C15898', 'C15900']\n",
      "['C01789', 'C15784', 'C15785', 'C15786', 'C15787', 'C15788', 'C15789', 'C15790', 'C15791']\n",
      "['C01126', 'C03461', 'C16502', 'C16504', 'C16506', 'C16505', 'C16507']\n",
      "['C00082', 'C01179', 'C03765', 'C00642', 'C01161', 'C05582']\n",
      "['C00180', 'C00805', 'C00628', 'C00587', 'C05195', 'C00512', 'C09820', 'C00091']\n",
      "['C09822', 'C09823', 'C09811', 'C06322', 'C06749', 'C09824', 'C09825', 'C06714', 'C06715']\n",
      "['C06789', 'C06790', 'C06791', 'C06793', 'C06547', 'C06548', 'C01380', 'C00266', 'C00168', 'C00258', 'C00552', 'C00036', 'C00049', 'C00041', 'C00022', 'C00033', 'C00024']\n",
      "['C01455', 'C09816', 'C00042', 'C00490', 'C00531', 'C00091', 'C09820', 'C00512']\n",
      "['C06756', 'C06757', 'C06758', 'C01454', 'C06729', 'C06730']\n",
      "['C16391', 'C16393', 'C16395', 'C16396', 'C16400']\n",
      "['C07083', 'C00423', 'C00079', 'C00049', 'C00122', 'C00149', 'C00186']\n",
      "['C11249', 'C00854', 'C00414', 'C01880', 'C06103', 'C06102', 'C06104', 'C14143', 'C14144', 'C14145', 'C02232']\n",
      "['C00829', 'C14786', 'C04314', 'C03012', 'C03203', 'C01275', 'C03057', 'C01606', 'C04783', 'C03233', 'C00230', 'C00090', 'C00196', 'C00587', 'C00628', 'C00805']\n",
      "['C07535', 'C18270', 'C18279', 'C18277', 'C18283']\n"
     ]
    }
   ],
   "source": [
    "for row in range(len(test_cases)):\n",
    "    source = test_cases['source'].iloc[row]\n",
    "    target = test_cases['target'].iloc[row]\n",
    "    print(list(nx.shortest_path(G, source, target, weight='weight')))"
   ]
  },
  {
   "cell_type": "code",
   "execution_count": null,
   "id": "d2444fb9",
   "metadata": {},
   "outputs": [],
   "source": []
  },
  {
   "cell_type": "code",
   "execution_count": null,
   "id": "9aa398e5",
   "metadata": {},
   "outputs": [],
   "source": []
  }
 ],
 "metadata": {
  "kernelspec": {
   "display_name": "Python 3 (ipykernel)",
   "language": "python",
   "name": "python3"
  },
  "language_info": {
   "codemirror_mode": {
    "name": "ipython",
    "version": 3
   },
   "file_extension": ".py",
   "mimetype": "text/x-python",
   "name": "python",
   "nbconvert_exporter": "python",
   "pygments_lexer": "ipython3",
   "version": "3.9.10"
  }
 },
 "nbformat": 4,
 "nbformat_minor": 5
}
